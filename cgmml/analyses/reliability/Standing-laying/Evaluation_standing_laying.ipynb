{
 "metadata": {
  "language_info": {
   "codemirror_mode": {
    "name": "ipython",
    "version": 3
   },
   "file_extension": ".py",
   "mimetype": "text/x-python",
   "name": "python",
   "nbconvert_exporter": "python",
   "pygments_lexer": "ipython3",
   "version": "3.7.7-final"
  },
  "orig_nbformat": 2,
  "kernelspec": {
   "name": "Python 3.7.7 64-bit",
   "display_name": "Python 3.7.7 64-bit",
   "metadata": {
    "interpreter": {
     "hash": "df955ce39d0f31d56d4bb2fe0a613e5326ba60723fd33d8303a3aede8f65715c"
    }
   }
  }
 },
 "nbformat": 4,
 "nbformat_minor": 2,
 "cells": [
  {
   "cell_type": "markdown",
   "source": [
    "## This notebook aims to verify the use of standing-laying classifer and find the threshold value for result generation "
   ],
   "metadata": {}
  },
  {
   "cell_type": "markdown",
   "source": [
    "### About standing laying classifier Model(Validation accuracy is 99%)\n",
    "1. Give result between 0 and 1\n",
    "2. Less the 1 but close to 1  means children is standing \n",
    "3. Greater then 0 but close to 0 means children is laying\n",
    "4. Any random value between 0.1 and 0.9 - some body parts not present in image"
   ],
   "metadata": {}
  },
  {
   "cell_type": "code",
   "execution_count": null,
   "source": [
    "import glob2 as glob\n",
    "import numpy as np\n",
    "import cv2\n",
    "from tensorflow.keras.models import load_model\n",
    "import matplotlib.pyplot as plt\n",
    "import matplotlib.image as mpimg\n",
    "from utils import (REPO_DIR,get_timestamp_from_pcd,get_timestamp_from_rgb,find_closest,standing_laying_predict,download_model)\n",
    "from azureml.core import Workspace"
   ],
   "outputs": [],
   "metadata": {}
  },
  {
   "cell_type": "markdown",
   "source": [
    "#### Mount the dataset with compute instance or downlaod the dataset locally \n",
    "#### Dataset use are :- anon-rgb-classification"
   ],
   "metadata": {}
  },
  {
   "cell_type": "code",
   "execution_count": null,
   "source": [
    "DATA=REPO_DIR / 'data' / 'anon-rgb-classification' / 'test' / 'scan'\n",
    "qr_codes = glob.glob(os.path.join(DATA, \"qrcode/*\")) # Find all the qr code present in dataset"
   ],
   "outputs": [],
   "metadata": {}
  },
  {
   "cell_type": "markdown",
   "source": [
    "### Find the timestamp of PCDs and RGBs artifacts. And find the closest timestamp of RGBs with every PCDs in this way we can say the both artifacts is at the same time."
   ],
   "metadata": {}
  },
  {
   "cell_type": "code",
   "execution_count": null,
   "source": [
    "qrcode_pcd_rgb=[]\n",
    "for qr_code in qr_codes:\n",
    "    pcd_paths = glob.glob(os.path.join(qr_code, \"measure/*/pc/*\"))   # Find all the pcd in the particular qrcode\n",
    "    rgb_paths = glob.glob(os.path.join(qr_code, 'measure/*/rgb/*'))  # Find all the rgb in the particular qrcode\n",
    "    pcd_timestamp=[]\n",
    "    for pcd_path in pcd_paths:\n",
    "        time_stamp=get_timestamp_from_pcd(pcd_path)\n",
    "        pcd_timestamp.append(time_stamp)\n",
    "    rgb_timestamp=[]\n",
    "    for rgb_path in rgb_paths:\n",
    "        rgb_timestamp.append(get_timestamp_from_rgb(rgb_path))\n",
    "    rgb_timestamp=np.asarray(rgb_timestamp)\n",
    "    i=0\n",
    "    files=[]\n",
    "    for pcd_s in pcd_timestamp:\n",
    "        nn = find_closest(rgb_timestamp, pcd_s)\n",
    "        files.append([rgb_paths[nn],pcd_paths[i]])\n",
    "        i=i+1\n",
    "    qrcode_pcd_rgb.append(files)"
   ],
   "outputs": [],
   "metadata": {
    "tags": []
   }
  },
  {
   "cell_type": "markdown",
   "source": [
    "### Download Standing-laying classifer model"
   ],
   "metadata": {}
  },
  {
   "cell_type": "code",
   "execution_count": null,
   "source": [
    "workspace = Workspace.from_config()\n",
    "EXPERIMENT_NAME='q4-rgb-plaincnn-classifaction-standing-lying-8k'\n",
    "RUN_ID='q4-rgb-plaincnn-classifaction-standing-lying-8k_1602316038_3ebdb326'\n",
    "INPUT_LOCATION = 'outputs/best_model.h5'\n",
    "OUTPUT_LOCATION= REPO_DIR / 'cgmml' / 'analyses' / 'reliability' / 'Standing-laying'\n",
    "download_model(workspace, EXPERIMENT_NAME, RUN_ID, INPUT_LOCATION, OUTPUT_LOCATION)"
   ],
   "outputs": [],
   "metadata": {}
  },
  {
   "cell_type": "markdown",
   "source": [
    "#### Find the prediction of standing-laying classifier on all corresponding rgb images"
   ],
   "metadata": {}
  },
  {
   "cell_type": "code",
   "execution_count": null,
   "source": [
    "model = load_model(OUTPUT_LOCATION / 'best_model.h5') \n",
    "qrcodes_predicts=standing_laying_predict(qrcode_pcd_rgb,model)"
   ],
   "outputs": [],
   "metadata": {
    "tags": []
   }
  },
  {
   "cell_type": "markdown",
   "source": [
    "## Visualize"
   ],
   "metadata": {}
  },
  {
   "cell_type": "markdown",
   "source": [
    "#### Image of standing child with 0.32 score"
   ],
   "metadata": {}
  },
  {
   "cell_type": "code",
   "execution_count": null,
   "source": [
    "%pylab inline\n",
    "img = mpimg.imread(str(qrcodes_predicts[7][16][2]))\n",
    "imgplot = plt.imshow(img)\n",
    "plt.show()\n",
    "print(qrcodes_predicts[7][16][0])"
   ],
   "outputs": [],
   "metadata": {}
  },
  {
   "cell_type": "markdown",
   "source": [
    "#### Image of standing child with 0.99 score"
   ],
   "metadata": {}
  },
  {
   "cell_type": "code",
   "execution_count": null,
   "source": [
    "%pylab inline\n",
    "img = mpimg.imread(str(qrcodes_predicts[7][0][2]))\n",
    "imgplot = plt.imshow(img)\n",
    "plt.show()\n",
    "print(qrcodes_predicts[7][0][0])"
   ],
   "outputs": [],
   "metadata": {}
  },
  {
   "cell_type": "markdown",
   "source": [
    "### Findings:\n",
    "1. Threshold can be 0.98 for standing and 0.02 for laying\n",
    "2. If for standing confidence score is below 0.98 then the corresponding PCDs is discarted\n",
    "3. If the laying confidece score is greater then 0.02 then the corresponding PCDs is discarted"
   ],
   "metadata": {}
  },
  {
   "cell_type": "markdown",
   "source": [
    "### Upcoming Task:\n",
    "1. Create unclean dataset for proper evaluation \n",
    "2. Filter out inaccurate data\n",
    "3. Check the ML performance \n",
    "4. Evaluation of model on based of standing/laying\n",
    "5. Add more class to the classifier"
   ],
   "metadata": {}
  },
  {
   "cell_type": "code",
   "execution_count": null,
   "source": [],
   "outputs": [],
   "metadata": {}
  }
 ]
}