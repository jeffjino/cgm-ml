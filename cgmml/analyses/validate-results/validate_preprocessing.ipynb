{
 "cells": [
  {
   "cell_type": "code",
   "execution_count": 267,
   "metadata": {},
   "outputs": [],
   "source": [
    "from pathlib import Path\n",
    "import sys\n",
    "import zipfile\n",
    "from typing import List\n",
    "import numpy as np\n",
    "import cv2\n",
    "from matplotlib import pyplot as plt\n",
    "import tensorflow as tf\n",
    "import pickle\n",
    "from glob import glob\n",
    "from typing import Tuple\n",
    "import os"
   ]
  },
  {
   "cell_type": "markdown",
   "metadata": {},
   "source": [
    "## ML preprocessing pipeline"
   ]
  },
  {
   "cell_type": "code",
   "execution_count": 196,
   "metadata": {},
   "outputs": [],
   "source": [
    "def load_depth(fpath: str) -> Tuple[bytes, int, int, float, float]:\n",
    "    with zipfile.ZipFile(fpath) as z:\n",
    "        with z.open('data') as f:\n",
    "            # Example for a first_line:\n",
    "            # '180x135_0.001_7_0.57045287_-0.0057296_0.0022602521_0.82130724_-0.059177425_0.0024800065_0.030834956'\n",
    "            first_line = f.readline().decode().strip()\n",
    "\n",
    "            file_header = first_line.split(\"_\")\n",
    "\n",
    "            # header[0] example: 180x135\n",
    "            width, height = file_header[0].split(\"x\")\n",
    "            width, height = int(width), int(height)\n",
    "            depth_scale = float(file_header[1])\n",
    "            max_confidence = float(file_header[2])\n",
    "\n",
    "            depth_data = f.read()\n",
    "    return depth_data, width, height, depth_scale, max_confidence"
   ]
  },
  {
   "cell_type": "code",
   "execution_count": 259,
   "metadata": {},
   "outputs": [],
   "source": [
    "IDENTITY_MATRIX_4D = [1., 0., 0., 0.,\n",
    "                      0., 1., 0., 0.,\n",
    "                      0., 0., 1., 0.,\n",
    "                      0., 0., 0., 1.]"
   ]
  },
  {
   "cell_type": "code",
   "execution_count": 260,
   "metadata": {},
   "outputs": [],
   "source": [
    "def matrix_calculate(position: List[float], rotation: List[float]) -> List[float]:\n",
    "    \"\"\"Calculate a matrix image->world from device position and rotation\"\"\"\n",
    "\n",
    "    output = IDENTITY_MATRIX_4D\n",
    "\n",
    "    sqw = rotation[3] * rotation[3]\n",
    "    sqx = rotation[0] * rotation[0]\n",
    "    sqy = rotation[1] * rotation[1]\n",
    "    sqz = rotation[2] * rotation[2]\n",
    "\n",
    "    invs = 1 / (sqx + sqy + sqz + sqw)\n",
    "    output[0] = (sqx - sqy - sqz + sqw) * invs\n",
    "    output[5] = (-sqx + sqy - sqz + sqw) * invs\n",
    "    output[10] = (-sqx - sqy + sqz + sqw) * invs\n",
    "\n",
    "    tmp1 = rotation[0] * rotation[1]\n",
    "    tmp2 = rotation[2] * rotation[3]\n",
    "    output[1] = 2.0 * (tmp1 + tmp2) * invs\n",
    "    output[4] = 2.0 * (tmp1 - tmp2) * invs\n",
    "\n",
    "    tmp1 = rotation[0] * rotation[2]\n",
    "    tmp2 = rotation[1] * rotation[3]\n",
    "    output[2] = 2.0 * (tmp1 - tmp2) * invs\n",
    "    output[8] = 2.0 * (tmp1 + tmp2) * invs\n",
    "\n",
    "    tmp1 = rotation[1] * rotation[2]\n",
    "    tmp2 = rotation[0] * rotation[3]\n",
    "    output[6] = 2.0 * (tmp1 + tmp2) * invs\n",
    "    output[9] = 2.0 * (tmp1 - tmp2) * invs\n",
    "\n",
    "    output[12] = -position[0]\n",
    "    output[13] = -position[1]\n",
    "    output[14] = -position[2]\n",
    "    return output"
   ]
  },
  {
   "cell_type": "code",
   "execution_count": 261,
   "metadata": {},
   "outputs": [],
   "source": [
    "def read_depthmap_data(path):\n",
    "#         path = extract_depthmap(depthmap_fpath)\n",
    "        with open(path, 'rb') as f:\n",
    "            header_line = f.readline().decode().strip()\n",
    "            header_parts = header_line.split('_')\n",
    "            res = header_parts[0].split('x')\n",
    "            width = int(res[0])\n",
    "            height = int(res[1])\n",
    "            depth_scale = float(header_parts[1])\n",
    "            max_confidence = float(header_parts[2])\n",
    "            if len(header_parts) >= 10:\n",
    "                position = (float(header_parts[7]), float(header_parts[8]), float(header_parts[9]))\n",
    "                rotation = (float(header_parts[3]), float(header_parts[4]),\n",
    "                            float(header_parts[5]), float(header_parts[6]))\n",
    "                device_pose = matrix_calculate(position, rotation)\n",
    "            else:\n",
    "                device_pose = IDENTITY_MATRIX_4D\n",
    "            data = f.read()\n",
    "            f.close()\n",
    "        return width, height, data, depth_scale, max_confidence, device_pose, header_line"
   ]
  },
  {
   "cell_type": "code",
   "execution_count": 263,
   "metadata": {},
   "outputs": [],
   "source": [
    "def parse_depth(tx: int, ty: int, data: bytes, depth_scale: float, width: int) -> float:\n",
    "    assert isinstance(tx, int)\n",
    "    assert isinstance(ty, int)\n",
    "\n",
    "    depth = data[(ty * width + tx) * 3 + 0] << 8\n",
    "    depth += data[(ty * width + tx) * 3 + 1]\n",
    "\n",
    "    depth *= depth_scale\n",
    "    return depth"
   ]
  },
  {
   "cell_type": "code",
   "execution_count": 264,
   "metadata": {},
   "outputs": [],
   "source": [
    "def prepare_depthmap(data: bytes, width: int, height: int, depth_scale: float) -> np.array:\n",
    "    \"\"\"Convert bytes array into np.array\"\"\"\n",
    "    output = np.zeros((width, height, 1))\n",
    "    for cx in range(width):\n",
    "        for cy in range(height):\n",
    "            # depth data scaled to be visible\n",
    "            output[cx][height - cy - 1] = parse_depth(cx, cy, data, depth_scale, width)\n",
    "    arr = np.array(output, dtype='float32')\n",
    "    return arr.reshape(width, height)"
   ]
  },
  {
   "cell_type": "code",
   "execution_count": 266,
   "metadata": {},
   "outputs": [],
   "source": [
    "def preprocess_depthmap(depthmap):\n",
    "    # TODO here be more code.\n",
    "    return depthmap.astype(\"float32\")"
   ]
  },
  {
   "cell_type": "code",
   "execution_count": 147,
   "metadata": {},
   "outputs": [],
   "source": [
    "normalisation_value = 7.5\n",
    "image_target_width = 180\n",
    "image_target_height = 240\n",
    "# depthmap = tf.image.resize(depthmap, (image_target_height, image_target_width))"
   ]
  },
  {
   "cell_type": "code",
   "execution_count": 107,
   "metadata": {},
   "outputs": [],
   "source": [
    "output = 'output'\n",
    "os.mkdir(output)"
   ]
  },
  {
   "cell_type": "code",
   "execution_count": 200,
   "metadata": {},
   "outputs": [
    {
     "name": "stdout",
     "output_type": "stream",
     "text": [
      "['scans/f43d1b80-7859-11eb-86ba-93cb6c3c5609/depth/f399d6a0-7859-11eb-86ba-c3dc5ee5a617', 'scans/f43d1b80-7859-11eb-86ba-93cb6c3c5609/depth/f3aa9f80-7859-11eb-86ba-537bfe54aa70', 'scans/f43d1b80-7859-11eb-86ba-93cb6c3c5609/depth/f3bcef00-7859-11eb-86ba-932c12127d6c', 'scans/f43d1b80-7859-11eb-86ba-93cb6c3c5609/depth/f3d0c520-7859-11eb-86ba-bbc8d9e15e48', 'scans/f43d1b80-7859-11eb-86ba-93cb6c3c5609/depth/f3e314a0-7859-11eb-86ba-9390e15d72d1', 'scans/f43d1b80-7859-11eb-86ba-93cb6c3c5609/depth/f3f6eac0-7859-11eb-86ba-1b2b943a9013', 'scans/f43d1b80-7859-11eb-86ba-93cb6c3c5609/depth/f4093a40-7859-11eb-86ba-cf61a7783fb9', 'scans/f43d1b80-7859-11eb-86ba-93cb6c3c5609/depth/f41d1060-7859-11eb-86ba-bba048f2e2c3', 'scans/f43d1b80-7859-11eb-86ba-93cb6c3c5609/depth/f42dd940-7859-11eb-86ba-5bcdd904a2a7']\n"
     ]
    }
   ],
   "source": [
    "artifacts_raw = glob('scans/f43d1b80-7859-11eb-86ba-93cb6c3c5609/depth/*')\n",
    "print(artifacts_raw)\n",
    "target_path ='output'\n",
    "for artifacts in artifacts_raw:\n",
    "    depth_data, width, height, depth_scale, max_confidence =load_depth(artifacts)\n",
    "    depthmap = prepare_depthmap(depth_data,width,height,depth_scale)\n",
    "    depthmap = np.expand_dims(depthmap, axis=2)\n",
    "    depthmap = preprocess_depthmap(depthmap)\n",
    "    depthmap = depthmap/normalisation_value\n",
    "    artifact_name = artifacts.split('/')[-1]\n",
    "    complete_path = f'{target_path}/{artifact_name}.p'\n",
    "    pickle.dump(depthmap, open(complete_path, \"wb\"))  "
   ]
  },
  {
   "cell_type": "code",
   "execution_count": 201,
   "metadata": {},
   "outputs": [
    {
     "name": "stdout",
     "output_type": "stream",
     "text": [
      "(240, 180, 1)\n"
     ]
    },
    {
     "data": {
      "text/plain": [
       "<matplotlib.image.AxesImage at 0x7f591924cb70>"
      ]
     },
     "execution_count": 201,
     "metadata": {},
     "output_type": "execute_result"
    },
    {
     "data": {
      "image/png": "[encoded data removed]",
      "text/plain": [
       "<Figure size 432x288 with 1 Axes>"
      ]
     },
     "metadata": {
      "needs_background": "light"
     },
     "output_type": "display_data"
    }
   ],
   "source": [
    "ml_depthmap = pickle.load(open('output/f41d1060-7859-11eb-86ba-bba048f2e2c3.p', \"rb\"))\n",
    "print(ml_depthmap.shape)\n",
    "plt.imshow(np.squeeze(ml_depthmap))"
   ]
  },
  {
   "cell_type": "code",
   "execution_count": 115,
   "metadata": {},
   "outputs": [],
   "source": [
    "rg_depthmaps = 'rg-output'\n",
    "ml_depthmaps ='output'"
   ]
  },
  {
   "cell_type": "code",
   "execution_count": 186,
   "metadata": {},
   "outputs": [
    {
     "data": {
      "text/plain": [
       "(240, 180)"
      ]
     },
     "execution_count": 186,
     "metadata": {},
     "output_type": "execute_result"
    }
   ],
   "source": [
    "depth_path = 'scans/f43d1b80-7859-11eb-86ba-93cb6c3c5609/depth/f41d1060-7859-11eb-86ba-bba048f2e2c3'\n",
    "extract_depthmap(depth_path)\n",
    "depthmap_path= 'data/data'\n",
    "width, height, data, depth_scale, max_confidence, device_pose, header_line =  read_depthmap_data(depthmap_path)\n",
    "depthmap = prepare_depthmap(data,width,height,depth_scale)\n",
    "normalisation_value = 7.5\n",
    "# image_target_width = 180\n",
    "# image_target_height = 240\n",
    "# depthmap = np.expand_dims(depthmap, axis=2)\n",
    "# depthmap = preprocess_depthmap(depthmap)\n",
    "# depthmap = depthmap/normalisation_value\n",
    "depthmap.shape"
   ]
  },
  {
   "cell_type": "markdown",
   "metadata": {},
   "source": [
    "## Processing multiple scans on cgm-ml and saving them in pickle"
   ]
  },
  {
   "cell_type": "code",
   "execution_count": 241,
   "metadata": {},
   "outputs": [],
   "source": [
    "target = 'ml-scans'\n",
    "scan_folders = glob.glob('scan_with_depthmap_hwawei/*' + os.path.sep)\n",
    "os.mkdir(target)"
   ]
  },
  {
   "cell_type": "code",
   "execution_count": 245,
   "metadata": {},
   "outputs": [],
   "source": [
    "for scans in scan_folders:\n",
    "    files = f'{scans}depth/*'\n",
    "    folder = scans.split('/')[1]\n",
    "    full_path = f'{target}/{folder}'\n",
    "    os.mkdir(full_path)\n",
    "    scans_depthmaps = glob(files)\n",
    "    for artifacts in scans_depthmaps:\n",
    "        depth_data, width, height, depth_scale, max_confidence =load_depth(artifacts)\n",
    "        depthmap = prepare_depthmap(depth_data,width,height,depth_scale)\n",
    "        depthmap = np.expand_dims(depthmap, axis=2)\n",
    "        depthmap = preprocess_depthmap(depthmap)\n",
    "        depthmap = depthmap/normalisation_value\n",
    "        artifact_name = artifacts.split('/')[-1]\n",
    "        complete_path = f'{full_path}/{artifact_name}.p'\n",
    "        pickle.dump(depthmap, open(complete_path, \"wb\"))  "
   ]
  },
  {
   "cell_type": "markdown",
   "metadata": {},
   "source": [
    "## Gathering all the pickles files for cgm-rg and cgm-ml"
   ]
  },
  {
   "cell_type": "code",
   "execution_count": 254,
   "metadata": {},
   "outputs": [],
   "source": [
    "rg_artifacts = glob('rg-scans/**/*.p')\n",
    "ml_artifacts = glob('ml-scans/**/*.p')"
   ]
  },
  {
   "cell_type": "markdown",
   "metadata": {},
   "source": [
    "## compare scans of cgm-ml and cgm-rg"
   ]
  },
  {
   "cell_type": "code",
   "execution_count": 258,
   "metadata": {},
   "outputs": [],
   "source": [
    "ml_output = 'ml-scans/'\n",
    "for data in rg_artifacts:\n",
    "    artifacts = data.split('/')[-1]\n",
    "    scans = data.split('/')[1]\n",
    "    rg_depthmap = pickle.load(open(data, \"rb\"))\n",
    "    ml_data = f'{ml_output}{scans}/{artifacts}'\n",
    "    ml_depthmap = pickle.load(open(ml_data, \"rb\"))\n",
    "    result = (rg_depthmap == ml_depthmap).all()\n",
    "    if result is False:\n",
    "        print(data)"
   ]
  }
 ],
 "metadata": {
  "kernel_info": {
   "name": "python3-azureml"
  },
  "kernelspec": {
   "display_name": "Python 3.6 - AzureML",
   "language": "python",
   "name": "python3-azureml"
  },
  "language_info": {
   "codemirror_mode": {
    "name": "ipython",
    "version": 3
   },
   "file_extension": ".py",
   "mimetype": "text/x-python",
   "name": "python",
   "nbconvert_exporter": "python",
   "pygments_lexer": "ipython3",
   "version": "3.6.9"
  },
  "nteract": {
   "version": "nteract-front-end@1.0.0"
  }
 },
 "nbformat": 4,
 "nbformat_minor": 4
}
