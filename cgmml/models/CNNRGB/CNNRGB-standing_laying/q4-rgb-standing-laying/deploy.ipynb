{
 "cells": [
  {
   "cell_type": "code",
   "execution_count": null,
   "metadata": {},
   "outputs": [],
   "source": [
    "from azureml.core import Workspace"
   ]
  },
  {
   "cell_type": "code",
   "execution_count": null,
   "metadata": {},
   "outputs": [],
   "source": [
    "workspace = Workspace.from_config()"
   ]
  },
  {
   "cell_type": "code",
   "execution_count": null,
   "metadata": {},
   "outputs": [],
   "source": [
    "workspace"
   ]
  },
  {
   "cell_type": "code",
   "execution_count": null,
   "metadata": {},
   "outputs": [],
   "source": [
    "from azureml.core.model import Model"
   ]
  },
  {
   "cell_type": "markdown",
   "metadata": {},
   "source": [
    "### Registering the model to the workspace"
   ]
  },
  {
   "cell_type": "code",
   "execution_count": null,
   "metadata": {},
   "outputs": [],
   "source": [
    "#skip if model is already registered\n",
    "model = Model.register(model_path=\"./Standing_laying/\",\n",
    "                       model_name=\"standing_laying_classifier\",\n",
    "                       description=\"Standing/laying classifier\",\n",
    "                       workspace=workspace)"
   ]
  },
  {
   "cell_type": "markdown",
   "metadata": {},
   "source": [
    "### If the model is already registered in the workspace fetch it using the model name"
   ]
  },
  {
   "cell_type": "code",
   "execution_count": null,
   "metadata": {},
   "outputs": [],
   "source": [
    "model = Model(workspace, name='standing_laying_classifier')"
   ]
  },
  {
   "cell_type": "code",
   "execution_count": null,
   "metadata": {},
   "outputs": [],
   "source": [
    "model"
   ]
  },
  {
   "cell_type": "code",
   "execution_count": null,
   "metadata": {},
   "outputs": [],
   "source": []
  },
  {
   "cell_type": "markdown",
   "metadata": {},
   "source": [
    "### Entry script for deploying on a AKS(Azure Kubernetes Service)"
   ]
  },
  {
   "cell_type": "code",
   "execution_count": null,
   "metadata": {},
   "outputs": [],
   "source": [
    "%%writefile score_aks.py\n",
    "import os\n",
    "import sys\n",
    "\n",
    "from tensorflow.keras.models import load_model\n",
    "\n",
    "sys.path.append('/structure/azureml-app/azureml-models/standing_laying_classifier/4/')  # noqa:E402\n",
    "from Standing_laying.utils import process_img  # noqa:E402\n",
    "\n",
    "\n",
    "def init():\n",
    "    global model\n",
    "    output_directory = '/structure/azureml-app/azureml-models/standing_laying_classifier/4/Standing_laying'\n",
    "    model = load_model(os.path.join(output_directory, \"best_model.h5\"))\n",
    "    print(model)\n",
    "\n",
    "\n",
    "def run(file):\n",
    "    try:\n",
    "        img = process_img(file)\n",
    "        result = model.predict(img)\n",
    "        # You can return any data type, as long as it is JSON serializable.\n",
    "        return result.tolist()\n",
    "    except Exception as e:\n",
    "        error = str(e)\n",
    "        return error"
   ]
  },
  {
   "cell_type": "markdown",
   "metadata": {},
   "source": [
    "### Entry script to deploy to ACI(Azure Container Instance)"
   ]
  },
  {
   "cell_type": "code",
   "execution_count": null,
   "metadata": {},
   "outputs": [],
   "source": [
    "%%writefile score_aci.py\n",
    "import os\n",
    "import sys\n",
    "\n",
    "from tensorflow.keras.models import load_model\n",
    "\n",
    "sys.path.append('/structure/azureml-app/azureml-models/standing_laying_classifier/4/')  # noqa:E402\n",
    "from Standing_laying.utils import process_img  # noqa:E402\n",
    "\n",
    "\n",
    "def init():\n",
    "    global model\n",
    "    output_directory = '/structure/azureml-app/azureml-models/standing_laying_classifier/4/Standing_laying'\n",
    "    model = load_model(os.path.join(output_directory, \"best_model.h5\"))\n",
    "    print(model)\n",
    "\n",
    "\n",
    "def run(file):\n",
    "    try:\n",
    "        img = process_img(file)\n",
    "        result = model.predict(img)\n",
    "        # You can return any data type, as long as it is JSON serializable.\n",
    "        return result.tolist()\n",
    "    except Exception as e:\n",
    "        error = str(e)\n",
    "        return error"
   ]
  },
  {
   "cell_type": "markdown",
   "metadata": {},
   "source": [
    "### Define the dependencies required for the model and set inference config"
   ]
  },
  {
   "cell_type": "code",
   "execution_count": null,
   "metadata": {},
   "outputs": [],
   "source": [
    "from azureml.core.conda_dependencies import CondaDependencies\n",
    "from azureml.core.environment import Environment\n",
    "from azureml.core.model import InferenceConfig\n",
    "\n",
    "env = Environment('Standing_laying')\n",
    "env.python.conda_dependencies = CondaDependencies.create(conda_packages=['tensorflow==2.0.0'],pip_packages=['azureml-defaults'])\n",
    "inference_config_aci = InferenceConfig(entry_script=\"score_aci.py\", environment=env)\n",
    "inference_config_aks = InferenceConfig(entry_script=\"score_aks.py\", environment=env)"
   ]
  },
  {
   "cell_type": "code",
   "execution_count": null,
   "metadata": {},
   "outputs": [],
   "source": [
    "from azureml.core.webservice import AciWebservice, Webservice"
   ]
  },
  {
   "cell_type": "code",
   "execution_count": null,
   "metadata": {},
   "outputs": [],
   "source": [
    "deployment_config = AciWebservice.deploy_configuration(cpu_cores = 2, memory_gb = 4)\n",
    "service = Model.deploy(workspace, \"aci-standing-laying-v\", [model], inference_config_aci, deployment_config)\n",
    "service.wait_for_deployment(show_output = True)\n",
    "print(service.state)"
   ]
  },
  {
   "cell_type": "code",
   "execution_count": null,
   "metadata": {},
   "outputs": [],
   "source": [
    "service.update(enable_app_insights=True)"
   ]
  },
  {
   "cell_type": "code",
   "execution_count": null,
   "metadata": {},
   "outputs": [],
   "source": [
    "service.get_logs()"
   ]
  },
  {
   "cell_type": "markdown",
   "metadata": {},
   "source": [
    "## Creating Inference cluster"
   ]
  },
  {
   "cell_type": "markdown",
   "metadata": {},
   "source": [
    "For provisioning_configuration(), if you pick custom values for agent_count and vm_size, and cluster_purpose is not DEV_TEST, then you need to make sure agent_count multiplied by vm_size is greater than or equal to 12 virtual CPUs. For example, if you use a vm_size of \"Standard_D3_v2\", which has 4 virtual CPUs, then you should pick an agent_count of 3 or greater."
   ]
  },
  {
   "cell_type": "markdown",
   "metadata": {},
   "source": [
    "### skip if already created"
   ]
  },
  {
   "cell_type": "code",
   "execution_count": null,
   "metadata": {},
   "outputs": [],
   "source": [
    "from azureml.core.compute import AksCompute, ComputeTarget\n",
    "\n",
    "# Use the default configuration (you can also provide parameters to customize this).\n",
    "# For example, to create a dev/test cluster, use:\n",
    "# prov_config = AksCompute.provisioning_configuration(cluster_purpose = AksCompute.ClusterPurpose.DEV_TEST)\n",
    "#prov_config = AksCompute.provisioning_configuration()\n",
    "\n",
    "aks_name = 'AKS-interference'\n",
    "\n",
    "prov_config = prov_config = AksCompute.provisioning_configuration(vm_size = \"Standard_A4_v2\",\n",
    "                                                       agent_count = 3,\n",
    "                                                       location = \"westeurope\")\n",
    "\n",
    "# Create the cluster\n",
    "aks_target = ComputeTarget.create(workspace=workspace,\n",
    "                                  name=aks_name,\n",
    "                                  provisioning_configuration=prov_config)\n",
    "\n",
    "# Wait for the create process to complete\n",
    "aks_target.wait_for_completion(show_output = True)"
   ]
  },
  {
   "cell_type": "code",
   "execution_count": null,
   "metadata": {},
   "outputs": [],
   "source": [
    "from azureml.core.compute import AksCompute, ComputeTarget"
   ]
  },
  {
   "cell_type": "code",
   "execution_count": null,
   "metadata": {},
   "outputs": [],
   "source": [
    "from azureml.core.webservice import AksWebservice, Webservice"
   ]
  },
  {
   "cell_type": "markdown",
   "metadata": {},
   "source": [
    "### Deploy the model on created AKS"
   ]
  },
  {
   "cell_type": "code",
   "execution_count": null,
   "metadata": {},
   "outputs": [],
   "source": [
    "#deployment_config = AksWebservice.deploy_configuration(cpu_cores = 2, memory_gb = 8, autoscale_enabled=True, autoscale_max_replicas=3, collect_model_data=True, enable_app_insights=True)"
   ]
  },
  {
   "cell_type": "code",
   "execution_count": null,
   "metadata": {},
   "outputs": [],
   "source": [
    "model"
   ]
  },
  {
   "cell_type": "code",
   "execution_count": null,
   "metadata": {},
   "outputs": [],
   "source": [
    "workspace"
   ]
  },
  {
   "cell_type": "code",
   "execution_count": null,
   "metadata": {},
   "outputs": [],
   "source": [
    "aks_target = AksCompute(workspace, \"AKS-interference\")\n",
    "\n",
    "deployment_config = AksWebservice.deploy_configuration(cpu_cores = 2, memory_gb = 2, collect_model_data=True, enable_app_insights=True)\n",
    "service = Model.deploy(workspace, \"aks-standing-laying\", [model], inference_config_aks, deployment_config, aks_target)\n",
    "service.wait_for_deployment(show_output = True)\n",
    "print(service.state)"
   ]
  },
  {
   "cell_type": "code",
   "execution_count": null,
   "metadata": {},
   "outputs": [],
   "source": [
    "service.get_logs()"
   ]
  },
  {
   "cell_type": "code",
   "execution_count": null,
   "metadata": {},
   "outputs": [],
   "source": []
  }
 ],
 "metadata": {
  "kernelspec": {
   "name": "python3",
   "display_name": "Python 3.8.2 64-bit ('venv': venv)",
   "metadata": {
    "interpreter": {
     "hash": "61a878646e323228f46f9d752ed6f30be88402e31ef6a74918a91be125d6d393"
    }
   }
  },
  "language_info": {
   "codemirror_mode": {
    "name": "ipython",
    "version": 3
   },
   "file_extension": ".py",
   "mimetype": "text/x-python",
   "name": "python",
   "nbconvert_exporter": "python",
   "pygments_lexer": "ipython3",
   "version": "3.8.2-final"
  }
 },
 "nbformat": 4,
 "nbformat_minor": 4
}