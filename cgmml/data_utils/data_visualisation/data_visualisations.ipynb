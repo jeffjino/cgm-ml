{
 "cells": [
  {
   "cell_type": "code",
   "execution_count": null,
   "metadata": {
    "nteract": {
     "transient": {
      "deleting": false
     }
    }
   },
   "outputs": [],
   "source": [
    "!pip install portalocker==1.0\n"
   ]
  },
  {
   "cell_type": "code",
   "execution_count": null,
   "metadata": {
    "nteract": {
     "transient": {
      "deleting": false
     }
    }
   },
   "outputs": [],
   "source": [
    "!python -m pip install open3d==0.9\n"
   ]
  },
  {
   "cell_type": "code",
   "execution_count": null,
   "metadata": {
    "gather": {
     "logged": 1600151734948
    }
   },
   "outputs": [],
   "source": [
    "import json\n",
    "from glob import glob\n",
    "import math\n",
    "import os\n",
    "\n",
    "import matplotlib.pyplot as plt\n",
    "%matplotlib inline\n",
    "import matplotlib.pyplot as plt\n",
    "from PIL import Image\n",
    "import numpy as np\n",
    "import azureml.core\n",
    "from azureml.core import Workspace\n",
    "from azureml.core.dataset import Dataset\n",
    "\n",
    "# check core SDK version number\n",
    "print(\"Azure ML SDK Version: \", azureml.core.VERSION)"
   ]
  },
  {
   "cell_type": "markdown",
   "metadata": {},
   "source": [
    "### Get access to workspace and use one of databases for visualisation. Using 'anon-pcd-7k' here as an example."
   ]
  },
  {
   "cell_type": "code",
   "execution_count": null,
   "metadata": {
    "gather": {
     "logged": 1600151739893
    }
   },
   "outputs": [],
   "source": [
    "workspace = Workspace.from_config()\n",
    "workspace\n",
    "dataset = Dataset.get_by_name(workspace, name='anon-pcd-7k')\n",
    "type(dataset)"
   ]
  },
  {
   "cell_type": "markdown",
   "metadata": {},
   "source": [
    "### Mount the data to your local compute machine"
   ]
  },
  {
   "cell_type": "code",
   "execution_count": null,
   "metadata": {
    "gather": {
     "logged": 1600063364929
    }
   },
   "outputs": [],
   "source": [
    "# This takes up to a minute\n",
    "\n",
    "with dataset.mount() as mount_context:\n",
    "    # list top level mounted files and folders in the dataset\n",
    "    print(os.listdir(mount_context.mount_point))"
   ]
  },
  {
   "cell_type": "code",
   "execution_count": null,
   "metadata": {
    "gather": {
     "logged": 1600151751612
    }
   },
   "outputs": [],
   "source": [
    "print(mount_context.mount_point) #get the location of the mountpoint for your machine"
   ]
  },
  {
   "cell_type": "code",
   "execution_count": null,
   "metadata": {
    "gather": {
     "logged": 1600151766911
    }
   },
   "outputs": [],
   "source": [
    "mount_context = dataset.mount()\n",
    "mount_context.start()  # this will mount the file streams\n",
    "print(mount_context.mount_point)\n"
   ]
  },
  {
   "cell_type": "markdown",
   "metadata": {},
   "source": [
    "### get all the rgb images for one of the folder"
   ]
  },
  {
   "cell_type": "code",
   "execution_count": null,
   "metadata": {
    "gather": {
     "logged": 1600151772217
    },
    "scrolled": true
   },
   "outputs": [],
   "source": [
    "mount_point = mount_context.mount_point + '/qrcode'"
   ]
  },
  {
   "cell_type": "code",
   "execution_count": null,
   "metadata": {
    "gather": {
     "logged": 1600151814353
    }
   },
   "outputs": [],
   "source": [
    "current_folder = '1583438052-nxew87bcv0'\n",
    "working_dir = mount_point + '/' + current_folder + '/measure/1566562694355/'  # Replace last number with something existing\n",
    "images_dir = working_dir + 'rgb/'\n",
    "rgb_files = glob(images_dir + '*.jpg')\n",
    "len(rgb_files)\n",
    "# TODO refactor"
   ]
  },
  {
   "cell_type": "code",
   "execution_count": null,
   "metadata": {
    "gather": {
     "logged": 1600151815357
    }
   },
   "outputs": [],
   "source": [
    "# print(mount_point)\n",
    "# ! ls {mount_point}\n",
    "# ! ls \"{mount_point}/1583438052-nxew87bcv0/measure/1566562694355/rgb\""
   ]
  },
  {
   "cell_type": "code",
   "execution_count": null,
   "metadata": {
    "gather": {
     "logged": 1600152283546
    }
   },
   "outputs": [],
   "source": [
    "top_files = rgb_files[0:15]"
   ]
  },
  {
   "cell_type": "code",
   "execution_count": null,
   "metadata": {
    "gather": {
     "logged": 1600152289345
    }
   },
   "outputs": [],
   "source": [
    "# plotting the one of the image from the list \n",
    "im = Image.open(rgb_files[0])\n",
    "plt.imshow(im);"
   ]
  },
  {
   "cell_type": "markdown",
   "metadata": {},
   "source": [
    "### Plot all the images of folder containing the frames of a video and save them in a grid images"
   ]
  },
  {
   "cell_type": "code",
   "execution_count": null,
   "metadata": {
    "gather": {
     "logged": 1600152312203
    }
   },
   "outputs": [],
   "source": [
    "# Config:\n",
    "result_grid_filename = 'grid.jpg'\n",
    "result_figsize_resolution = 80 # 1 = 100px\n",
    "\n",
    "# images_list = os.listdir(images_dir)\n",
    "images_count = len(top_files)\n",
    "# print('Images: ', images_list)\n",
    "print('Images count: ', images_count)\n",
    "\n",
    "# Calculate the grid size:\n",
    "grid_size = math.ceil(math.sqrt(images_count))"
   ]
  },
  {
   "cell_type": "code",
   "execution_count": null,
   "metadata": {
    "gather": {
     "logged": 1600152410299
    }
   },
   "outputs": [],
   "source": [
    "# Create plt plot:\n",
    "fig, axes = plt.subplots(grid_size, grid_size, figsize=(result_figsize_resolution, result_figsize_resolution))\n",
    "\n",
    "current_file_number = 0\n",
    "for image_filename in top_files:\n",
    "    print(image_filename)\n",
    "    x_position = current_file_number % grid_size\n",
    "    y_position = current_file_number // grid_size\n",
    "#     plt_image = plt.imread(images_dir +images_list[current_file_number])\n",
    "    plt_image = plt.imread(image_filename)\n",
    "    axes[x_position, y_position].imshow(plt_image)\n",
    "#     print((current_file_number + 1), '/', images_count, ': ', image_filename)\n",
    "\n",
    "    current_file_number += 1\n",
    "\n",
    "plt.subplots_adjust(left=0.0, right=1.0, bottom=0.0, top=1.0)\n",
    "plt.savefig(result_grid_filename)"
   ]
  },
  {
   "cell_type": "code",
   "execution_count": null,
   "metadata": {
    "gather": {
     "logged": 1600152452833
    }
   },
   "outputs": [],
   "source": [
    "grid = Image.open('grid.jpg')\n",
    "plt.imshow(grid)"
   ]
  },
  {
   "cell_type": "markdown",
   "metadata": {},
   "source": [
    "### Get the label for the corresponding video capture"
   ]
  },
  {
   "cell_type": "code",
   "execution_count": null,
   "metadata": {
    "gather": {
     "logged": 1600088458134
    }
   },
   "outputs": [],
   "source": [
    "json_file = mount_point+'/'+current_folder+'/targets.json'\n",
    "with open(json_file) as f:\n",
    "    data = json.load(f)\n",
    "print(data)"
   ]
  },
  {
   "cell_type": "markdown",
   "metadata": {},
   "source": [
    "### Get the point cloud file for the video capture"
   ]
  },
  {
   "cell_type": "code",
   "execution_count": null,
   "metadata": {
    "gather": {
     "logged": 1600088469885
    }
   },
   "outputs": [],
   "source": [
    "pointcloud_files = working_dir + 'pc/'\n",
    "pcd_files = glob(pointcloud_files + '*.pcd')\n",
    "pcd_files, len(pcd_files)"
   ]
  },
  {
   "cell_type": "code",
   "execution_count": null,
   "metadata": {
    "gather": {
     "logged": 1600165424758
    }
   },
   "outputs": [],
   "source": [
    "## visualise the one of the point cloud files\n",
    "import open3d as o3\n",
    "from open3d import JVisualizer\n",
    "\n",
    "fragment = o3.io.read_point_cloud(pcd_files[0])\n",
    "visualizer = JVisualizer()\n",
    "visualizer.add_geometry(fragment)\n",
    "visualizer.show()"
   ]
  },
  {
   "cell_type": "code",
   "execution_count": null,
   "metadata": {},
   "outputs": [],
   "source": []
  }
 ],
 "metadata": {
  "kernel_info": {
   "name": "python3-azureml"
  },
  "kernelspec": {
   "display_name": "Python 3",
   "language": "python",
   "name": "python3"
  },
  "language_info": {
   "codemirror_mode": {
    "name": "ipython",
    "version": 3
   },
   "file_extension": ".py",
   "mimetype": "text/x-python",
   "name": "python",
   "nbconvert_exporter": "python",
   "pygments_lexer": "ipython3",
   "version": "3.7.5"
  },
  "nteract": {
   "version": "nteract-front-end@1.0.0"
  }
 },
 "nbformat": 4,
 "nbformat_minor": 4
}