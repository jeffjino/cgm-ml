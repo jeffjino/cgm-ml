{
 "cells": [
  {
   "cell_type": "markdown",
   "metadata": {},
   "source": [
    "# Visualize depthmap (including data augmentation)"
   ]
  },
  {
   "cell_type": "code",
   "execution_count": null,
   "metadata": {
    "gather": {
     "logged": 1598350007137
    }
   },
   "outputs": [],
   "source": [
    "%reload_ext autoreload\n",
    "%autoreload 2\n",
    "\n",
    "import datetime\n",
    "from pathlib import Path\n",
    "import json\n",
    "import glob2 as glob\n",
    "import math\n",
    "import os\n",
    "import re\n",
    "import pickle\n",
    "import random\n",
    "\n",
    "import tensorflow as tf\n",
    "import matplotlib.pyplot as plt\n",
    "%matplotlib inline\n",
    "import matplotlib.pyplot as plt\n",
    "from PIL import Image\n",
    "import numpy as np\n",
    "import azureml.core\n",
    "from azureml.core import Workspace\n",
    "from azureml.core.dataset import Dataset\n",
    "\n",
    "from visualization_utils import (IMAGE_TARGET_HEIGHT, IMAGE_TARGET_WIDTH, REPO_DIR, \n",
    "                                 show_pickle, path_to_ndarray, choose_a_pickle_file, get_datetime)"
   ]
  },
  {
   "cell_type": "code",
   "execution_count": null,
   "metadata": {},
   "outputs": [],
   "source": [
    "pickle_file_path = str(REPO_DIR / \"dataset/scans/1583462470-16tvfmb1d0/100/pc_1583462470-16tvfmb1d0_1591122155216_100_000.p\")"
   ]
  },
  {
   "cell_type": "code",
   "execution_count": null,
   "metadata": {},
   "outputs": [],
   "source": [
    "qrcode_path = str(REPO_DIR / \"dataset/scans/1583462470-16tvfmb1d0/100/\")\n",
    "path_with_wildcard = os.path.join(qrcode_path, \"*.p\")\n",
    "list_of_pickle_file_paths = sorted(glob.glob(path_with_wildcard))"
   ]
  },
  {
   "cell_type": "code",
   "execution_count": null,
   "metadata": {},
   "outputs": [],
   "source": [
    "list_of_pickle_file_paths[:5]"
   ]
  },
  {
   "cell_type": "markdown",
   "metadata": {},
   "source": [
    "## Visualise scan sequence"
   ]
  },
  {
   "cell_type": "code",
   "execution_count": null,
   "metadata": {},
   "outputs": [],
   "source": [
    "# Naive step visualization\n",
    "i = 20"
   ]
  },
  {
   "cell_type": "code",
   "execution_count": null,
   "metadata": {},
   "outputs": [],
   "source": [
    "# How to use: Execute this cell many times increasing i and seeing how the image changes\n",
    "print(i, list_of_pickle_file_paths[i])\n",
    "show_pickle(list_of_pickle_file_paths[i])\n",
    "i += 1"
   ]
  },
  {
   "cell_type": "code",
   "execution_count": null,
   "metadata": {},
   "outputs": [],
   "source": [
    "# [os.path.basename(str(p)) for p in list_of_pickle_file_paths]"
   ]
  },
  {
   "cell_type": "code",
   "execution_count": null,
   "metadata": {},
   "outputs": [],
   "source": [
    "len(list_of_pickle_file_paths)"
   ]
  },
  {
   "cell_type": "code",
   "execution_count": null,
   "metadata": {},
   "outputs": [],
   "source": [
    "# Problem: although the scan of the child is new and on a different day, the height measurement is the same -> this is weird"
   ]
  },
  {
   "cell_type": "code",
   "execution_count": null,
   "metadata": {},
   "outputs": [],
   "source": [
    "# get_datetime(str(REPO_DIR / \"dataset/scans/1583462470-16tvfmb1d0/100/pc_1583462470-16tvfmb1d0_1591427998277_100_005.p\"))"
   ]
  },
  {
   "cell_type": "code",
   "execution_count": null,
   "metadata": {},
   "outputs": [],
   "source": [
    "num_height, num_width = 5, 8\n",
    "fig, axarr = plt.subplots(num_height, num_width, figsize=(25, 18))\n",
    "\n",
    "for x in range(num_height):\n",
    "    for y in range(num_width):\n",
    "        i = x * num_width + y\n",
    "        fpath = list_of_pickle_file_paths[i]\n",
    "        dt = get_datetime(fpath)\n",
    "        arr, targets = path_to_ndarray(fpath)\n",
    "        axarr[x,y].imshow(arr, cmap='gray', vmin=0, vmax=1); \n",
    "        axarr[x,y].set_xticklabels([])\n",
    "        axarr[x,y].set_yticklabels([])\n",
    "        \n",
    "        # axarr[x,y].set_xlabel(f\"{dt}\")\n",
    "        \n",
    "        fname = os.path.basename(fpath)\n",
    "        axarr[x,y].set_xlabel(fname[-12:]+ f\" is {targets[0]:.2f}cm\")\n",
    "        \n",
    "        # axarr[x,y].set_xlabel(f\"is {targets[0]:.2f}cm\")\n",
    "plt.show()"
   ]
  },
  {
   "cell_type": "markdown",
   "metadata": {},
   "source": [
    "# Display random images from different QRcodes"
   ]
  },
  {
   "cell_type": "code",
   "execution_count": null,
   "metadata": {},
   "outputs": [],
   "source": [
    "scans_dir = REPO_DIR / \"dataset/scans/\"\n",
    "qrcodes_with_wildcard = os.listdir(scans_dir)"
   ]
  },
  {
   "cell_type": "code",
   "execution_count": null,
   "metadata": {},
   "outputs": [],
   "source": [
    "choose_a_pickle_file(qrcodes_with_wildcard, scans_dir)"
   ]
  },
  {
   "cell_type": "code",
   "execution_count": null,
   "metadata": {},
   "outputs": [],
   "source": [
    "pickle_file_path = choose_a_pickle_file(qrcodes_with_wildcard, scans_dir)\n",
    "show_pickle(pickle_file_path)"
   ]
  },
  {
   "cell_type": "code",
   "execution_count": null,
   "metadata": {},
   "outputs": [],
   "source": [
    "num_height, num_width = 5, 8\n",
    "fig, axarr = plt.subplots(num_height, num_width, figsize=(25, 18))\n",
    "\n",
    "for x in range(num_height):\n",
    "    for y in range(num_width):\n",
    "        pickle_file_path = choose_a_pickle_file(qrcodes_with_wildcard, scans_dir)\n",
    "        arr, targets = path_to_ndarray(pickle_file_path)\n",
    "        axarr[x,y].imshow(arr, cmap='gray', vmin=0, vmax=1); \n",
    "        axarr[x,y].set_xticklabels([])\n",
    "        axarr[x,y].set_yticklabels([])\n",
    "        dt = get_datetime(pickle_file_path)\n",
    "        axarr[x,y].set_xlabel(f\"{targets[0]:.2f}cm {dt}\")\n",
    "plt.show()"
   ]
  },
  {
   "cell_type": "markdown",
   "metadata": {},
   "source": [
    "# Data Augmentation"
   ]
  },
  {
   "cell_type": "code",
   "execution_count": null,
   "metadata": {},
   "outputs": [],
   "source": [
    "import sys\n",
    "sys.path.append(str(REPO_DIR / \"Models/CNNDepthMap/CNNDepthMap-height/q3-depthmapmultiartifact-plaincnn-height/src\"))\n",
    "import preprocessing"
   ]
  },
  {
   "cell_type": "code",
   "execution_count": null,
   "metadata": {},
   "outputs": [],
   "source": [
    "num_height, num_width = 4, 4\n",
    "fig, axarr = plt.subplots(num_height, num_width, figsize=(25, 18))\n",
    "\n",
    "arr, _ = path_to_ndarray(list_of_pickle_file_paths[0])\n",
    "for x in range(num_height):\n",
    "    for y in range(num_width):\n",
    "        arr_augmented = preprocessing.augmentation(arr.reshape(IMAGE_TARGET_HEIGHT, IMAGE_TARGET_WIDTH, 1))\n",
    "        axarr[x,y].imshow(arr_augmented.reshape(IMAGE_TARGET_HEIGHT, IMAGE_TARGET_WIDTH), cmap='gray', vmin=0, vmax=1);\n",
    "        axarr[x,y].set_xticklabels([])\n",
    "        axarr[x,y].set_yticklabels([])"
   ]
  },
  {
   "cell_type": "code",
   "execution_count": null,
   "metadata": {},
   "outputs": [],
   "source": []
  }
 ],
 "metadata": {
  "kernel_info": {
   "name": "python3-azureml"
  },
  "kernelspec": {
   "display_name": "Python 3.7.5 64-bit ('env_p_3': virtualenv)",
   "language": "python",
   "name": "python37564bitenvp3virtualenvba1e5b23cb4b48a69a71f222fe56e324"
  },
  "language_info": {
   "codemirror_mode": {
    "name": "ipython",
    "version": 3
   },
   "file_extension": ".py",
   "mimetype": "text/x-python",
   "name": "python",
   "nbconvert_exporter": "python",
   "pygments_lexer": "ipython3",
   "version": "3.7.5"
  },
  "nteract": {
   "version": "nteract-front-end@1.0.0"
  }
 },
 "nbformat": 4,
 "nbformat_minor": 4
}
