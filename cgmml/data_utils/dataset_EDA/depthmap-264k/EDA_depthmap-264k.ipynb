{
 "cells": [
  {
   "cell_type": "code",
   "execution_count": 293,
   "metadata": {
    "gather": {
     "logged": 1630422023843
    }
   },
   "outputs": [],
   "source": [
    "%reload_ext autoreload\n",
    "%autoreload 2\n",
    "%matplotlib inline\n",
    "\n",
    "import os\n",
    "import shutil\n",
    "import pandas as pd\n",
    "from pathlib import Path\n",
    "import numpy as np\n",
    "import sys\n",
    "import matplotlib.pyplot as plt\n",
    "import pickle\n",
    "from tqdm import tqdm\n",
    "\n",
    "sys.path.append(str(Path(os.getcwd()).parent))\n",
    "from data_utilities import (\n",
    "    find_outliers, convert_age_from_days_to_years, draw_age_distribution, calculate_code_age_distribution)"
   ]
  },
  {
   "cell_type": "markdown",
   "metadata": {},
   "source": [
    "### Total no. of artifacts in dataset"
   ]
  },
  {
   "cell_type": "code",
   "execution_count": 294,
   "metadata": {
    "gather": {
     "logged": 1630422027810
    }
   },
   "outputs": [],
   "source": [
    "DATASET_NAME = 'dataset-depthmap-Train-2021-09-09-15-43-24'\n",
    "DATASET_PATH = Path(f'/mnt/datasets/{DATASET_NAME}')"
   ]
  },
  {
   "cell_type": "code",
   "execution_count": 295,
   "metadata": {
    "gather": {
     "logged": 1630422029628
    },
    "jupyter": {
     "outputs_hidden": false,
     "source_hidden": false
    },
    "nteract": {
     "transient": {
      "deleting": false
     }
    }
   },
   "outputs": [
    {
     "name": "stdout",
     "output_type": "stream",
     "text": [
      "/mnt/datasets/dataset-depthmap-Train-2021-09-09-15-43-24/scans/00057800-0d3c-11ec-985b-fb911c877578/100/pc_00088540-0d3c-11ec-985b-73c081c1c387_2021-09-04-04-53-02-327719_100_1.0.p\r\n"
     ]
    }
   ],
   "source": [
    "SAMPLE_PICKLE_PATH = 'scans/00057800-0d3c-11ec-985b-fb911c877578/100/pc_00088540-0d3c-11ec-985b-73c081c1c387_2021-09-04-04-53-02-327719_100_1.0.p'\n",
    "!ls /mnt/datasets/{DATASET_NAME}/{SAMPLE_PICKLE_PATH}\n",
    "# ab575ae5-eecc-11eb-af66-e3654568dc70/100/pc_ab575ae5-eecc-11eb-af66-e3654568dc70_2021-07-27 11:20:31.569847_100_8.p"
   ]
  },
  {
   "cell_type": "code",
   "execution_count": 32,
   "metadata": {
    "jupyter": {
     "outputs_hidden": false,
     "source_hidden": false
    },
    "nteract": {
     "transient": {
      "deleting": false
     }
    }
   },
   "outputs": [
    {
     "name": "stdout",
     "output_type": "stream",
     "text": [
      "^C\r\n"
     ]
    }
   ],
   "source": [
    "!du /mnt/datasets/{DATASET_NAME} -sh --apparent-size"
   ]
  },
  {
   "cell_type": "code",
   "execution_count": null,
   "metadata": {
    "gather": {
     "logged": 1630422545677
    },
    "jupyter": {
     "outputs_hidden": false,
     "source_hidden": false
    },
    "nteract": {
     "transient": {
      "deleting": false
     }
    }
   },
   "outputs": [],
   "source": [
    "# Check resolution of depthmap\n",
    "for fpath_pickle in tqdm(DATASET_PATH.glob('**/*.p')):\n",
    "    depthmap, targets = pickle.load(open(fpath_pickle, \"rb\"))\n",
    "    assert depthmap.shape == (240, 180, 1), fpath_pickle"
   ]
  },
  {
   "cell_type": "code",
   "execution_count": 296,
   "metadata": {
    "gather": {
     "logged": 1630415575088
    }
   },
   "outputs": [
    {
     "data": {
      "image/png": "[encoded data removed]",
      "text/plain": [
       "<Figure size 432x288 with 1 Axes>"
      ]
     },
     "metadata": {
      "needs_background": "light"
     },
     "output_type": "display_data"
    }
   ],
   "source": [
    "paths  = DATASET_PATH / SAMPLE_PICKLE_PATH\n",
    "depthmap, targets = pickle.load(open(paths, \"rb\"))\n",
    "_ = plt.imshow(np.squeeze(depthmap), cmap='gray')\n",
    "plt.show()"
   ]
  },
  {
   "cell_type": "code",
   "execution_count": 274,
   "metadata": {
    "gather": {
     "logged": 1630415576777
    }
   },
   "outputs": [
    {
     "name": "stdout",
     "output_type": "stream",
     "text": [
      "targets:  {'file_path': '1630731182321/83af85b1-f327-4af0-a0b2-d9589f3dbffc', 'timestamp': '2021-09-04-04-53-02-327719', 'scan_id': '00088540-0d3c-11ec-985b-73c081c1c387', 'scan_step': 100, 'scan_version': 'v0.8', 'height': 82.0, 'weight': 9.15, 'muac': 12.8, 'order_number': 1.0, 'format': 'depth', 'device_model': 'HUAWEI VOG-L29', 'person_id': '00057800-0d3c-11ec-985b-fb911c877578', 'age': 448, 'sex': 'male', 'device_pose': [-0.3072169733432915, -0.9502416240082697, -0.051561490396552064, 0.0, -0.08773645984649003, -0.025668703194535573, 0.9958129499509012, 0.0, -0.9475864313630672, 0.31045446313177283, -0.07548497478419257, 0.0, 0.007619209, -0.016058141, -0.009007642, 1.0], 'raw_header': '240x180_0.001_7_-0.44551563_0.58245885_0.5606694_-0.38458723_-0.007619209_0.016058141_0.009007642', 'angle': -18.086620675533624}\n",
      "depthmap.shape:  (240, 180, 1)\n"
     ]
    }
   ],
   "source": [
    "print(\"targets: \", targets)\n",
    "print(\"depthmap.shape: \", depthmap.shape)"
   ]
  },
  {
   "cell_type": "code",
   "execution_count": 297,
   "metadata": {
    "jupyter": {
     "outputs_hidden": false,
     "source_hidden": false
    },
    "nteract": {
     "transient": {
      "deleting": false
     }
    }
   },
   "outputs": [
    {
     "name": "stdout",
     "output_type": "stream",
     "text": [
      "file_path,timestamp,scan_id,scan_step,scan_version,height,weight,muac,order_number,format,device_model,person_id,age,sex,Years\r\n",
      "1630061040088/f493c35b-6227-4efa-8cf3-3c7ab88eb549,2021-08-27-10-44-00-100435,42f96360-0724-11ec-abef-d7697322d860,102,v0.9,96.6,12.5,14.7,1.0,depth,HUAWEI VOG-L29,424b7020-0724-11ec-abef-f7d2656ba536,1530,female,4\r\n",
      "1630061040204/a844ae82-3140-46a8-bba6-f8316d500360,2021-08-27-10-44-00-209814,42f96360-0724-11ec-abef-d7697322d860,102,v0.9,96.6,12.5,14.7,2.0,depth,HUAWEI VOG-L29,424b7020-0724-11ec-abef-f7d2656ba536,1530,female,4\r\n",
      "1630061040339/ff251cfe-ddcb-48e4-8070-47dfbdb964dc,2021-08-27-10-44-00-350436,42f96360-0724-11ec-abef-d7697322d860,102,v0.9,96.6,12.5,14.7,3.0,depth,HUAWEI VOG-L29,424b7020-0724-11ec-abef-f7d2656ba536,1530,female,4\r\n",
      "1630061040458/31e74f27-d026-47b9-924a-c300e69dbd6d,2021-08-27-10-44-00-459772,42f96360-0724-11ec-abef-d7697322d860,102,v0.9,96.6,12.5,14.7,4.0,depth,HUAWEI VOG-L29,424b7020-0724-11ec-abef-f7d2656ba536,1530,female,4\r\n",
      "1630061040614/f7e0d697-edda-43f2-be64-62ea8e1b8c1f,2021-08-27-10-44-00-616014,42f96360-0724-11ec-abef-d7697322d860,102,v0.9,96.6,12.5,14.7,5.0,depth,HUAWEI VOG-L29,424b7020-0724-11ec-abef-f7d2656ba536,1530,female,4\r\n",
      "1630061040766/f79e3b60-8a1c-4e18-9102-1c212b3f0d26,2021-08-27-10-44-00-772340,42f96360-0724-11ec-abef-d7697322d860,102,v0.9,96.6,12.5,14.7,6.0,depth,HUAWEI VOG-L29,424b7020-0724-11ec-abef-f7d2656ba536,1530,female,4\r\n",
      "1630061040889/8af83720-b154-41c3-9f0d-a9c3dffa5479,2021-08-27-10-44-00-897318,42f96360-0724-11ec-abef-d7697322d860,102,v0.9,96.6,12.5,14.7,7.0,depth,HUAWEI VOG-L29,424b7020-0724-11ec-abef-f7d2656ba536,1530,female,4\r\n",
      "1630061041090/754baed7-6385-4e0a-a23e-8c95659922e2,2021-08-27-10-44-01-100470,42f96360-0724-11ec-abef-d7697322d860,102,v0.9,96.6,12.5,14.7,8.0,depth,HUAWEI VOG-L29,424b7020-0724-11ec-abef-f7d2656ba536,1530,female,4\r\n",
      "1630061041214/ea7eba7e-a167-4cd2-adc6-d306015d7bdd,2021-08-27-10-44-01-225401,42f96360-0724-11ec-abef-d7697322d860,102,v0.9,96.6,12.5,14.7,9.0,depth,HUAWEI VOG-L29,424b7020-0724-11ec-abef-f7d2656ba536,1530,female,4\r\n"
     ]
    }
   ],
   "source": [
    "!head /mnt/datasets/{DATASET_NAME}/labels.csv"
   ]
  },
  {
   "cell_type": "code",
   "execution_count": 298,
   "metadata": {
    "gather": {
     "logged": 1630415580792
    }
   },
   "outputs": [
    {
     "name": "stdout",
     "output_type": "stream",
     "text": [
      "Total no. of artifacts: 261115\n"
     ]
    },
    {
     "data": {
      "text/html": [
       "<div>\n",
       "<style scoped>\n",
       "    .dataframe tbody tr th:only-of-type {\n",
       "        vertical-align: middle;\n",
       "    }\n",
       "\n",
       "    .dataframe tbody tr th {\n",
       "        vertical-align: top;\n",
       "    }\n",
       "\n",
       "    .dataframe thead th {\n",
       "        text-align: right;\n",
       "    }\n",
       "</style>\n",
       "<table border=\"1\" class=\"dataframe\">\n",
       "  <thead>\n",
       "    <tr style=\"text-align: right;\">\n",
       "      <th></th>\n",
       "      <th>file_path</th>\n",
       "      <th>timestamp</th>\n",
       "      <th>scan_id</th>\n",
       "      <th>scan_step</th>\n",
       "      <th>scan_version</th>\n",
       "      <th>height</th>\n",
       "      <th>weight</th>\n",
       "      <th>muac</th>\n",
       "      <th>order_number</th>\n",
       "      <th>format</th>\n",
       "      <th>device_model</th>\n",
       "      <th>person_id</th>\n",
       "      <th>age</th>\n",
       "      <th>sex</th>\n",
       "      <th>Years</th>\n",
       "    </tr>\n",
       "  </thead>\n",
       "  <tbody>\n",
       "    <tr>\n",
       "      <th>0</th>\n",
       "      <td>1630061040088/f493c35b-6227-4efa-8cf3-3c7ab88e...</td>\n",
       "      <td>2021-08-27-10-44-00-100435</td>\n",
       "      <td>42f96360-0724-11ec-abef-d7697322d860</td>\n",
       "      <td>102</td>\n",
       "      <td>v0.9</td>\n",
       "      <td>96.6</td>\n",
       "      <td>12.5</td>\n",
       "      <td>14.7</td>\n",
       "      <td>1.0</td>\n",
       "      <td>depth</td>\n",
       "      <td>HUAWEI VOG-L29</td>\n",
       "      <td>424b7020-0724-11ec-abef-f7d2656ba536</td>\n",
       "      <td>1530</td>\n",
       "      <td>female</td>\n",
       "      <td>4</td>\n",
       "    </tr>\n",
       "    <tr>\n",
       "      <th>1</th>\n",
       "      <td>1630061040204/a844ae82-3140-46a8-bba6-f8316d50...</td>\n",
       "      <td>2021-08-27-10-44-00-209814</td>\n",
       "      <td>42f96360-0724-11ec-abef-d7697322d860</td>\n",
       "      <td>102</td>\n",
       "      <td>v0.9</td>\n",
       "      <td>96.6</td>\n",
       "      <td>12.5</td>\n",
       "      <td>14.7</td>\n",
       "      <td>2.0</td>\n",
       "      <td>depth</td>\n",
       "      <td>HUAWEI VOG-L29</td>\n",
       "      <td>424b7020-0724-11ec-abef-f7d2656ba536</td>\n",
       "      <td>1530</td>\n",
       "      <td>female</td>\n",
       "      <td>4</td>\n",
       "    </tr>\n",
       "    <tr>\n",
       "      <th>2</th>\n",
       "      <td>1630061040339/ff251cfe-ddcb-48e4-8070-47dfbdb9...</td>\n",
       "      <td>2021-08-27-10-44-00-350436</td>\n",
       "      <td>42f96360-0724-11ec-abef-d7697322d860</td>\n",
       "      <td>102</td>\n",
       "      <td>v0.9</td>\n",
       "      <td>96.6</td>\n",
       "      <td>12.5</td>\n",
       "      <td>14.7</td>\n",
       "      <td>3.0</td>\n",
       "      <td>depth</td>\n",
       "      <td>HUAWEI VOG-L29</td>\n",
       "      <td>424b7020-0724-11ec-abef-f7d2656ba536</td>\n",
       "      <td>1530</td>\n",
       "      <td>female</td>\n",
       "      <td>4</td>\n",
       "    </tr>\n",
       "    <tr>\n",
       "      <th>3</th>\n",
       "      <td>1630061040458/31e74f27-d026-47b9-924a-c300e69d...</td>\n",
       "      <td>2021-08-27-10-44-00-459772</td>\n",
       "      <td>42f96360-0724-11ec-abef-d7697322d860</td>\n",
       "      <td>102</td>\n",
       "      <td>v0.9</td>\n",
       "      <td>96.6</td>\n",
       "      <td>12.5</td>\n",
       "      <td>14.7</td>\n",
       "      <td>4.0</td>\n",
       "      <td>depth</td>\n",
       "      <td>HUAWEI VOG-L29</td>\n",
       "      <td>424b7020-0724-11ec-abef-f7d2656ba536</td>\n",
       "      <td>1530</td>\n",
       "      <td>female</td>\n",
       "      <td>4</td>\n",
       "    </tr>\n",
       "    <tr>\n",
       "      <th>4</th>\n",
       "      <td>1630061040614/f7e0d697-edda-43f2-be64-62ea8e1b...</td>\n",
       "      <td>2021-08-27-10-44-00-616014</td>\n",
       "      <td>42f96360-0724-11ec-abef-d7697322d860</td>\n",
       "      <td>102</td>\n",
       "      <td>v0.9</td>\n",
       "      <td>96.6</td>\n",
       "      <td>12.5</td>\n",
       "      <td>14.7</td>\n",
       "      <td>5.0</td>\n",
       "      <td>depth</td>\n",
       "      <td>HUAWEI VOG-L29</td>\n",
       "      <td>424b7020-0724-11ec-abef-f7d2656ba536</td>\n",
       "      <td>1530</td>\n",
       "      <td>female</td>\n",
       "      <td>4</td>\n",
       "    </tr>\n",
       "  </tbody>\n",
       "</table>\n",
       "</div>"
      ],
      "text/plain": [
       "                                           file_path  \\\n",
       "0  1630061040088/f493c35b-6227-4efa-8cf3-3c7ab88e...   \n",
       "1  1630061040204/a844ae82-3140-46a8-bba6-f8316d50...   \n",
       "2  1630061040339/ff251cfe-ddcb-48e4-8070-47dfbdb9...   \n",
       "3  1630061040458/31e74f27-d026-47b9-924a-c300e69d...   \n",
       "4  1630061040614/f7e0d697-edda-43f2-be64-62ea8e1b...   \n",
       "\n",
       "                    timestamp                               scan_id  \\\n",
       "0  2021-08-27-10-44-00-100435  42f96360-0724-11ec-abef-d7697322d860   \n",
       "1  2021-08-27-10-44-00-209814  42f96360-0724-11ec-abef-d7697322d860   \n",
       "2  2021-08-27-10-44-00-350436  42f96360-0724-11ec-abef-d7697322d860   \n",
       "3  2021-08-27-10-44-00-459772  42f96360-0724-11ec-abef-d7697322d860   \n",
       "4  2021-08-27-10-44-00-616014  42f96360-0724-11ec-abef-d7697322d860   \n",
       "\n",
       "   scan_step scan_version  height  weight  muac  order_number format  \\\n",
       "0        102         v0.9    96.6    12.5  14.7           1.0  depth   \n",
       "1        102         v0.9    96.6    12.5  14.7           2.0  depth   \n",
       "2        102         v0.9    96.6    12.5  14.7           3.0  depth   \n",
       "3        102         v0.9    96.6    12.5  14.7           4.0  depth   \n",
       "4        102         v0.9    96.6    12.5  14.7           5.0  depth   \n",
       "\n",
       "     device_model                             person_id   age     sex  Years  \n",
       "0  HUAWEI VOG-L29  424b7020-0724-11ec-abef-f7d2656ba536  1530  female      4  \n",
       "1  HUAWEI VOG-L29  424b7020-0724-11ec-abef-f7d2656ba536  1530  female      4  \n",
       "2  HUAWEI VOG-L29  424b7020-0724-11ec-abef-f7d2656ba536  1530  female      4  \n",
       "3  HUAWEI VOG-L29  424b7020-0724-11ec-abef-f7d2656ba536  1530  female      4  \n",
       "4  HUAWEI VOG-L29  424b7020-0724-11ec-abef-f7d2656ba536  1530  female      4  "
      ]
     },
     "execution_count": 298,
     "metadata": {},
     "output_type": "execute_result"
    }
   ],
   "source": [
    "artifacts = pd.read_csv(DATASET_PATH / 'labels.csv')\n",
    "print(\"Total no. of artifacts:\", len(artifacts))\n",
    "artifacts.head()"
   ]
  },
  {
   "cell_type": "code",
   "execution_count": 299,
   "metadata": {
    "gather": {
     "logged": 1630415584119
    },
    "jupyter": {
     "source_hidden": false
    }
   },
   "outputs": [
    {
     "data": {
      "text/html": [
       "<div>\n",
       "<style scoped>\n",
       "    .dataframe tbody tr th:only-of-type {\n",
       "        vertical-align: middle;\n",
       "    }\n",
       "\n",
       "    .dataframe tbody tr th {\n",
       "        vertical-align: top;\n",
       "    }\n",
       "\n",
       "    .dataframe thead th {\n",
       "        text-align: right;\n",
       "    }\n",
       "</style>\n",
       "<table border=\"1\" class=\"dataframe\">\n",
       "  <thead>\n",
       "    <tr style=\"text-align: right;\">\n",
       "      <th></th>\n",
       "      <th>file_path</th>\n",
       "      <th>timestamp</th>\n",
       "      <th>scan_id</th>\n",
       "      <th>scan_step</th>\n",
       "      <th>scan_version</th>\n",
       "      <th>height</th>\n",
       "      <th>weight</th>\n",
       "      <th>muac</th>\n",
       "      <th>order_number</th>\n",
       "      <th>format</th>\n",
       "      <th>device_model</th>\n",
       "      <th>person_id</th>\n",
       "      <th>age</th>\n",
       "      <th>sex</th>\n",
       "      <th>Years</th>\n",
       "    </tr>\n",
       "  </thead>\n",
       "  <tbody>\n",
       "    <tr>\n",
       "      <th>0</th>\n",
       "      <td>1630061040088/f493c35b-6227-4efa-8cf3-3c7ab88e...</td>\n",
       "      <td>2021-08-27-10-44-00-100435</td>\n",
       "      <td>42f96360-0724-11ec-abef-d7697322d860</td>\n",
       "      <td>102</td>\n",
       "      <td>v0.9</td>\n",
       "      <td>96.6</td>\n",
       "      <td>12.5</td>\n",
       "      <td>14.7</td>\n",
       "      <td>1.0</td>\n",
       "      <td>depth</td>\n",
       "      <td>HUAWEI VOG-L29</td>\n",
       "      <td>424b7020-0724-11ec-abef-f7d2656ba536</td>\n",
       "      <td>1530</td>\n",
       "      <td>female</td>\n",
       "      <td>4</td>\n",
       "    </tr>\n",
       "    <tr>\n",
       "      <th>1</th>\n",
       "      <td>1630061040204/a844ae82-3140-46a8-bba6-f8316d50...</td>\n",
       "      <td>2021-08-27-10-44-00-209814</td>\n",
       "      <td>42f96360-0724-11ec-abef-d7697322d860</td>\n",
       "      <td>102</td>\n",
       "      <td>v0.9</td>\n",
       "      <td>96.6</td>\n",
       "      <td>12.5</td>\n",
       "      <td>14.7</td>\n",
       "      <td>2.0</td>\n",
       "      <td>depth</td>\n",
       "      <td>HUAWEI VOG-L29</td>\n",
       "      <td>424b7020-0724-11ec-abef-f7d2656ba536</td>\n",
       "      <td>1530</td>\n",
       "      <td>female</td>\n",
       "      <td>4</td>\n",
       "    </tr>\n",
       "    <tr>\n",
       "      <th>2</th>\n",
       "      <td>1630061040339/ff251cfe-ddcb-48e4-8070-47dfbdb9...</td>\n",
       "      <td>2021-08-27-10-44-00-350436</td>\n",
       "      <td>42f96360-0724-11ec-abef-d7697322d860</td>\n",
       "      <td>102</td>\n",
       "      <td>v0.9</td>\n",
       "      <td>96.6</td>\n",
       "      <td>12.5</td>\n",
       "      <td>14.7</td>\n",
       "      <td>3.0</td>\n",
       "      <td>depth</td>\n",
       "      <td>HUAWEI VOG-L29</td>\n",
       "      <td>424b7020-0724-11ec-abef-f7d2656ba536</td>\n",
       "      <td>1530</td>\n",
       "      <td>female</td>\n",
       "      <td>4</td>\n",
       "    </tr>\n",
       "    <tr>\n",
       "      <th>3</th>\n",
       "      <td>1630061040458/31e74f27-d026-47b9-924a-c300e69d...</td>\n",
       "      <td>2021-08-27-10-44-00-459772</td>\n",
       "      <td>42f96360-0724-11ec-abef-d7697322d860</td>\n",
       "      <td>102</td>\n",
       "      <td>v0.9</td>\n",
       "      <td>96.6</td>\n",
       "      <td>12.5</td>\n",
       "      <td>14.7</td>\n",
       "      <td>4.0</td>\n",
       "      <td>depth</td>\n",
       "      <td>HUAWEI VOG-L29</td>\n",
       "      <td>424b7020-0724-11ec-abef-f7d2656ba536</td>\n",
       "      <td>1530</td>\n",
       "      <td>female</td>\n",
       "      <td>4</td>\n",
       "    </tr>\n",
       "    <tr>\n",
       "      <th>4</th>\n",
       "      <td>1630061040614/f7e0d697-edda-43f2-be64-62ea8e1b...</td>\n",
       "      <td>2021-08-27-10-44-00-616014</td>\n",
       "      <td>42f96360-0724-11ec-abef-d7697322d860</td>\n",
       "      <td>102</td>\n",
       "      <td>v0.9</td>\n",
       "      <td>96.6</td>\n",
       "      <td>12.5</td>\n",
       "      <td>14.7</td>\n",
       "      <td>5.0</td>\n",
       "      <td>depth</td>\n",
       "      <td>HUAWEI VOG-L29</td>\n",
       "      <td>424b7020-0724-11ec-abef-f7d2656ba536</td>\n",
       "      <td>1530</td>\n",
       "      <td>female</td>\n",
       "      <td>4</td>\n",
       "    </tr>\n",
       "  </tbody>\n",
       "</table>\n",
       "</div>"
      ],
      "text/plain": [
       "                                           file_path  \\\n",
       "0  1630061040088/f493c35b-6227-4efa-8cf3-3c7ab88e...   \n",
       "1  1630061040204/a844ae82-3140-46a8-bba6-f8316d50...   \n",
       "2  1630061040339/ff251cfe-ddcb-48e4-8070-47dfbdb9...   \n",
       "3  1630061040458/31e74f27-d026-47b9-924a-c300e69d...   \n",
       "4  1630061040614/f7e0d697-edda-43f2-be64-62ea8e1b...   \n",
       "\n",
       "                    timestamp                               scan_id  \\\n",
       "0  2021-08-27-10-44-00-100435  42f96360-0724-11ec-abef-d7697322d860   \n",
       "1  2021-08-27-10-44-00-209814  42f96360-0724-11ec-abef-d7697322d860   \n",
       "2  2021-08-27-10-44-00-350436  42f96360-0724-11ec-abef-d7697322d860   \n",
       "3  2021-08-27-10-44-00-459772  42f96360-0724-11ec-abef-d7697322d860   \n",
       "4  2021-08-27-10-44-00-616014  42f96360-0724-11ec-abef-d7697322d860   \n",
       "\n",
       "   scan_step scan_version  height  weight  muac  order_number format  \\\n",
       "0        102         v0.9    96.6    12.5  14.7           1.0  depth   \n",
       "1        102         v0.9    96.6    12.5  14.7           2.0  depth   \n",
       "2        102         v0.9    96.6    12.5  14.7           3.0  depth   \n",
       "3        102         v0.9    96.6    12.5  14.7           4.0  depth   \n",
       "4        102         v0.9    96.6    12.5  14.7           5.0  depth   \n",
       "\n",
       "     device_model                             person_id   age     sex  Years  \n",
       "0  HUAWEI VOG-L29  424b7020-0724-11ec-abef-f7d2656ba536  1530  female      4  \n",
       "1  HUAWEI VOG-L29  424b7020-0724-11ec-abef-f7d2656ba536  1530  female      4  \n",
       "2  HUAWEI VOG-L29  424b7020-0724-11ec-abef-f7d2656ba536  1530  female      4  \n",
       "3  HUAWEI VOG-L29  424b7020-0724-11ec-abef-f7d2656ba536  1530  female      4  \n",
       "4  HUAWEI VOG-L29  424b7020-0724-11ec-abef-f7d2656ba536  1530  female      4  "
      ]
     },
     "execution_count": 299,
     "metadata": {},
     "output_type": "execute_result"
    }
   ],
   "source": [
    "#adding the Years column into dataframe\n",
    "artifacts['Years'] = artifacts.apply(convert_age_from_days_to_years, axis=1)\n",
    "artifacts.head()"
   ]
  },
  {
   "cell_type": "markdown",
   "metadata": {},
   "source": [
    "### Total no. of children in the dataset"
   ]
  },
  {
   "cell_type": "code",
   "execution_count": 300,
   "metadata": {
    "gather": {
     "logged": 1630415596160
    }
   },
   "outputs": [
    {
     "name": "stdout",
     "output_type": "stream",
     "text": [
      "Total no. of artifacts: 261115\n",
      "Total no. of unique scan ids: 17656\n",
      "Total no. of unique person ids: 5729\n"
     ]
    }
   ],
   "source": [
    "print(\"Total no. of artifacts:\", len(artifacts))\n",
    "unique_scan_ids = artifacts.drop_duplicates(subset='scan_id', keep='first')\n",
    "print(\"Total no. of unique scan ids:\", len(unique_scan_ids))\n",
    "unique_person_ids = artifacts.drop_duplicates(subset='person_id', keep='first')\n",
    "print(\"Total no. of unique person ids:\", len(unique_person_ids))"
   ]
  },
  {
   "cell_type": "code",
   "execution_count": 301,
   "metadata": {
    "gather": {
     "logged": 1630415599597
    },
    "jupyter": {
     "outputs_hidden": false,
     "source_hidden": false
    },
    "nteract": {
     "transient": {
      "deleting": false
     }
    }
   },
   "outputs": [
    {
     "name": "stdout",
     "output_type": "stream",
     "text": [
      "HUAWEI VOG-L29    261115\n",
      "Name: device_model, dtype: int64\n"
     ]
    },
    {
     "data": {
      "image/png": "[encoded data removed]",
      "text/plain": [
       "<Figure size 432x288 with 1 Axes>"
      ]
     },
     "metadata": {},
     "output_type": "display_data"
    }
   ],
   "source": [
    "print(artifacts['device_model'].value_counts())\n",
    "_ = artifacts['device_model'].value_counts().plot(kind='pie')"
   ]
  },
  {
   "cell_type": "code",
   "execution_count": 302,
   "metadata": {
    "gather": {
     "logged": 1630415616328
    },
    "jupyter": {
     "outputs_hidden": false,
     "source_hidden": false
    },
    "nteract": {
     "transient": {
      "deleting": false
     }
    }
   },
   "outputs": [
    {
     "name": "stdout",
     "output_type": "stream",
     "text": [
      "v0.8      240013\n",
      "v0.9       20256\n",
      "v1.0.2       846\n",
      "Name: scan_version, dtype: int64\n"
     ]
    },
    {
     "data": {
      "image/png": "[encoded data removed]",
      "text/plain": [
       "<Figure size 432x288 with 1 Axes>"
      ]
     },
     "metadata": {},
     "output_type": "display_data"
    }
   ],
   "source": [
    "print(artifacts['scan_version'].value_counts())\n",
    "_ = artifacts['scan_version'].value_counts().plot(kind='pie')"
   ]
  },
  {
   "cell_type": "code",
   "execution_count": 303,
   "metadata": {
    "gather": {
     "logged": 1630415624217
    },
    "jupyter": {
     "outputs_hidden": false,
     "source_hidden": false
    },
    "nteract": {
     "transient": {
      "deleting": false
     }
    }
   },
   "outputs": [
    {
     "name": "stdout",
     "output_type": "stream",
     "text": [
      "0     573\n",
      "1    1237\n",
      "2    1191\n",
      "3    1280\n",
      "4    1443\n",
      "5       5\n",
      "Name: Years, dtype: int64\n"
     ]
    },
    {
     "data": {
      "image/png": "[encoded data removed]",
      "text/plain": [
       "<Figure size 432x288 with 1 Axes>"
      ]
     },
     "metadata": {
      "needs_background": "light"
     },
     "output_type": "display_data"
    }
   ],
   "source": [
    "draw_age_distribution(unique_person_ids)"
   ]
  },
  {
   "cell_type": "code",
   "execution_count": 304,
   "metadata": {
    "gather": {
     "logged": 1630415635100
    }
   },
   "outputs": [
    {
     "name": "stdout",
     "output_type": "stream",
     "text": [
      "0    1730\n",
      "1    3723\n",
      "2    3641\n",
      "3    3936\n",
      "4    4611\n",
      "5      15\n",
      "Name: Years, dtype: int64\n"
     ]
    },
    {
     "data": {
      "image/png": "[encoded data removed]",
      "text/plain": [
       "<Figure size 432x288 with 1 Axes>"
      ]
     },
     "metadata": {
      "needs_background": "light"
     },
     "output_type": "display_data"
    }
   ],
   "source": [
    "draw_age_distribution(unique_scan_ids)"
   ]
  },
  {
   "cell_type": "code",
   "execution_count": 305,
   "metadata": {
    "gather": {
     "logged": 1630415638367
    }
   },
   "outputs": [
    {
     "name": "stdout",
     "output_type": "stream",
     "text": [
      "101    115143\n",
      "102     39911\n",
      "100     39677\n",
      "201     39231\n",
      "200     13582\n",
      "202     13571\n",
      "Name: scan_step, dtype: int64\n"
     ]
    },
    {
     "data": {
      "image/png": "[encoded data removed]",
      "text/plain": [
       "<Figure size 432x288 with 1 Axes>"
      ]
     },
     "metadata": {},
     "output_type": "display_data"
    }
   ],
   "source": [
    "## keys for different scan type and their distribution in dataset\n",
    "\"- 100 - standing front scan\",\n",
    "\"- 101 - standing 360 scan\",\n",
    "\"- 102 - standing back scan\",\n",
    "\"- 200 - lying front scan\",\n",
    "\"- 201 - lying side scan\",\n",
    "\"- 202 - lying back scan\"\n",
    "print(artifacts['scan_step'].value_counts())\n",
    "_ = artifacts['scan_step'].value_counts().plot(kind='pie')"
   ]
  },
  {
   "cell_type": "code",
   "execution_count": 306,
   "metadata": {
    "gather": {
     "logged": 1630415649844
    }
   },
   "outputs": [
    {
     "name": "stderr",
     "output_type": "stream",
     "text": [
      "2021-09-22 07:32:42,242 - INFO - scan_step - /mnt/batch/tasks/shared/LS_root/mounts/clusters/pksingh/code/Users/pksingh/cgm-ml/cgmml/data_utils/dataset_EDA/data_utilities.py: line 52\n"
     ]
    },
    {
     "data": {
      "text/html": [
       "<div>\n",
       "<style scoped>\n",
       "    .dataframe tbody tr th:only-of-type {\n",
       "        vertical-align: middle;\n",
       "    }\n",
       "\n",
       "    .dataframe tbody tr th {\n",
       "        vertical-align: top;\n",
       "    }\n",
       "\n",
       "    .dataframe thead th {\n",
       "        text-align: right;\n",
       "    }\n",
       "</style>\n",
       "<table border=\"1\" class=\"dataframe\">\n",
       "  <thead>\n",
       "    <tr style=\"text-align: right;\">\n",
       "      <th></th>\n",
       "      <th>0</th>\n",
       "      <th>1</th>\n",
       "      <th>2</th>\n",
       "      <th>3</th>\n",
       "      <th>4</th>\n",
       "    </tr>\n",
       "    <tr>\n",
       "      <th>codes</th>\n",
       "      <th></th>\n",
       "      <th></th>\n",
       "      <th></th>\n",
       "      <th></th>\n",
       "      <th></th>\n",
       "    </tr>\n",
       "  </thead>\n",
       "  <tbody>\n",
       "    <tr>\n",
       "      <th>102</th>\n",
       "      <td>243</td>\n",
       "      <td>3275</td>\n",
       "      <td>10490</td>\n",
       "      <td>11872</td>\n",
       "      <td>13986</td>\n",
       "    </tr>\n",
       "    <tr>\n",
       "      <th>101</th>\n",
       "      <td>728</td>\n",
       "      <td>9360</td>\n",
       "      <td>30530</td>\n",
       "      <td>34185</td>\n",
       "      <td>40210</td>\n",
       "    </tr>\n",
       "    <tr>\n",
       "      <th>100</th>\n",
       "      <td>246</td>\n",
       "      <td>3193</td>\n",
       "      <td>10443</td>\n",
       "      <td>11861</td>\n",
       "      <td>13889</td>\n",
       "    </tr>\n",
       "    <tr>\n",
       "      <th>200</th>\n",
       "      <td>4942</td>\n",
       "      <td>8066</td>\n",
       "      <td>511</td>\n",
       "      <td>27</td>\n",
       "      <td>36</td>\n",
       "    </tr>\n",
       "    <tr>\n",
       "      <th>201</th>\n",
       "      <td>14427</td>\n",
       "      <td>23140</td>\n",
       "      <td>1482</td>\n",
       "      <td>78</td>\n",
       "      <td>104</td>\n",
       "    </tr>\n",
       "    <tr>\n",
       "      <th>202</th>\n",
       "      <td>4950</td>\n",
       "      <td>8045</td>\n",
       "      <td>513</td>\n",
       "      <td>27</td>\n",
       "      <td>36</td>\n",
       "    </tr>\n",
       "  </tbody>\n",
       "</table>\n",
       "</div>"
      ],
      "text/plain": [
       "           0      1      2      3      4\n",
       "codes                                   \n",
       "102      243   3275  10490  11872  13986\n",
       "101      728   9360  30530  34185  40210\n",
       "100      246   3193  10443  11861  13889\n",
       "200     4942   8066    511     27     36\n",
       "201    14427  23140   1482     78    104\n",
       "202     4950   8045    513     27     36"
      ]
     },
     "execution_count": 306,
     "metadata": {},
     "output_type": "execute_result"
    }
   ],
   "source": [
    "scan_type_colname = 'scan_step' # for other datasets this can be \"key\"\n",
    "calculate_code_age_distribution(artifacts, scan_type_colname)"
   ]
  },
  {
   "cell_type": "code",
   "execution_count": 307,
   "metadata": {
    "gather": {
     "logged": 1630415679973
    }
   },
   "outputs": [
    {
     "name": "stderr",
     "output_type": "stream",
     "text": [
      "2021-09-22 07:32:44,616 - INFO - scan_step - /mnt/batch/tasks/shared/LS_root/mounts/clusters/pksingh/code/Users/pksingh/cgm-ml/cgmml/data_utils/dataset_EDA/data_utilities.py: line 52\n"
     ]
    },
    {
     "data": {
      "text/html": [
       "<div>\n",
       "<style scoped>\n",
       "    .dataframe tbody tr th:only-of-type {\n",
       "        vertical-align: middle;\n",
       "    }\n",
       "\n",
       "    .dataframe tbody tr th {\n",
       "        vertical-align: top;\n",
       "    }\n",
       "\n",
       "    .dataframe thead th {\n",
       "        text-align: right;\n",
       "    }\n",
       "</style>\n",
       "<table border=\"1\" class=\"dataframe\">\n",
       "  <thead>\n",
       "    <tr style=\"text-align: right;\">\n",
       "      <th></th>\n",
       "      <th>0</th>\n",
       "      <th>1</th>\n",
       "      <th>2</th>\n",
       "      <th>3</th>\n",
       "      <th>4</th>\n",
       "    </tr>\n",
       "    <tr>\n",
       "      <th>codes</th>\n",
       "      <th></th>\n",
       "      <th></th>\n",
       "      <th></th>\n",
       "      <th></th>\n",
       "      <th></th>\n",
       "    </tr>\n",
       "  </thead>\n",
       "  <tbody>\n",
       "    <tr>\n",
       "      <th>102</th>\n",
       "      <td>27</td>\n",
       "      <td>356</td>\n",
       "      <td>1158</td>\n",
       "      <td>1310</td>\n",
       "      <td>1534</td>\n",
       "    </tr>\n",
       "    <tr>\n",
       "      <th>101</th>\n",
       "      <td>28</td>\n",
       "      <td>350</td>\n",
       "      <td>1153</td>\n",
       "      <td>1306</td>\n",
       "      <td>1529</td>\n",
       "    </tr>\n",
       "    <tr>\n",
       "      <th>100</th>\n",
       "      <td>28</td>\n",
       "      <td>356</td>\n",
       "      <td>1159</td>\n",
       "      <td>1311</td>\n",
       "      <td>1536</td>\n",
       "    </tr>\n",
       "    <tr>\n",
       "      <th>200</th>\n",
       "      <td>550</td>\n",
       "      <td>889</td>\n",
       "      <td>57</td>\n",
       "      <td>3</td>\n",
       "      <td>4</td>\n",
       "    </tr>\n",
       "    <tr>\n",
       "      <th>201</th>\n",
       "      <td>548</td>\n",
       "      <td>884</td>\n",
       "      <td>57</td>\n",
       "      <td>3</td>\n",
       "      <td>4</td>\n",
       "    </tr>\n",
       "    <tr>\n",
       "      <th>202</th>\n",
       "      <td>549</td>\n",
       "      <td>888</td>\n",
       "      <td>57</td>\n",
       "      <td>3</td>\n",
       "      <td>4</td>\n",
       "    </tr>\n",
       "  </tbody>\n",
       "</table>\n",
       "</div>"
      ],
      "text/plain": [
       "         0    1     2     3     4\n",
       "codes                            \n",
       "102     27  356  1158  1310  1534\n",
       "101     28  350  1153  1306  1529\n",
       "100     28  356  1159  1311  1536\n",
       "200    550  889    57     3     4\n",
       "201    548  884    57     3     4\n",
       "202    549  888    57     3     4"
      ]
     },
     "execution_count": 307,
     "metadata": {},
     "output_type": "execute_result"
    }
   ],
   "source": [
    "calculate_code_age_distribution(unique_scan_ids, scan_type_colname)"
   ]
  },
  {
   "cell_type": "markdown",
   "metadata": {},
   "source": [
    "### Distribution of height, weight and age against each other"
   ]
  },
  {
   "cell_type": "code",
   "execution_count": 308,
   "metadata": {
    "gather": {
     "logged": 1630415703035
    }
   },
   "outputs": [
    {
     "data": {
      "image/png": "[encoded data removed]",
      "text/plain": [
       "<Figure size 432x288 with 1 Axes>"
      ]
     },
     "metadata": {
      "needs_background": "light"
     },
     "output_type": "display_data"
    }
   ],
   "source": [
    "#distribution of height against age\n",
    "height_vs_age = unique_scan_ids.plot.scatter(x='height', y='age', c='red')"
   ]
  },
  {
   "cell_type": "code",
   "execution_count": 309,
   "metadata": {
    "gather": {
     "logged": 1630415707097
    }
   },
   "outputs": [
    {
     "data": {
      "image/png": "[encoded data removed]",
      "text/plain": [
       "<Figure size 432x288 with 1 Axes>"
      ]
     },
     "metadata": {
      "needs_background": "light"
     },
     "output_type": "display_data"
    }
   ],
   "source": [
    "#distribution of weight against age\n",
    "weight_vs_age = unique_scan_ids.plot.scatter(x='weight', y='age', c='red')"
   ]
  },
  {
   "cell_type": "code",
   "execution_count": 310,
   "metadata": {
    "gather": {
     "logged": 1630415710720
    }
   },
   "outputs": [
    {
     "data": {
      "image/png": "[encoded data removed]",
      "text/plain": [
       "<Figure size 432x288 with 1 Axes>"
      ]
     },
     "metadata": {
      "needs_background": "light"
     },
     "output_type": "display_data"
    }
   ],
   "source": [
    "## distribution of height against weight\n",
    "weight_vs_height = unique_scan_ids.plot.scatter(x='height', y='weight', c='red')"
   ]
  },
  {
   "cell_type": "markdown",
   "metadata": {},
   "source": [
    "## Analyze outliers: 1) age, 2) weight, 3) height, 4) pixel values"
   ]
  },
  {
   "cell_type": "code",
   "execution_count": 311,
   "metadata": {
    "gather": {
     "logged": 1630415753435
    }
   },
   "outputs": [
    {
     "data": {
      "text/html": [
       "<div>\n",
       "<style scoped>\n",
       "    .dataframe tbody tr th:only-of-type {\n",
       "        vertical-align: middle;\n",
       "    }\n",
       "\n",
       "    .dataframe tbody tr th {\n",
       "        vertical-align: top;\n",
       "    }\n",
       "\n",
       "    .dataframe thead th {\n",
       "        text-align: right;\n",
       "    }\n",
       "</style>\n",
       "<table border=\"1\" class=\"dataframe\">\n",
       "  <thead>\n",
       "    <tr style=\"text-align: right;\">\n",
       "      <th></th>\n",
       "      <th>scan_step</th>\n",
       "      <th>height</th>\n",
       "      <th>weight</th>\n",
       "      <th>muac</th>\n",
       "      <th>order_number</th>\n",
       "      <th>age</th>\n",
       "      <th>Years</th>\n",
       "    </tr>\n",
       "  </thead>\n",
       "  <tbody>\n",
       "    <tr>\n",
       "      <th>count</th>\n",
       "      <td>261115.000000</td>\n",
       "      <td>261115.000000</td>\n",
       "      <td>261115.000000</td>\n",
       "      <td>261115.000000</td>\n",
       "      <td>261115.000000</td>\n",
       "      <td>261115.000000</td>\n",
       "      <td>261115.000000</td>\n",
       "    </tr>\n",
       "    <tr>\n",
       "      <th>mean</th>\n",
       "      <td>126.424135</td>\n",
       "      <td>85.283534</td>\n",
       "      <td>10.810285</td>\n",
       "      <td>13.890742</td>\n",
       "      <td>10.284135</td>\n",
       "      <td>1046.536201</td>\n",
       "      <td>2.341156</td>\n",
       "    </tr>\n",
       "    <tr>\n",
       "      <th>std</th>\n",
       "      <td>43.547090</td>\n",
       "      <td>11.509881</td>\n",
       "      <td>2.615953</td>\n",
       "      <td>1.042882</td>\n",
       "      <td>7.957550</td>\n",
       "      <td>484.902529</td>\n",
       "      <td>1.327149</td>\n",
       "    </tr>\n",
       "    <tr>\n",
       "      <th>min</th>\n",
       "      <td>100.000000</td>\n",
       "      <td>55.600000</td>\n",
       "      <td>5.000000</td>\n",
       "      <td>9.900000</td>\n",
       "      <td>1.000000</td>\n",
       "      <td>184.000000</td>\n",
       "      <td>0.000000</td>\n",
       "    </tr>\n",
       "    <tr>\n",
       "      <th>25%</th>\n",
       "      <td>101.000000</td>\n",
       "      <td>76.200000</td>\n",
       "      <td>8.700000</td>\n",
       "      <td>13.200000</td>\n",
       "      <td>4.000000</td>\n",
       "      <td>619.000000</td>\n",
       "      <td>1.000000</td>\n",
       "    </tr>\n",
       "    <tr>\n",
       "      <th>50%</th>\n",
       "      <td>101.000000</td>\n",
       "      <td>86.000000</td>\n",
       "      <td>10.800000</td>\n",
       "      <td>13.800000</td>\n",
       "      <td>8.000000</td>\n",
       "      <td>1070.000000</td>\n",
       "      <td>2.000000</td>\n",
       "    </tr>\n",
       "    <tr>\n",
       "      <th>75%</th>\n",
       "      <td>200.000000</td>\n",
       "      <td>94.400000</td>\n",
       "      <td>12.750000</td>\n",
       "      <td>14.500000</td>\n",
       "      <td>16.000000</td>\n",
       "      <td>1481.000000</td>\n",
       "      <td>4.000000</td>\n",
       "    </tr>\n",
       "    <tr>\n",
       "      <th>max</th>\n",
       "      <td>202.000000</td>\n",
       "      <td>115.000000</td>\n",
       "      <td>22.650000</td>\n",
       "      <td>18.500000</td>\n",
       "      <td>104.000000</td>\n",
       "      <td>1825.000000</td>\n",
       "      <td>5.000000</td>\n",
       "    </tr>\n",
       "  </tbody>\n",
       "</table>\n",
       "</div>"
      ],
      "text/plain": [
       "           scan_step         height         weight           muac  \\\n",
       "count  261115.000000  261115.000000  261115.000000  261115.000000   \n",
       "mean      126.424135      85.283534      10.810285      13.890742   \n",
       "std        43.547090      11.509881       2.615953       1.042882   \n",
       "min       100.000000      55.600000       5.000000       9.900000   \n",
       "25%       101.000000      76.200000       8.700000      13.200000   \n",
       "50%       101.000000      86.000000      10.800000      13.800000   \n",
       "75%       200.000000      94.400000      12.750000      14.500000   \n",
       "max       202.000000     115.000000      22.650000      18.500000   \n",
       "\n",
       "        order_number            age          Years  \n",
       "count  261115.000000  261115.000000  261115.000000  \n",
       "mean       10.284135    1046.536201       2.341156  \n",
       "std         7.957550     484.902529       1.327149  \n",
       "min         1.000000     184.000000       0.000000  \n",
       "25%         4.000000     619.000000       1.000000  \n",
       "50%         8.000000    1070.000000       2.000000  \n",
       "75%        16.000000    1481.000000       4.000000  \n",
       "max       104.000000    1825.000000       5.000000  "
      ]
     },
     "execution_count": 311,
     "metadata": {},
     "output_type": "execute_result"
    }
   ],
   "source": [
    "artifacts.describe()"
   ]
  },
  {
   "cell_type": "code",
   "execution_count": 312,
   "metadata": {
    "gather": {
     "logged": 1630415756816
    }
   },
   "outputs": [
    {
     "data": {
      "text/html": [
       "<div>\n",
       "<style scoped>\n",
       "    .dataframe tbody tr th:only-of-type {\n",
       "        vertical-align: middle;\n",
       "    }\n",
       "\n",
       "    .dataframe tbody tr th {\n",
       "        vertical-align: top;\n",
       "    }\n",
       "\n",
       "    .dataframe thead th {\n",
       "        text-align: right;\n",
       "    }\n",
       "</style>\n",
       "<table border=\"1\" class=\"dataframe\">\n",
       "  <thead>\n",
       "    <tr style=\"text-align: right;\">\n",
       "      <th></th>\n",
       "      <th>scan_step</th>\n",
       "      <th>height</th>\n",
       "      <th>weight</th>\n",
       "      <th>muac</th>\n",
       "      <th>order_number</th>\n",
       "      <th>age</th>\n",
       "      <th>Years</th>\n",
       "    </tr>\n",
       "  </thead>\n",
       "  <tbody>\n",
       "    <tr>\n",
       "      <th>count</th>\n",
       "      <td>17656.000000</td>\n",
       "      <td>17656.000000</td>\n",
       "      <td>17656.000000</td>\n",
       "      <td>17656.000000</td>\n",
       "      <td>17656.000000</td>\n",
       "      <td>17656.000000</td>\n",
       "      <td>17656.000000</td>\n",
       "    </tr>\n",
       "    <tr>\n",
       "      <th>mean</th>\n",
       "      <td>126.486690</td>\n",
       "      <td>85.275176</td>\n",
       "      <td>10.814150</td>\n",
       "      <td>13.893101</td>\n",
       "      <td>1.025714</td>\n",
       "      <td>1046.472587</td>\n",
       "      <td>2.340961</td>\n",
       "    </tr>\n",
       "    <tr>\n",
       "      <th>std</th>\n",
       "      <td>43.587727</td>\n",
       "      <td>11.517429</td>\n",
       "      <td>2.617713</td>\n",
       "      <td>1.042518</td>\n",
       "      <td>0.452460</td>\n",
       "      <td>485.012859</td>\n",
       "      <td>1.327346</td>\n",
       "    </tr>\n",
       "    <tr>\n",
       "      <th>min</th>\n",
       "      <td>100.000000</td>\n",
       "      <td>55.600000</td>\n",
       "      <td>5.000000</td>\n",
       "      <td>9.900000</td>\n",
       "      <td>1.000000</td>\n",
       "      <td>184.000000</td>\n",
       "      <td>0.000000</td>\n",
       "    </tr>\n",
       "    <tr>\n",
       "      <th>25%</th>\n",
       "      <td>101.000000</td>\n",
       "      <td>76.200000</td>\n",
       "      <td>8.700000</td>\n",
       "      <td>13.200000</td>\n",
       "      <td>1.000000</td>\n",
       "      <td>618.000000</td>\n",
       "      <td>1.000000</td>\n",
       "    </tr>\n",
       "    <tr>\n",
       "      <th>50%</th>\n",
       "      <td>102.000000</td>\n",
       "      <td>86.000000</td>\n",
       "      <td>10.800000</td>\n",
       "      <td>13.800000</td>\n",
       "      <td>1.000000</td>\n",
       "      <td>1070.000000</td>\n",
       "      <td>2.000000</td>\n",
       "    </tr>\n",
       "    <tr>\n",
       "      <th>75%</th>\n",
       "      <td>200.000000</td>\n",
       "      <td>94.400000</td>\n",
       "      <td>12.750000</td>\n",
       "      <td>14.500000</td>\n",
       "      <td>1.000000</td>\n",
       "      <td>1481.000000</td>\n",
       "      <td>4.000000</td>\n",
       "    </tr>\n",
       "    <tr>\n",
       "      <th>max</th>\n",
       "      <td>202.000000</td>\n",
       "      <td>115.000000</td>\n",
       "      <td>22.650000</td>\n",
       "      <td>18.500000</td>\n",
       "      <td>22.000000</td>\n",
       "      <td>1825.000000</td>\n",
       "      <td>5.000000</td>\n",
       "    </tr>\n",
       "  </tbody>\n",
       "</table>\n",
       "</div>"
      ],
      "text/plain": [
       "          scan_step        height        weight          muac  order_number  \\\n",
       "count  17656.000000  17656.000000  17656.000000  17656.000000  17656.000000   \n",
       "mean     126.486690     85.275176     10.814150     13.893101      1.025714   \n",
       "std       43.587727     11.517429      2.617713      1.042518      0.452460   \n",
       "min      100.000000     55.600000      5.000000      9.900000      1.000000   \n",
       "25%      101.000000     76.200000      8.700000     13.200000      1.000000   \n",
       "50%      102.000000     86.000000     10.800000     13.800000      1.000000   \n",
       "75%      200.000000     94.400000     12.750000     14.500000      1.000000   \n",
       "max      202.000000    115.000000     22.650000     18.500000     22.000000   \n",
       "\n",
       "                age         Years  \n",
       "count  17656.000000  17656.000000  \n",
       "mean    1046.472587      2.340961  \n",
       "std      485.012859      1.327346  \n",
       "min      184.000000      0.000000  \n",
       "25%      618.000000      1.000000  \n",
       "50%     1070.000000      2.000000  \n",
       "75%     1481.000000      4.000000  \n",
       "max     1825.000000      5.000000  "
      ]
     },
     "execution_count": 312,
     "metadata": {},
     "output_type": "execute_result"
    }
   ],
   "source": [
    "unique_scan_ids.describe()"
   ]
  },
  {
   "cell_type": "markdown",
   "metadata": {},
   "source": [
    "### 1) Check age"
   ]
  },
  {
   "cell_type": "markdown",
   "metadata": {},
   "source": [
    "##### Check age < 6 months or  > 6 years"
   ]
  },
  {
   "cell_type": "code",
   "execution_count": 313,
   "metadata": {
    "gather": {
     "logged": 1630415836566
    }
   },
   "outputs": [
    {
     "name": "stdout",
     "output_type": "stream",
     "text": [
      "Running the following query: @df.age<365/2\n",
      "No. of outliers: 0\n"
     ]
    },
    {
     "data": {
      "text/plain": [
       "[]"
      ]
     },
     "execution_count": 313,
     "metadata": {},
     "output_type": "execute_result"
    }
   ],
   "source": [
    "find_outliers(artifacts, 'age', '<365/2', data_id_name='person_id')"
   ]
  },
  {
   "cell_type": "code",
   "execution_count": 314,
   "metadata": {
    "gather": {
     "logged": 1630415846419
    },
    "jupyter": {
     "outputs_hidden": false,
     "source_hidden": false
    },
    "nteract": {
     "transient": {
      "deleting": false
     }
    }
   },
   "outputs": [
    {
     "name": "stdout",
     "output_type": "stream",
     "text": [
      "Running the following query: @df.age<365/2\n",
      "No. of outliers: 0\n"
     ]
    },
    {
     "data": {
      "text/plain": [
       "[]"
      ]
     },
     "execution_count": 314,
     "metadata": {},
     "output_type": "execute_result"
    }
   ],
   "source": [
    "find_outliers(artifacts, 'age', '<365/2', data_id_name='scan_id')"
   ]
  },
  {
   "cell_type": "code",
   "execution_count": 315,
   "metadata": {
    "gather": {
     "logged": 1630415848734
    },
    "scrolled": true
   },
   "outputs": [
    {
     "name": "stdout",
     "output_type": "stream",
     "text": [
      "Running the following query: @df.age>365*6\n",
      "No. of outliers: 0\n"
     ]
    },
    {
     "data": {
      "text/plain": [
       "[]"
      ]
     },
     "execution_count": 315,
     "metadata": {},
     "output_type": "execute_result"
    }
   ],
   "source": [
    "find_outliers(artifacts, 'age', '>365*6', data_id_name='scan_id')"
   ]
  },
  {
   "cell_type": "markdown",
   "metadata": {},
   "source": [
    "### 2) Check weight"
   ]
  },
  {
   "cell_type": "code",
   "execution_count": 316,
   "metadata": {
    "gather": {
     "logged": 1630415852102
    }
   },
   "outputs": [
    {
     "name": "stdout",
     "output_type": "stream",
     "text": [
      "Running the following query: @df.weight<5.0\n",
      "No. of outliers: 0\n"
     ]
    },
    {
     "data": {
      "text/plain": [
       "[]"
      ]
     },
     "execution_count": 316,
     "metadata": {},
     "output_type": "execute_result"
    }
   ],
   "source": [
    "find_outliers(artifacts, 'weight', '<5.0', data_id_name='scan_id')"
   ]
  },
  {
   "cell_type": "code",
   "execution_count": 317,
   "metadata": {
    "gather": {
     "logged": 1630415854219
    }
   },
   "outputs": [
    {
     "name": "stdout",
     "output_type": "stream",
     "text": [
      "Running the following query: @df.weight>30.0\n",
      "No. of outliers: 0\n"
     ]
    },
    {
     "data": {
      "text/plain": [
       "[]"
      ]
     },
     "execution_count": 317,
     "metadata": {},
     "output_type": "execute_result"
    }
   ],
   "source": [
    "find_outliers(artifacts, 'weight', '>30.0', data_id_name='scan_id')"
   ]
  },
  {
   "cell_type": "markdown",
   "metadata": {},
   "source": [
    "### 3) Check height"
   ]
  },
  {
   "cell_type": "code",
   "execution_count": 318,
   "metadata": {
    "gather": {
     "logged": 1630415857178
    },
    "scrolled": true
   },
   "outputs": [
    {
     "name": "stdout",
     "output_type": "stream",
     "text": [
      "Running the following query: @df.height<40.0\n",
      "No. of outliers: 0\n"
     ]
    },
    {
     "data": {
      "text/plain": [
       "[]"
      ]
     },
     "execution_count": 318,
     "metadata": {},
     "output_type": "execute_result"
    }
   ],
   "source": [
    "find_outliers(artifacts, 'height', '<40.0', data_id_name='scan_id')"
   ]
  },
  {
   "cell_type": "code",
   "execution_count": 319,
   "metadata": {
    "gather": {
     "logged": 1630415858124
    }
   },
   "outputs": [
    {
     "name": "stdout",
     "output_type": "stream",
     "text": [
      "Running the following query: @df.height>150.0\n",
      "No. of outliers: 0\n"
     ]
    },
    {
     "data": {
      "text/plain": [
       "[]"
      ]
     },
     "execution_count": 319,
     "metadata": {},
     "output_type": "execute_result"
    }
   ],
   "source": [
    "find_outliers(artifacts, 'height', '>150.0', data_id_name='scan_id')"
   ]
  }
 ],
 "metadata": {
  "kernel_info": {
   "name": "python3-azureml"
  },
  "kernelspec": {
   "display_name": "Python 3.6 - AzureML",
   "language": "python",
   "name": "python3-azureml"
  },
  "language_info": {
   "codemirror_mode": {
    "name": "ipython",
    "version": 3
   },
   "file_extension": ".py",
   "mimetype": "text/x-python",
   "name": "python",
   "nbconvert_exporter": "python",
   "pygments_lexer": "ipython3",
   "version": "3.6.9"
  },
  "microsoft": {
   "host": {
    "AzureML": {
     "notebookHasBeenCompleted": true
    }
   }
  },
  "nteract": {
   "version": "nteract-front-end@1.0.0"
  }
 },
 "nbformat": 4,
 "nbformat_minor": 4
}
