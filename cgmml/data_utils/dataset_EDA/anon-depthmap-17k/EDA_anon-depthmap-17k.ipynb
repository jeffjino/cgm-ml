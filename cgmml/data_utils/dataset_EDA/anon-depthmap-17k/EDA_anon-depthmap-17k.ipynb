{
  "cells": [
    {
      "cell_type": "code",
      "source": [
        "%reload_ext autoreload\n",
        "%autoreload 2\n",
        "%matplotlib inline\n",
        "\n",
        "import pandas as pd\n",
        "from pathlib import Path\n",
        "import math\n",
        "import numpy as np\n",
        "import sys\n",
        "import matplotlib.pyplot as plt\n",
        "import pickle\n",
        "from tqdm import tqdm\n",
        "\n",
        "sys.path.append(str(Path(os.getcwd()).parent))\n",
        "from data_utilities import find_outliers, convert_age_from_days_to_years, extractqrcode, draw_age_distribution, calculate_code_age_distribution"
      ],
      "outputs": [],
      "execution_count": 1,
      "metadata": {
        "gather": {
          "logged": 1628587333849
        }
      }
    },
    {
      "cell_type": "markdown",
      "source": [
        "### Total no. of artifacts in dataset"
      ],
      "metadata": {}
    },
    {
      "cell_type": "code",
      "source": [
        "DATASET_PATH = Path('/mnt/datasets/dataset-2021-07-27-12-48-51')\n",
        "CWD = Path(os.getcwd())\n",
        "print(CWD)"
      ],
      "outputs": [
        {
          "output_type": "stream",
          "name": "stdout",
          "text": [
            "/mnt/batch/tasks/shared/LS_root/mounts/clusters/jziegler1/code/Users/jziegler/cgm-ml/cgmml/data_utils/dataset_EDA/anon-depthmap-17k\n"
          ]
        }
      ],
      "execution_count": 2,
      "metadata": {
        "gather": {
          "logged": 1628587337476
        }
      }
    },
    {
      "cell_type": "code",
      "source": [
        "!ls /mnt/datasets/dataset-2021-07-27-12-48-51/scans/ab575ae5-eecc-11eb-af66-e3654568dc70/100/pc_ab575ae5-eecc-11eb-af66-e3654568dc70_2021-07-27 11:20:31.569847_100_8.p"
      ],
      "outputs": [
        {
          "output_type": "stream",
          "name": "stdout",
          "text": [
            "'pc_ab575ae5-eecc-11eb-af66-e3654568dc70_2021-07-27 11:20:30.694898_100_1.p'\r\n",
            "'pc_ab575ae5-eecc-11eb-af66-e3654568dc70_2021-07-27 11:20:30.819902_100_2.p'\r\n",
            "'pc_ab575ae5-eecc-11eb-af66-e3654568dc70_2021-07-27 11:20:30.944844_100_3.p'\r\n",
            "'pc_ab575ae5-eecc-11eb-af66-e3654568dc70_2021-07-27 11:20:31.085532_100_4.p'\r\n",
            "'pc_ab575ae5-eecc-11eb-af66-e3654568dc70_2021-07-27 11:20:31.210469_100_5.p'\r\n",
            "'pc_ab575ae5-eecc-11eb-af66-e3654568dc70_2021-07-27 11:20:31.319921_100_6.p'\r\n",
            "'pc_ab575ae5-eecc-11eb-af66-e3654568dc70_2021-07-27 11:20:31.444909_100_7.p'\r\n",
            "'pc_ab575ae5-eecc-11eb-af66-e3654568dc70_2021-07-27 11:20:31.569847_100_8.p'\r\n",
            "'pc_ab575ae5-eecc-11eb-af66-e3654568dc70_2021-07-27 11:20:31.694911_100_9.p'\r\n",
            "'pc_ab575ae5-eecc-11eb-af66-e3654568dc70_2021-07-27 11:20:31.804301_100_10.p'\r\n",
            "'pc_ab575ae5-eecc-11eb-af66-e3654568dc70_2021-07-27 11:20:31.960548_100_11.p'\r\n",
            "'pc_ab575ae5-eecc-11eb-af66-e3654568dc70_2021-07-27 11:20:32.101144_100_12.p'\r\n",
            "'pc_ab575ae5-eecc-11eb-af66-e3654568dc70_2021-07-27 11:20:32.241736_100_13.p'\r\n",
            "'pc_ab575ae5-eecc-11eb-af66-e3654568dc70_2021-07-27 11:20:32.351194_100_14.p'\r\n",
            "'pc_ab575ae5-eecc-11eb-af66-e3654568dc70_2021-07-27 11:20:32.491803_100_15.p'\r\n",
            "'pc_ab575ae5-eecc-11eb-af66-e3654568dc70_2021-07-27 11:20:32.616722_100_16.p'\r\n",
            "'pc_ab575ae5-eecc-11eb-af66-e3654568dc70_2021-07-27 11:20:32.741810_100_17.p'\r\n",
            "'pc_ab575ae5-eecc-11eb-af66-e3654568dc70_2021-07-27 11:20:32.866733_100_18.p'\r\n"
          ]
        }
      ],
      "execution_count": 30,
      "metadata": {
        "collapsed": true,
        "jupyter": {
          "source_hidden": false,
          "outputs_hidden": false
        },
        "nteract": {
          "transient": {
            "deleting": false
          }
        }
      }
    },
    {
      "cell_type": "code",
      "source": [
        "paths  = DATASET_PATH / 'scans/ab575ae5-eecc-11eb-af66-e3654568dc70/100/pc_ab575ae5-eecc-11eb-af66-e3654568dc70_2021-07-27 11:20:31.569847_100_8.p'\n",
        "depthmap, targets = pickle.load(open(paths, \"rb\"))\n",
        "_ = plt.imshow(np.squeeze(depthmap))\n",
        "plt.show()"
      ],
      "outputs": [
        {
          "output_type": "display_data",
          "data": {
            "text/plain": "<Figure size 432x288 with 1 Axes>",
            "image/png": "[encoded data removed]"
          },
          "metadata": {
            "needs_background": "light"
          }
        }
      ],
      "execution_count": 33,
      "metadata": {
        "gather": {
          "logged": 1628587915342
        }
      }
    },
    {
      "cell_type": "code",
      "source": [
        "print(\"targets: \", targets)\n",
        "print(\"targets.shape: \", targets.shape)\n",
        "print(\"depthmap.shape: \", depthmap.shape)"
      ],
      "outputs": [
        {
          "output_type": "stream",
          "name": "stdout",
          "text": [
            "targets:  [86.6   9.25 12.  ]\n",
            "targets.shape:  (3,)\n",
            "depthmap.shape:  (180, 240, 1)\n"
          ]
        }
      ],
      "execution_count": 34,
      "metadata": {
        "gather": {
          "logged": 1628587916048
        }
      }
    },
    {
      "cell_type": "code",
      "source": [
        "artifacts = pd.read_csv(CWD / 'data-depthmap-17k.csv')\n",
        "print(\"Total no. of artifacts:\", len(artifacts))\n",
        "artifacts.head()"
      ],
      "outputs": [
        {
          "output_type": "stream",
          "name": "stdout",
          "text": [
            "Total no. of artifacts: 1017\n"
          ]
        },
        {
          "output_type": "execute_result",
          "execution_count": 5,
          "data": {
            "text/plain": "                                     id  scan_type_id  age   sex  height  \\\n0  d68bfb22-eec8-11eb-af66-bb6453bc1e55           101  903  male    76.1   \n1  d69522e0-eec8-11eb-af66-0fd5f4f83887           100  903  male    76.1   \n2  d6983022-eec8-11eb-af66-07faee9ed551           102  903  male    76.1   \n3  dcb5bd62-eec8-11eb-af66-27a8fd35eb01           201  238  male    66.9   \n4  dcbd5e80-eec8-11eb-af66-f7a4aec0920d           200  238  male    66.9   \n\n   weight  muac  \n0     8.7  12.7  \n1     8.7  12.7  \n2     8.7  12.7  \n3     7.1  13.6  \n4     7.1  13.6  ",
            "text/html": "<div>\n<style scoped>\n    .dataframe tbody tr th:only-of-type {\n        vertical-align: middle;\n    }\n\n    .dataframe tbody tr th {\n        vertical-align: top;\n    }\n\n    .dataframe thead th {\n        text-align: right;\n    }\n</style>\n<table border=\"1\" class=\"dataframe\">\n  <thead>\n    <tr style=\"text-align: right;\">\n      <th></th>\n      <th>id</th>\n      <th>scan_type_id</th>\n      <th>age</th>\n      <th>sex</th>\n      <th>height</th>\n      <th>weight</th>\n      <th>muac</th>\n    </tr>\n  </thead>\n  <tbody>\n    <tr>\n      <th>0</th>\n      <td>d68bfb22-eec8-11eb-af66-bb6453bc1e55</td>\n      <td>101</td>\n      <td>903</td>\n      <td>male</td>\n      <td>76.1</td>\n      <td>8.7</td>\n      <td>12.7</td>\n    </tr>\n    <tr>\n      <th>1</th>\n      <td>d69522e0-eec8-11eb-af66-0fd5f4f83887</td>\n      <td>100</td>\n      <td>903</td>\n      <td>male</td>\n      <td>76.1</td>\n      <td>8.7</td>\n      <td>12.7</td>\n    </tr>\n    <tr>\n      <th>2</th>\n      <td>d6983022-eec8-11eb-af66-07faee9ed551</td>\n      <td>102</td>\n      <td>903</td>\n      <td>male</td>\n      <td>76.1</td>\n      <td>8.7</td>\n      <td>12.7</td>\n    </tr>\n    <tr>\n      <th>3</th>\n      <td>dcb5bd62-eec8-11eb-af66-27a8fd35eb01</td>\n      <td>201</td>\n      <td>238</td>\n      <td>male</td>\n      <td>66.9</td>\n      <td>7.1</td>\n      <td>13.6</td>\n    </tr>\n    <tr>\n      <th>4</th>\n      <td>dcbd5e80-eec8-11eb-af66-f7a4aec0920d</td>\n      <td>200</td>\n      <td>238</td>\n      <td>male</td>\n      <td>66.9</td>\n      <td>7.1</td>\n      <td>13.6</td>\n    </tr>\n  </tbody>\n</table>\n</div>"
          },
          "metadata": {}
        }
      ],
      "execution_count": 5,
      "metadata": {
        "gather": {
          "logged": 1628526634441
        }
      }
    },
    {
      "cell_type": "code",
      "source": [
        "#adding the Years column into dataframe\n",
        "artifacts['Years'] = artifacts.apply(convert_age_from_days_to_years, axis=1)\n",
        "artifacts.head()"
      ],
      "outputs": [
        {
          "output_type": "execute_result",
          "execution_count": 6,
          "data": {
            "text/plain": "                                     id  scan_type_id  age   sex  height  \\\n0  d68bfb22-eec8-11eb-af66-bb6453bc1e55           101  903  male    76.1   \n1  d69522e0-eec8-11eb-af66-0fd5f4f83887           100  903  male    76.1   \n2  d6983022-eec8-11eb-af66-07faee9ed551           102  903  male    76.1   \n3  dcb5bd62-eec8-11eb-af66-27a8fd35eb01           201  238  male    66.9   \n4  dcbd5e80-eec8-11eb-af66-f7a4aec0920d           200  238  male    66.9   \n\n   weight  muac  Years  \n0     8.7  12.7      2  \n1     8.7  12.7      2  \n2     8.7  12.7      2  \n3     7.1  13.6      0  \n4     7.1  13.6      0  ",
            "text/html": "<div>\n<style scoped>\n    .dataframe tbody tr th:only-of-type {\n        vertical-align: middle;\n    }\n\n    .dataframe tbody tr th {\n        vertical-align: top;\n    }\n\n    .dataframe thead th {\n        text-align: right;\n    }\n</style>\n<table border=\"1\" class=\"dataframe\">\n  <thead>\n    <tr style=\"text-align: right;\">\n      <th></th>\n      <th>id</th>\n      <th>scan_type_id</th>\n      <th>age</th>\n      <th>sex</th>\n      <th>height</th>\n      <th>weight</th>\n      <th>muac</th>\n      <th>Years</th>\n    </tr>\n  </thead>\n  <tbody>\n    <tr>\n      <th>0</th>\n      <td>d68bfb22-eec8-11eb-af66-bb6453bc1e55</td>\n      <td>101</td>\n      <td>903</td>\n      <td>male</td>\n      <td>76.1</td>\n      <td>8.7</td>\n      <td>12.7</td>\n      <td>2</td>\n    </tr>\n    <tr>\n      <th>1</th>\n      <td>d69522e0-eec8-11eb-af66-0fd5f4f83887</td>\n      <td>100</td>\n      <td>903</td>\n      <td>male</td>\n      <td>76.1</td>\n      <td>8.7</td>\n      <td>12.7</td>\n      <td>2</td>\n    </tr>\n    <tr>\n      <th>2</th>\n      <td>d6983022-eec8-11eb-af66-07faee9ed551</td>\n      <td>102</td>\n      <td>903</td>\n      <td>male</td>\n      <td>76.1</td>\n      <td>8.7</td>\n      <td>12.7</td>\n      <td>2</td>\n    </tr>\n    <tr>\n      <th>3</th>\n      <td>dcb5bd62-eec8-11eb-af66-27a8fd35eb01</td>\n      <td>201</td>\n      <td>238</td>\n      <td>male</td>\n      <td>66.9</td>\n      <td>7.1</td>\n      <td>13.6</td>\n      <td>0</td>\n    </tr>\n    <tr>\n      <th>4</th>\n      <td>dcbd5e80-eec8-11eb-af66-f7a4aec0920d</td>\n      <td>200</td>\n      <td>238</td>\n      <td>male</td>\n      <td>66.9</td>\n      <td>7.1</td>\n      <td>13.6</td>\n      <td>0</td>\n    </tr>\n  </tbody>\n</table>\n</div>"
          },
          "metadata": {}
        }
      ],
      "execution_count": 6,
      "metadata": {
        "gather": {
          "logged": 1628526635877
        },
        "jupyter": {
          "source_hidden": false
        }
      }
    },
    {
      "cell_type": "markdown",
      "source": [
        "### Total no. of children in the dataset"
      ],
      "metadata": {}
    },
    {
      "cell_type": "code",
      "source": [
        "print(\"Total no. of artifacts:\", len(artifacts))\n",
        "unique_ids = artifacts.drop_duplicates(subset='id', keep='first')\n",
        "print(\"Total no. of unique ids:\", len(unique_ids))\n",
        "unique_ids.head()"
      ],
      "outputs": [
        {
          "output_type": "stream",
          "name": "stdout",
          "text": [
            "Total no. of artifacts: 1017\n",
            "Total no. of unique ids: 1014\n"
          ]
        },
        {
          "output_type": "execute_result",
          "execution_count": 7,
          "data": {
            "text/plain": "                                     id  scan_type_id  age   sex  height  \\\n0  d68bfb22-eec8-11eb-af66-bb6453bc1e55           101  903  male    76.1   \n1  d69522e0-eec8-11eb-af66-0fd5f4f83887           100  903  male    76.1   \n2  d6983022-eec8-11eb-af66-07faee9ed551           102  903  male    76.1   \n3  dcb5bd62-eec8-11eb-af66-27a8fd35eb01           201  238  male    66.9   \n4  dcbd5e80-eec8-11eb-af66-f7a4aec0920d           200  238  male    66.9   \n\n   weight  muac  Years  \n0     8.7  12.7      2  \n1     8.7  12.7      2  \n2     8.7  12.7      2  \n3     7.1  13.6      0  \n4     7.1  13.6      0  ",
            "text/html": "<div>\n<style scoped>\n    .dataframe tbody tr th:only-of-type {\n        vertical-align: middle;\n    }\n\n    .dataframe tbody tr th {\n        vertical-align: top;\n    }\n\n    .dataframe thead th {\n        text-align: right;\n    }\n</style>\n<table border=\"1\" class=\"dataframe\">\n  <thead>\n    <tr style=\"text-align: right;\">\n      <th></th>\n      <th>id</th>\n      <th>scan_type_id</th>\n      <th>age</th>\n      <th>sex</th>\n      <th>height</th>\n      <th>weight</th>\n      <th>muac</th>\n      <th>Years</th>\n    </tr>\n  </thead>\n  <tbody>\n    <tr>\n      <th>0</th>\n      <td>d68bfb22-eec8-11eb-af66-bb6453bc1e55</td>\n      <td>101</td>\n      <td>903</td>\n      <td>male</td>\n      <td>76.1</td>\n      <td>8.7</td>\n      <td>12.7</td>\n      <td>2</td>\n    </tr>\n    <tr>\n      <th>1</th>\n      <td>d69522e0-eec8-11eb-af66-0fd5f4f83887</td>\n      <td>100</td>\n      <td>903</td>\n      <td>male</td>\n      <td>76.1</td>\n      <td>8.7</td>\n      <td>12.7</td>\n      <td>2</td>\n    </tr>\n    <tr>\n      <th>2</th>\n      <td>d6983022-eec8-11eb-af66-07faee9ed551</td>\n      <td>102</td>\n      <td>903</td>\n      <td>male</td>\n      <td>76.1</td>\n      <td>8.7</td>\n      <td>12.7</td>\n      <td>2</td>\n    </tr>\n    <tr>\n      <th>3</th>\n      <td>dcb5bd62-eec8-11eb-af66-27a8fd35eb01</td>\n      <td>201</td>\n      <td>238</td>\n      <td>male</td>\n      <td>66.9</td>\n      <td>7.1</td>\n      <td>13.6</td>\n      <td>0</td>\n    </tr>\n    <tr>\n      <th>4</th>\n      <td>dcbd5e80-eec8-11eb-af66-f7a4aec0920d</td>\n      <td>200</td>\n      <td>238</td>\n      <td>male</td>\n      <td>66.9</td>\n      <td>7.1</td>\n      <td>13.6</td>\n      <td>0</td>\n    </tr>\n  </tbody>\n</table>\n</div>"
          },
          "metadata": {}
        }
      ],
      "execution_count": 7,
      "metadata": {
        "gather": {
          "logged": 1628526638384
        }
      }
    },
    {
      "cell_type": "code",
      "source": [
        "draw_age_distribution(unique_ids)"
      ],
      "outputs": [
        {
          "output_type": "stream",
          "name": "stderr",
          "text": [
            "2021-08-09 16:30:39,224 - INFO - 0     98\n",
            "1    229\n",
            "2    225\n",
            "3    213\n",
            "4    246\n",
            "5      3\n",
            "Name: Years, dtype: int64 - /mnt/batch/tasks/shared/LS_root/mounts/clusters/jziegler1/code/Users/jziegler/cgm-ml/src/data_utils/dataset_EDA/data_utilities.py: line 33\n"
          ]
        },
        {
          "output_type": "display_data",
          "data": {
            "text/plain": "<Figure size 432x288 with 1 Axes>",
            "image/png": "[encoded data removed]"
          },
          "metadata": {
            "needs_background": "light"
          }
        }
      ],
      "execution_count": 8,
      "metadata": {
        "gather": {
          "logged": 1628526639897
        }
      }
    },
    {
      "cell_type": "code",
      "source": [
        "## keys for different scan type and their distribution in dataset\n",
        "\"- 100 - standing front scan\",\n",
        "\"- 101 - standing 360 scan\",\n",
        "\"- 102 - standing back scan\",\n",
        "\"- 200 - lying front scan\",\n",
        "\"- 201 - lying side scan\",\n",
        "\"- 202 - lying back scan\"\n",
        "print(artifacts['scan_type_id'].value_counts())\n",
        "_ = artifacts['scan_type_id'].value_counts().plot(kind='pie')"
      ],
      "outputs": [
        {
          "output_type": "stream",
          "name": "stdout",
          "text": [
            "100    269\n",
            "102    265\n",
            "101    265\n",
            "201     73\n",
            "200     73\n",
            "202     72\n",
            "Name: scan_type_id, dtype: int64\n"
          ]
        },
        {
          "output_type": "display_data",
          "data": {
            "text/plain": "<Figure size 432x288 with 1 Axes>",
            "image/png": "[encoded data removed]"
          },
          "metadata": {}
        }
      ],
      "execution_count": 9,
      "metadata": {
        "gather": {
          "logged": 1628526641895
        }
      }
    },
    {
      "cell_type": "code",
      "source": [
        "scan_type_colname = 'scan_type_id' # for other datasets this can be \"key\"\n",
        "calculate_code_age_distribution(artifacts, scan_type_colname)"
      ],
      "outputs": [
        {
          "output_type": "stream",
          "name": "stderr",
          "text": [
            "2021-08-09 16:30:42,608 - INFO - scan_type_id - /mnt/batch/tasks/shared/LS_root/mounts/clusters/jziegler1/code/Users/jziegler/cgm-ml/src/data_utils/dataset_EDA/data_utilities.py: line 54\n"
          ]
        },
        {
          "output_type": "execute_result",
          "execution_count": 10,
          "data": {
            "text/plain": "        0   1   2   3   4\ncodes                    \n101     2  35  73  71  83\n100     2  39  73  71  83\n102     2  35  73  71  83\n201    31  40   2   0   0\n200    31  40   2   0   0\n202    30  40   2   0   0",
            "text/html": "<div>\n<style scoped>\n    .dataframe tbody tr th:only-of-type {\n        vertical-align: middle;\n    }\n\n    .dataframe tbody tr th {\n        vertical-align: top;\n    }\n\n    .dataframe thead th {\n        text-align: right;\n    }\n</style>\n<table border=\"1\" class=\"dataframe\">\n  <thead>\n    <tr style=\"text-align: right;\">\n      <th></th>\n      <th>0</th>\n      <th>1</th>\n      <th>2</th>\n      <th>3</th>\n      <th>4</th>\n    </tr>\n    <tr>\n      <th>codes</th>\n      <th></th>\n      <th></th>\n      <th></th>\n      <th></th>\n      <th></th>\n    </tr>\n  </thead>\n  <tbody>\n    <tr>\n      <th>101</th>\n      <td>2</td>\n      <td>35</td>\n      <td>73</td>\n      <td>71</td>\n      <td>83</td>\n    </tr>\n    <tr>\n      <th>100</th>\n      <td>2</td>\n      <td>39</td>\n      <td>73</td>\n      <td>71</td>\n      <td>83</td>\n    </tr>\n    <tr>\n      <th>102</th>\n      <td>2</td>\n      <td>35</td>\n      <td>73</td>\n      <td>71</td>\n      <td>83</td>\n    </tr>\n    <tr>\n      <th>201</th>\n      <td>31</td>\n      <td>40</td>\n      <td>2</td>\n      <td>0</td>\n      <td>0</td>\n    </tr>\n    <tr>\n      <th>200</th>\n      <td>31</td>\n      <td>40</td>\n      <td>2</td>\n      <td>0</td>\n      <td>0</td>\n    </tr>\n    <tr>\n      <th>202</th>\n      <td>30</td>\n      <td>40</td>\n      <td>2</td>\n      <td>0</td>\n      <td>0</td>\n    </tr>\n  </tbody>\n</table>\n</div>"
          },
          "metadata": {}
        }
      ],
      "execution_count": 10,
      "metadata": {
        "gather": {
          "logged": 1628526643141
        }
      }
    },
    {
      "cell_type": "code",
      "source": [
        "calculate_code_age_distribution(unique_ids, scan_type_colname)"
      ],
      "outputs": [
        {
          "output_type": "stream",
          "name": "stderr",
          "text": [
            "2021-08-09 16:30:44,297 - INFO - scan_type_id - /mnt/batch/tasks/shared/LS_root/mounts/clusters/jziegler1/code/Users/jziegler/cgm-ml/src/data_utils/dataset_EDA/data_utilities.py: line 54\n"
          ]
        },
        {
          "output_type": "execute_result",
          "execution_count": 11,
          "data": {
            "text/plain": "        0   1   2   3   4\ncodes                    \n101     2  35  73  71  82\n100     2  39  73  71  82\n102     2  35  73  71  82\n201    31  40   2   0   0\n200    31  40   2   0   0\n202    30  40   2   0   0",
            "text/html": "<div>\n<style scoped>\n    .dataframe tbody tr th:only-of-type {\n        vertical-align: middle;\n    }\n\n    .dataframe tbody tr th {\n        vertical-align: top;\n    }\n\n    .dataframe thead th {\n        text-align: right;\n    }\n</style>\n<table border=\"1\" class=\"dataframe\">\n  <thead>\n    <tr style=\"text-align: right;\">\n      <th></th>\n      <th>0</th>\n      <th>1</th>\n      <th>2</th>\n      <th>3</th>\n      <th>4</th>\n    </tr>\n    <tr>\n      <th>codes</th>\n      <th></th>\n      <th></th>\n      <th></th>\n      <th></th>\n      <th></th>\n    </tr>\n  </thead>\n  <tbody>\n    <tr>\n      <th>101</th>\n      <td>2</td>\n      <td>35</td>\n      <td>73</td>\n      <td>71</td>\n      <td>82</td>\n    </tr>\n    <tr>\n      <th>100</th>\n      <td>2</td>\n      <td>39</td>\n      <td>73</td>\n      <td>71</td>\n      <td>82</td>\n    </tr>\n    <tr>\n      <th>102</th>\n      <td>2</td>\n      <td>35</td>\n      <td>73</td>\n      <td>71</td>\n      <td>82</td>\n    </tr>\n    <tr>\n      <th>201</th>\n      <td>31</td>\n      <td>40</td>\n      <td>2</td>\n      <td>0</td>\n      <td>0</td>\n    </tr>\n    <tr>\n      <th>200</th>\n      <td>31</td>\n      <td>40</td>\n      <td>2</td>\n      <td>0</td>\n      <td>0</td>\n    </tr>\n    <tr>\n      <th>202</th>\n      <td>30</td>\n      <td>40</td>\n      <td>2</td>\n      <td>0</td>\n      <td>0</td>\n    </tr>\n  </tbody>\n</table>\n</div>"
          },
          "metadata": {}
        }
      ],
      "execution_count": 11,
      "metadata": {
        "gather": {
          "logged": 1628526644842
        }
      }
    },
    {
      "cell_type": "markdown",
      "source": [
        "### Distribution of height, weight and age against each other"
      ],
      "metadata": {}
    },
    {
      "cell_type": "code",
      "source": [
        "#distribution of height against age\n",
        "height_vs_age = unique_ids.plot.scatter(x='height', y='age', c='red')\n"
      ],
      "outputs": [
        {
          "output_type": "display_data",
          "data": {
            "text/plain": "<Figure size 432x288 with 1 Axes>",
            "image/png": "[encoded data removed]"
          },
          "metadata": {
            "needs_background": "light"
          }
        }
      ],
      "execution_count": 12,
      "metadata": {
        "gather": {
          "logged": 1628526648091
        }
      }
    },
    {
      "cell_type": "code",
      "source": [
        "#distribution of weight against age\n",
        "weight_vs_age = unique_ids.plot.scatter(x='weight', y='age', c='red')"
      ],
      "outputs": [
        {
          "output_type": "display_data",
          "data": {
            "text/plain": "<Figure size 432x288 with 1 Axes>",
            "image/png": "[encoded data removed]"
          },
          "metadata": {
            "needs_background": "light"
          }
        }
      ],
      "execution_count": 13,
      "metadata": {
        "gather": {
          "logged": 1628526649663
        }
      }
    },
    {
      "cell_type": "code",
      "source": [
        "## distribution of height against weight\n",
        "weight_vs_height = unique_ids.plot.scatter(x='height', y='weight', c='red')"
      ],
      "outputs": [
        {
          "output_type": "display_data",
          "data": {
            "text/plain": "<Figure size 432x288 with 1 Axes>",
            "image/png": "[encoded data removed]"
          },
          "metadata": {
            "needs_background": "light"
          }
        }
      ],
      "execution_count": 14,
      "metadata": {
        "gather": {
          "logged": 1628526650484
        }
      }
    },
    {
      "cell_type": "markdown",
      "source": [
        "## Analyze outliers: 1) age, 2) weight, 3) height, 4) pixel values"
      ],
      "metadata": {}
    },
    {
      "cell_type": "code",
      "source": [
        "artifacts.describe()"
      ],
      "outputs": [
        {
          "output_type": "execute_result",
          "execution_count": 15,
          "data": {
            "text/plain": "       scan_type_id          age       height       weight         muac  \\\ncount   1017.000000  1017.000000  1017.000000  1017.000000  1017.000000   \nmean     122.430678  1023.978368    84.066568    10.080973    13.604228   \nstd       41.065980   472.984501    10.537968     2.331088     1.025162   \nmin      100.000000   184.000000    56.700000     4.400000    10.000000   \n25%      100.000000   601.000000    76.100000     8.150000    12.800000   \n50%      101.000000  1042.000000    84.900000    10.200000    13.500000   \n75%      102.000000  1391.000000    92.100000    11.750000    14.300000   \nmax      202.000000  1826.000000   105.500000    16.250000    16.700000   \n\n             Years  \ncount  1017.000000  \nmean      2.290069  \nstd       1.320429  \nmin       0.000000  \n25%       1.000000  \n50%       2.000000  \n75%       3.000000  \nmax       5.000000  ",
            "text/html": "<div>\n<style scoped>\n    .dataframe tbody tr th:only-of-type {\n        vertical-align: middle;\n    }\n\n    .dataframe tbody tr th {\n        vertical-align: top;\n    }\n\n    .dataframe thead th {\n        text-align: right;\n    }\n</style>\n<table border=\"1\" class=\"dataframe\">\n  <thead>\n    <tr style=\"text-align: right;\">\n      <th></th>\n      <th>scan_type_id</th>\n      <th>age</th>\n      <th>height</th>\n      <th>weight</th>\n      <th>muac</th>\n      <th>Years</th>\n    </tr>\n  </thead>\n  <tbody>\n    <tr>\n      <th>count</th>\n      <td>1017.000000</td>\n      <td>1017.000000</td>\n      <td>1017.000000</td>\n      <td>1017.000000</td>\n      <td>1017.000000</td>\n      <td>1017.000000</td>\n    </tr>\n    <tr>\n      <th>mean</th>\n      <td>122.430678</td>\n      <td>1023.978368</td>\n      <td>84.066568</td>\n      <td>10.080973</td>\n      <td>13.604228</td>\n      <td>2.290069</td>\n    </tr>\n    <tr>\n      <th>std</th>\n      <td>41.065980</td>\n      <td>472.984501</td>\n      <td>10.537968</td>\n      <td>2.331088</td>\n      <td>1.025162</td>\n      <td>1.320429</td>\n    </tr>\n    <tr>\n      <th>min</th>\n      <td>100.000000</td>\n      <td>184.000000</td>\n      <td>56.700000</td>\n      <td>4.400000</td>\n      <td>10.000000</td>\n      <td>0.000000</td>\n    </tr>\n    <tr>\n      <th>25%</th>\n      <td>100.000000</td>\n      <td>601.000000</td>\n      <td>76.100000</td>\n      <td>8.150000</td>\n      <td>12.800000</td>\n      <td>1.000000</td>\n    </tr>\n    <tr>\n      <th>50%</th>\n      <td>101.000000</td>\n      <td>1042.000000</td>\n      <td>84.900000</td>\n      <td>10.200000</td>\n      <td>13.500000</td>\n      <td>2.000000</td>\n    </tr>\n    <tr>\n      <th>75%</th>\n      <td>102.000000</td>\n      <td>1391.000000</td>\n      <td>92.100000</td>\n      <td>11.750000</td>\n      <td>14.300000</td>\n      <td>3.000000</td>\n    </tr>\n    <tr>\n      <th>max</th>\n      <td>202.000000</td>\n      <td>1826.000000</td>\n      <td>105.500000</td>\n      <td>16.250000</td>\n      <td>16.700000</td>\n      <td>5.000000</td>\n    </tr>\n  </tbody>\n</table>\n</div>"
          },
          "metadata": {}
        }
      ],
      "execution_count": 15,
      "metadata": {
        "gather": {
          "logged": 1628526651598
        }
      }
    },
    {
      "cell_type": "code",
      "source": [
        "unique_ids.describe()"
      ],
      "outputs": [
        {
          "output_type": "execute_result",
          "execution_count": 16,
          "data": {
            "text/plain": "       scan_type_id          age       height       weight         muac  \\\ncount   1014.000000  1014.000000  1014.000000  1014.000000  1014.000000   \nmean     122.494083  1022.265286    84.020611    10.064349    13.595365   \nstd       41.110131   472.632035    10.519551     2.314364     1.013613   \nmin      100.000000   184.000000    56.700000     4.400000    10.000000   \n25%      100.000000   598.750000    75.875000     8.150000    12.800000   \n50%      101.000000  1040.500000    84.900000    10.200000    13.500000   \n75%      102.000000  1390.000000    92.100000    11.700000    14.300000   \nmax      202.000000  1826.000000   105.500000    16.250000    16.700000   \n\n             Years  \ncount  1014.000000  \nmean      2.285010  \nstd       1.319095  \nmin       0.000000  \n25%       1.000000  \n50%       2.000000  \n75%       3.000000  \nmax       5.000000  ",
            "text/html": "<div>\n<style scoped>\n    .dataframe tbody tr th:only-of-type {\n        vertical-align: middle;\n    }\n\n    .dataframe tbody tr th {\n        vertical-align: top;\n    }\n\n    .dataframe thead th {\n        text-align: right;\n    }\n</style>\n<table border=\"1\" class=\"dataframe\">\n  <thead>\n    <tr style=\"text-align: right;\">\n      <th></th>\n      <th>scan_type_id</th>\n      <th>age</th>\n      <th>height</th>\n      <th>weight</th>\n      <th>muac</th>\n      <th>Years</th>\n    </tr>\n  </thead>\n  <tbody>\n    <tr>\n      <th>count</th>\n      <td>1014.000000</td>\n      <td>1014.000000</td>\n      <td>1014.000000</td>\n      <td>1014.000000</td>\n      <td>1014.000000</td>\n      <td>1014.000000</td>\n    </tr>\n    <tr>\n      <th>mean</th>\n      <td>122.494083</td>\n      <td>1022.265286</td>\n      <td>84.020611</td>\n      <td>10.064349</td>\n      <td>13.595365</td>\n      <td>2.285010</td>\n    </tr>\n    <tr>\n      <th>std</th>\n      <td>41.110131</td>\n      <td>472.632035</td>\n      <td>10.519551</td>\n      <td>2.314364</td>\n      <td>1.013613</td>\n      <td>1.319095</td>\n    </tr>\n    <tr>\n      <th>min</th>\n      <td>100.000000</td>\n      <td>184.000000</td>\n      <td>56.700000</td>\n      <td>4.400000</td>\n      <td>10.000000</td>\n      <td>0.000000</td>\n    </tr>\n    <tr>\n      <th>25%</th>\n      <td>100.000000</td>\n      <td>598.750000</td>\n      <td>75.875000</td>\n      <td>8.150000</td>\n      <td>12.800000</td>\n      <td>1.000000</td>\n    </tr>\n    <tr>\n      <th>50%</th>\n      <td>101.000000</td>\n      <td>1040.500000</td>\n      <td>84.900000</td>\n      <td>10.200000</td>\n      <td>13.500000</td>\n      <td>2.000000</td>\n    </tr>\n    <tr>\n      <th>75%</th>\n      <td>102.000000</td>\n      <td>1390.000000</td>\n      <td>92.100000</td>\n      <td>11.700000</td>\n      <td>14.300000</td>\n      <td>3.000000</td>\n    </tr>\n    <tr>\n      <th>max</th>\n      <td>202.000000</td>\n      <td>1826.000000</td>\n      <td>105.500000</td>\n      <td>16.250000</td>\n      <td>16.700000</td>\n      <td>5.000000</td>\n    </tr>\n  </tbody>\n</table>\n</div>"
          },
          "metadata": {}
        }
      ],
      "execution_count": 16,
      "metadata": {
        "gather": {
          "logged": 1628526653262
        }
      }
    },
    {
      "cell_type": "markdown",
      "source": [
        "### 1) Check age"
      ],
      "metadata": {}
    },
    {
      "cell_type": "markdown",
      "source": [
        "##### Check age < 6 months or  > 6 years"
      ],
      "metadata": {}
    },
    {
      "cell_type": "code",
      "source": [
        "find_outliers(artifacts, 'age', '<365/2', data_id_name='id')"
      ],
      "outputs": [
        {
          "output_type": "stream",
          "name": "stderr",
          "text": [
            "2021-08-09 16:30:52,960 - INFO - Running the following query: @df.age<365/2 - /mnt/batch/tasks/shared/LS_root/mounts/clusters/jziegler1/code/Users/jziegler/cgm-ml/src/data_utils/dataset_EDA/data_utilities.py: line 68\n",
            "2021-08-09 16:30:52,981 - INFO - No. of outliers: 0 - /mnt/batch/tasks/shared/LS_root/mounts/clusters/jziegler1/code/Users/jziegler/cgm-ml/src/data_utils/dataset_EDA/data_utilities.py: line 79\n"
          ]
        },
        {
          "output_type": "execute_result",
          "execution_count": 17,
          "data": {
            "text/plain": "[]"
          },
          "metadata": {}
        }
      ],
      "execution_count": 17,
      "metadata": {
        "gather": {
          "logged": 1628526654259
        }
      }
    },
    {
      "cell_type": "code",
      "source": [
        "find_outliers(artifacts, 'age', '>365*6', data_id_name='id')"
      ],
      "outputs": [
        {
          "output_type": "stream",
          "name": "stderr",
          "text": [
            "2021-08-09 16:30:53,876 - INFO - Running the following query: @df.age>365*6 - /mnt/batch/tasks/shared/LS_root/mounts/clusters/jziegler1/code/Users/jziegler/cgm-ml/src/data_utils/dataset_EDA/data_utilities.py: line 68\n",
            "2021-08-09 16:30:53,880 - INFO - No. of outliers: 0 - /mnt/batch/tasks/shared/LS_root/mounts/clusters/jziegler1/code/Users/jziegler/cgm-ml/src/data_utils/dataset_EDA/data_utilities.py: line 79\n"
          ]
        },
        {
          "output_type": "execute_result",
          "execution_count": 18,
          "data": {
            "text/plain": "[]"
          },
          "metadata": {}
        }
      ],
      "execution_count": 18,
      "metadata": {
        "scrolled": true,
        "gather": {
          "logged": 1628526655140
        }
      }
    },
    {
      "cell_type": "markdown",
      "source": [
        "### 2) Check weight"
      ],
      "metadata": {}
    },
    {
      "cell_type": "code",
      "source": [
        "find_outliers(artifacts, 'weight', '<5.0', data_id_name='id')"
      ],
      "outputs": [
        {
          "output_type": "stream",
          "name": "stderr",
          "text": [
            "2021-08-09 16:30:56,291 - INFO - Running the following query: @df.weight<5.0 - /mnt/batch/tasks/shared/LS_root/mounts/clusters/jziegler1/code/Users/jziegler/cgm-ml/src/data_utils/dataset_EDA/data_utilities.py: line 68\n",
            "2021-08-09 16:30:56,296 - INFO - No. of outliers: 3 - /mnt/batch/tasks/shared/LS_root/mounts/clusters/jziegler1/code/Users/jziegler/cgm-ml/src/data_utils/dataset_EDA/data_utilities.py: line 79\n"
          ]
        },
        {
          "output_type": "execute_result",
          "execution_count": 19,
          "data": {
            "text/plain": "['4601eaa2-eec9-11eb-af66-b308249c514a',\n '46067e80-eec9-11eb-af66-dbfb4db6e647',\n '460b1260-eec9-11eb-af66-576c6a56f8bd']"
          },
          "metadata": {}
        }
      ],
      "execution_count": 19,
      "metadata": {
        "gather": {
          "logged": 1628526657419
        }
      }
    },
    {
      "cell_type": "code",
      "source": [
        "find_outliers(artifacts, 'weight', '>30.0', data_id_name='id')"
      ],
      "outputs": [
        {
          "output_type": "stream",
          "name": "stderr",
          "text": [
            "2021-08-09 16:30:58,812 - INFO - Running the following query: @df.weight>30.0 - /mnt/batch/tasks/shared/LS_root/mounts/clusters/jziegler1/code/Users/jziegler/cgm-ml/src/data_utils/dataset_EDA/data_utilities.py: line 68\n",
            "2021-08-09 16:30:58,816 - INFO - No. of outliers: 0 - /mnt/batch/tasks/shared/LS_root/mounts/clusters/jziegler1/code/Users/jziegler/cgm-ml/src/data_utils/dataset_EDA/data_utilities.py: line 79\n"
          ]
        },
        {
          "output_type": "execute_result",
          "execution_count": 20,
          "data": {
            "text/plain": "[]"
          },
          "metadata": {}
        }
      ],
      "execution_count": 20,
      "metadata": {
        "gather": {
          "logged": 1628526659471
        }
      }
    },
    {
      "cell_type": "markdown",
      "source": [
        "### 3) Check height"
      ],
      "metadata": {}
    },
    {
      "cell_type": "code",
      "source": [
        "find_outliers(artifacts, 'height', '<40.0', data_id_name='id')"
      ],
      "outputs": [
        {
          "output_type": "stream",
          "name": "stderr",
          "text": [
            "2021-08-09 16:31:00,345 - INFO - Running the following query: @df.height<40.0 - /mnt/batch/tasks/shared/LS_root/mounts/clusters/jziegler1/code/Users/jziegler/cgm-ml/src/data_utils/dataset_EDA/data_utilities.py: line 68\n",
            "2021-08-09 16:31:00,349 - INFO - No. of outliers: 0 - /mnt/batch/tasks/shared/LS_root/mounts/clusters/jziegler1/code/Users/jziegler/cgm-ml/src/data_utils/dataset_EDA/data_utilities.py: line 79\n"
          ]
        },
        {
          "output_type": "execute_result",
          "execution_count": 21,
          "data": {
            "text/plain": "[]"
          },
          "metadata": {}
        }
      ],
      "execution_count": 21,
      "metadata": {
        "scrolled": true,
        "gather": {
          "logged": 1628526660937
        }
      }
    },
    {
      "cell_type": "code",
      "source": [
        "find_outliers(artifacts, 'height', '>150.0', data_id_name='id')"
      ],
      "outputs": [
        {
          "output_type": "stream",
          "name": "stderr",
          "text": [
            "2021-08-09 16:31:01,734 - INFO - Running the following query: @df.height>150.0 - /mnt/batch/tasks/shared/LS_root/mounts/clusters/jziegler1/code/Users/jziegler/cgm-ml/src/data_utils/dataset_EDA/data_utilities.py: line 68\n",
            "2021-08-09 16:31:01,738 - INFO - No. of outliers: 0 - /mnt/batch/tasks/shared/LS_root/mounts/clusters/jziegler1/code/Users/jziegler/cgm-ml/src/data_utils/dataset_EDA/data_utilities.py: line 79\n"
          ]
        },
        {
          "output_type": "execute_result",
          "execution_count": 22,
          "data": {
            "text/plain": "[]"
          },
          "metadata": {}
        }
      ],
      "execution_count": 22,
      "metadata": {
        "gather": {
          "logged": 1628526662327
        }
      }
    }
  ],
  "metadata": {
    "kernel_info": {
      "name": "cgm_qa_pipeline"
    },
    "kernelspec": {
      "name": "cgm_qa_pipeline",
      "language": "python",
      "display_name": "CGM_QA_Pipeline"
    },
    "nteract": {
      "version": "nteract-front-end@1.0.0"
    },
    "language_info": {
      "name": "python",
      "version": "3.7.10",
      "mimetype": "text/x-python",
      "codemirror_mode": {
        "name": "ipython",
        "version": 3
      },
      "pygments_lexer": "ipython3",
      "nbconvert_exporter": "python",
      "file_extension": ".py"
    },
    "microsoft": {
      "host": {
        "AzureML": {
          "notebookHasBeenCompleted": true
        }
      }
    }
  },
  "nbformat": 4,
  "nbformat_minor": 4
}