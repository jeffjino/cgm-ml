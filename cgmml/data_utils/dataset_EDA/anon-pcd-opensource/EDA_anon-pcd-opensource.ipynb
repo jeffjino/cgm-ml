{
 "cells": [
  {
   "cell_type": "code",
   "execution_count": 1,
   "metadata": {
    "gather": {
     "logged": 1611752470938
    }
   },
   "outputs": [],
   "source": [
    "%reload_ext autoreload\n",
    "%autoreload 2\n",
    "\n",
    "import math\n",
    "import sys\n",
    "from pathlib import Path\n",
    "\n",
    "import glob2\n",
    "import numpy as np\n",
    "import pandas as pd\n",
    "from azureml.core import Dataset, Workspace\n",
    "import matplotlib.pyplot as plt\n",
    "\n",
    "sys.path.append(str(Path(os.getcwd()).parent))\n",
    "from data_utilities import convert_age_from_days_to_years, extractqrcode, draw_sex_distribution, draw_age_distribution"
   ]
  },
  {
   "cell_type": "markdown",
   "metadata": {},
   "source": [
    "### read the csv and total no. of children"
   ]
  },
  {
   "cell_type": "code",
   "execution_count": 2,
   "metadata": {
    "gather": {
     "logged": 1611752151896
    }
   },
   "outputs": [],
   "source": [
    "DATASET_PATH = Path('/mnt/datasets/pcd_50k')"
   ]
  },
  {
   "cell_type": "code",
   "execution_count": 3,
   "metadata": {},
   "outputs": [
    {
     "name": "stdout",
     "output_type": "stream",
     "text": [
      "/mnt/datasets/pcd_50k/qrcode/1583438117-spfyeecneo/measure/1591122016705/pc/pc_1583438117-spfyeecneo_1591122016705_100_000.pcd\r\n"
     ]
    }
   ],
   "source": [
    "! ls /mnt/datasets/pcd_50k/qrcode/1583438117-spfyeecneo/measure/1591122016705/pc/pc_1583438117-spfyeecneo_1591122016705_100_000.pcd"
   ]
  },
  {
   "cell_type": "code",
   "execution_count": 4,
   "metadata": {
    "gather": {
     "logged": 1611752154511
    }
   },
   "outputs": [
    {
     "name": "stdout",
     "output_type": "stream",
     "text": [
      "Total no. of children: 1680\n"
     ]
    },
    {
     "data": {
      "text/html": [
       "<div>\n",
       "<style scoped>\n",
       "    .dataframe tbody tr th:only-of-type {\n",
       "        vertical-align: middle;\n",
       "    }\n",
       "\n",
       "    .dataframe tbody tr th {\n",
       "        vertical-align: top;\n",
       "    }\n",
       "\n",
       "    .dataframe thead th {\n",
       "        text-align: right;\n",
       "    }\n",
       "</style>\n",
       "<table border=\"1\" class=\"dataframe\">\n",
       "  <thead>\n",
       "    <tr style=\"text-align: right;\">\n",
       "      <th></th>\n",
       "      <th>qrcode</th>\n",
       "      <th>person_id</th>\n",
       "      <th>age</th>\n",
       "      <th>sex</th>\n",
       "      <th>Years</th>\n",
       "    </tr>\n",
       "  </thead>\n",
       "  <tbody>\n",
       "    <tr>\n",
       "      <th>0</th>\n",
       "      <td>1584997475-0195z663pl</td>\n",
       "      <td>DQKAiT6cSJkQW2ya_person_1569888000000_Dj66PtJa...</td>\n",
       "      <td>1420</td>\n",
       "      <td>male</td>\n",
       "      <td>4</td>\n",
       "    </tr>\n",
       "    <tr>\n",
       "      <th>1</th>\n",
       "      <td>1584999865-01t0n240ra</td>\n",
       "      <td>lD0OAaaZ0pcD0zRk_person_1570060800000_1AoTKLlT...</td>\n",
       "      <td>1529</td>\n",
       "      <td>female</td>\n",
       "      <td>4</td>\n",
       "    </tr>\n",
       "    <tr>\n",
       "      <th>2</th>\n",
       "      <td>1583942091-02migjdla1</td>\n",
       "      <td>ZPFkcYGhq15raY3J_person_1573603200000_lfu3HzFC...</td>\n",
       "      <td>945</td>\n",
       "      <td>female</td>\n",
       "      <td>3</td>\n",
       "    </tr>\n",
       "    <tr>\n",
       "      <th>3</th>\n",
       "      <td>1585011777-031jov4jpw</td>\n",
       "      <td>D7tiN7CtUEM9WoRx_person_1571270400000_Q1hKfLbv...</td>\n",
       "      <td>924</td>\n",
       "      <td>male</td>\n",
       "      <td>3</td>\n",
       "    </tr>\n",
       "    <tr>\n",
       "      <th>4</th>\n",
       "      <td>1585003039-032hniw434</td>\n",
       "      <td>8SMAKMkY79LovcBU_person_1570838400000_nMpSBNek...</td>\n",
       "      <td>1320</td>\n",
       "      <td>female</td>\n",
       "      <td>4</td>\n",
       "    </tr>\n",
       "  </tbody>\n",
       "</table>\n",
       "</div>"
      ],
      "text/plain": [
       "                  qrcode                                          person_id  \\\n",
       "0  1584997475-0195z663pl  DQKAiT6cSJkQW2ya_person_1569888000000_Dj66PtJa...   \n",
       "1  1584999865-01t0n240ra  lD0OAaaZ0pcD0zRk_person_1570060800000_1AoTKLlT...   \n",
       "2  1583942091-02migjdla1  ZPFkcYGhq15raY3J_person_1573603200000_lfu3HzFC...   \n",
       "3  1585011777-031jov4jpw  D7tiN7CtUEM9WoRx_person_1571270400000_Q1hKfLbv...   \n",
       "4  1585003039-032hniw434  8SMAKMkY79LovcBU_person_1570838400000_nMpSBNek...   \n",
       "\n",
       "    age     sex  Years  \n",
       "0  1420    male      4  \n",
       "1  1529  female      4  \n",
       "2   945  female      3  \n",
       "3   924    male      3  \n",
       "4  1320  female      4  "
      ]
     },
     "execution_count": 4,
     "metadata": {},
     "output_type": "execute_result"
    }
   ],
   "source": [
    "scans = pd.read_csv(DATASET_PATH / 'labels/scans.csv')\n",
    "print(\"Total no. of children:\", len(scans))\n",
    "scans.head()"
   ]
  },
  {
   "cell_type": "code",
   "execution_count": 5,
   "metadata": {
    "gather": {
     "logged": 1611752155760
    }
   },
   "outputs": [
    {
     "data": {
      "text/html": [
       "<div>\n",
       "<style scoped>\n",
       "    .dataframe tbody tr th:only-of-type {\n",
       "        vertical-align: middle;\n",
       "    }\n",
       "\n",
       "    .dataframe tbody tr th {\n",
       "        vertical-align: top;\n",
       "    }\n",
       "\n",
       "    .dataframe thead th {\n",
       "        text-align: right;\n",
       "    }\n",
       "</style>\n",
       "<table border=\"1\" class=\"dataframe\">\n",
       "  <thead>\n",
       "    <tr style=\"text-align: right;\">\n",
       "      <th></th>\n",
       "      <th>age</th>\n",
       "      <th>Years</th>\n",
       "    </tr>\n",
       "  </thead>\n",
       "  <tbody>\n",
       "    <tr>\n",
       "      <th>count</th>\n",
       "      <td>1680.000000</td>\n",
       "      <td>1680.000000</td>\n",
       "    </tr>\n",
       "    <tr>\n",
       "      <th>mean</th>\n",
       "      <td>1398.369643</td>\n",
       "      <td>3.861905</td>\n",
       "    </tr>\n",
       "    <tr>\n",
       "      <th>std</th>\n",
       "      <td>263.351921</td>\n",
       "      <td>0.752190</td>\n",
       "    </tr>\n",
       "    <tr>\n",
       "      <th>min</th>\n",
       "      <td>914.000000</td>\n",
       "      <td>3.000000</td>\n",
       "    </tr>\n",
       "    <tr>\n",
       "      <th>25%</th>\n",
       "      <td>1166.000000</td>\n",
       "      <td>3.000000</td>\n",
       "    </tr>\n",
       "    <tr>\n",
       "      <th>50%</th>\n",
       "      <td>1406.000000</td>\n",
       "      <td>4.000000</td>\n",
       "    </tr>\n",
       "    <tr>\n",
       "      <th>75%</th>\n",
       "      <td>1621.250000</td>\n",
       "      <td>4.000000</td>\n",
       "    </tr>\n",
       "    <tr>\n",
       "      <th>max</th>\n",
       "      <td>2094.000000</td>\n",
       "      <td>6.000000</td>\n",
       "    </tr>\n",
       "  </tbody>\n",
       "</table>\n",
       "</div>"
      ],
      "text/plain": [
       "               age        Years\n",
       "count  1680.000000  1680.000000\n",
       "mean   1398.369643     3.861905\n",
       "std     263.351921     0.752190\n",
       "min     914.000000     3.000000\n",
       "25%    1166.000000     3.000000\n",
       "50%    1406.000000     4.000000\n",
       "75%    1621.250000     4.000000\n",
       "max    2094.000000     6.000000"
      ]
     },
     "execution_count": 5,
     "metadata": {},
     "output_type": "execute_result"
    }
   ],
   "source": [
    "scans.describe()"
   ]
  },
  {
   "cell_type": "markdown",
   "metadata": {},
   "source": [
    "### getting the total of gender"
   ]
  },
  {
   "cell_type": "code",
   "execution_count": 6,
   "metadata": {
    "gather": {
     "logged": 1611752357750
    }
   },
   "outputs": [
    {
     "data": {
      "image/png": "[encoded data removed]",
      "text/plain": [
       "<Figure size 432x288 with 1 Axes>"
      ]
     },
     "metadata": {
      "needs_background": "light"
     },
     "output_type": "display_data"
    }
   ],
   "source": [
    "plt.figure()\n",
    "ax = draw_sex_distribution(scans)\n",
    "plt.show()"
   ]
  },
  {
   "cell_type": "code",
   "execution_count": 7,
   "metadata": {
    "gather": {
     "logged": 1611752430302
    }
   },
   "outputs": [
    {
     "data": {
      "text/html": [
       "<div>\n",
       "<style scoped>\n",
       "    .dataframe tbody tr th:only-of-type {\n",
       "        vertical-align: middle;\n",
       "    }\n",
       "\n",
       "    .dataframe tbody tr th {\n",
       "        vertical-align: top;\n",
       "    }\n",
       "\n",
       "    .dataframe thead th {\n",
       "        text-align: right;\n",
       "    }\n",
       "</style>\n",
       "<table border=\"1\" class=\"dataframe\">\n",
       "  <thead>\n",
       "    <tr style=\"text-align: right;\">\n",
       "      <th></th>\n",
       "      <th>qrcode</th>\n",
       "      <th>person_id</th>\n",
       "      <th>age</th>\n",
       "      <th>sex</th>\n",
       "      <th>Years</th>\n",
       "    </tr>\n",
       "  </thead>\n",
       "  <tbody>\n",
       "    <tr>\n",
       "      <th>0</th>\n",
       "      <td>1584997475-0195z663pl</td>\n",
       "      <td>DQKAiT6cSJkQW2ya_person_1569888000000_Dj66PtJa...</td>\n",
       "      <td>1420</td>\n",
       "      <td>male</td>\n",
       "      <td>3</td>\n",
       "    </tr>\n",
       "    <tr>\n",
       "      <th>1</th>\n",
       "      <td>1584999865-01t0n240ra</td>\n",
       "      <td>lD0OAaaZ0pcD0zRk_person_1570060800000_1AoTKLlT...</td>\n",
       "      <td>1529</td>\n",
       "      <td>female</td>\n",
       "      <td>4</td>\n",
       "    </tr>\n",
       "  </tbody>\n",
       "</table>\n",
       "</div>"
      ],
      "text/plain": [
       "                  qrcode                                          person_id  \\\n",
       "0  1584997475-0195z663pl  DQKAiT6cSJkQW2ya_person_1569888000000_Dj66PtJa...   \n",
       "1  1584999865-01t0n240ra  lD0OAaaZ0pcD0zRk_person_1570060800000_1AoTKLlT...   \n",
       "\n",
       "    age     sex  Years  \n",
       "0  1420    male      3  \n",
       "1  1529  female      4  "
      ]
     },
     "execution_count": 7,
     "metadata": {},
     "output_type": "execute_result"
    }
   ],
   "source": [
    "#adding the Years column into dataframe\n",
    "scans['Years'] = scans.apply(convert_age_from_days_to_years, axis=1)\n",
    "scans.head(2)"
   ]
  },
  {
   "cell_type": "markdown",
   "metadata": {},
   "source": [
    "### plotting the bar graph no. of children against age"
   ]
  },
  {
   "cell_type": "code",
   "execution_count": 8,
   "metadata": {
    "gather": {
     "logged": 1611752474907
    }
   },
   "outputs": [
    {
     "data": {
      "image/png": "[encoded data removed]",
      "text/plain": [
       "<Figure size 432x288 with 1 Axes>"
      ]
     },
     "metadata": {
      "needs_background": "light"
     },
     "output_type": "display_data"
    }
   ],
   "source": [
    "plt.figure()\n",
    "draw_age_distribution(scans)\n",
    "plt.show()"
   ]
  },
  {
   "cell_type": "markdown",
   "metadata": {},
   "source": [
    "### getting the distribition based on gender"
   ]
  },
  {
   "cell_type": "code",
   "execution_count": 9,
   "metadata": {
    "gather": {
     "logged": 1611752480440
    }
   },
   "outputs": [
    {
     "name": "stdout",
     "output_type": "stream",
     "text": [
      "No. of male distribution: \n",
      "4    373\n",
      "3    321\n",
      "2    129\n",
      "5     12\n",
      "Name: Years, dtype: int64\n"
     ]
    }
   ],
   "source": [
    "male = scans[scans['sex']=='male']\n",
    "print('No. of male distribution: ')\n",
    "print(male['Years'].value_counts())"
   ]
  },
  {
   "cell_type": "code",
   "execution_count": 10,
   "metadata": {
    "gather": {
     "logged": 1611752482026
    }
   },
   "outputs": [
    {
     "name": "stdout",
     "output_type": "stream",
     "text": [
      "No. of female distribution: \n",
      "3    356\n",
      "4    335\n",
      "2    140\n",
      "5     14\n",
      "Name: Years, dtype: int64\n"
     ]
    }
   ],
   "source": [
    "female = scans[scans['sex']=='female']\n",
    "print('No. of female distribution: ')\n",
    "print(female['Years'].value_counts())"
   ]
  },
  {
   "cell_type": "markdown",
   "metadata": {},
   "source": [
    "### Reading the csv files and get the data at artifacts level"
   ]
  },
  {
   "cell_type": "code",
   "execution_count": 11,
   "metadata": {
    "gather": {
     "logged": 1611752488314
    }
   },
   "outputs": [
    {
     "data": {
      "text/html": [
       "<div>\n",
       "<style scoped>\n",
       "    .dataframe tbody tr th:only-of-type {\n",
       "        vertical-align: middle;\n",
       "    }\n",
       "\n",
       "    .dataframe tbody tr th {\n",
       "        vertical-align: top;\n",
       "    }\n",
       "\n",
       "    .dataframe thead th {\n",
       "        text-align: right;\n",
       "    }\n",
       "</style>\n",
       "<table border=\"1\" class=\"dataframe\">\n",
       "  <thead>\n",
       "    <tr style=\"text-align: right;\">\n",
       "      <th></th>\n",
       "      <th>artifacts</th>\n",
       "      <th>storage_path</th>\n",
       "      <th>qrcode</th>\n",
       "      <th>key</th>\n",
       "      <th>height</th>\n",
       "      <th>weight</th>\n",
       "      <th>muac</th>\n",
       "      <th>zscore_height</th>\n",
       "      <th>zscore_weight</th>\n",
       "      <th>zscore_muac</th>\n",
       "    </tr>\n",
       "  </thead>\n",
       "  <tbody>\n",
       "    <tr>\n",
       "      <th>0</th>\n",
       "      <td>pc_1584997475-0195z663pl_1591588126306_100_000...</td>\n",
       "      <td>qrcode/1584997475-0195z663pl/measure/159158812...</td>\n",
       "      <td>1584997475-0195z663pl</td>\n",
       "      <td>100.0</td>\n",
       "      <td>85.7</td>\n",
       "      <td>9.45</td>\n",
       "      <td>12.5</td>\n",
       "      <td>0.099042</td>\n",
       "      <td>0.244035</td>\n",
       "      <td>0.502008</td>\n",
       "    </tr>\n",
       "    <tr>\n",
       "      <th>1</th>\n",
       "      <td>pc_1584997475-0195z663pl_1591588126306_100_001...</td>\n",
       "      <td>qrcode/1584997475-0195z663pl/measure/159158812...</td>\n",
       "      <td>1584997475-0195z663pl</td>\n",
       "      <td>100.0</td>\n",
       "      <td>85.7</td>\n",
       "      <td>9.45</td>\n",
       "      <td>12.5</td>\n",
       "      <td>0.099042</td>\n",
       "      <td>0.244035</td>\n",
       "      <td>0.502008</td>\n",
       "    </tr>\n",
       "    <tr>\n",
       "      <th>2</th>\n",
       "      <td>pc_1584997475-0195z663pl_1591588126306_100_002...</td>\n",
       "      <td>qrcode/1584997475-0195z663pl/measure/159158812...</td>\n",
       "      <td>1584997475-0195z663pl</td>\n",
       "      <td>100.0</td>\n",
       "      <td>85.7</td>\n",
       "      <td>9.45</td>\n",
       "      <td>12.5</td>\n",
       "      <td>0.099042</td>\n",
       "      <td>0.244035</td>\n",
       "      <td>0.502008</td>\n",
       "    </tr>\n",
       "    <tr>\n",
       "      <th>3</th>\n",
       "      <td>pc_1584997475-0195z663pl_1591588126306_100_003...</td>\n",
       "      <td>qrcode/1584997475-0195z663pl/measure/159158812...</td>\n",
       "      <td>1584997475-0195z663pl</td>\n",
       "      <td>100.0</td>\n",
       "      <td>85.7</td>\n",
       "      <td>9.45</td>\n",
       "      <td>12.5</td>\n",
       "      <td>0.099042</td>\n",
       "      <td>0.244035</td>\n",
       "      <td>0.502008</td>\n",
       "    </tr>\n",
       "    <tr>\n",
       "      <th>4</th>\n",
       "      <td>pc_1584997475-0195z663pl_1591588126306_100_004...</td>\n",
       "      <td>qrcode/1584997475-0195z663pl/measure/159158812...</td>\n",
       "      <td>1584997475-0195z663pl</td>\n",
       "      <td>100.0</td>\n",
       "      <td>85.7</td>\n",
       "      <td>9.45</td>\n",
       "      <td>12.5</td>\n",
       "      <td>0.099042</td>\n",
       "      <td>0.244035</td>\n",
       "      <td>0.502008</td>\n",
       "    </tr>\n",
       "  </tbody>\n",
       "</table>\n",
       "</div>"
      ],
      "text/plain": [
       "                                           artifacts  \\\n",
       "0  pc_1584997475-0195z663pl_1591588126306_100_000...   \n",
       "1  pc_1584997475-0195z663pl_1591588126306_100_001...   \n",
       "2  pc_1584997475-0195z663pl_1591588126306_100_002...   \n",
       "3  pc_1584997475-0195z663pl_1591588126306_100_003...   \n",
       "4  pc_1584997475-0195z663pl_1591588126306_100_004...   \n",
       "\n",
       "                                        storage_path                 qrcode  \\\n",
       "0  qrcode/1584997475-0195z663pl/measure/159158812...  1584997475-0195z663pl   \n",
       "1  qrcode/1584997475-0195z663pl/measure/159158812...  1584997475-0195z663pl   \n",
       "2  qrcode/1584997475-0195z663pl/measure/159158812...  1584997475-0195z663pl   \n",
       "3  qrcode/1584997475-0195z663pl/measure/159158812...  1584997475-0195z663pl   \n",
       "4  qrcode/1584997475-0195z663pl/measure/159158812...  1584997475-0195z663pl   \n",
       "\n",
       "     key  height  weight  muac  zscore_height  zscore_weight  zscore_muac  \n",
       "0  100.0    85.7    9.45  12.5       0.099042       0.244035     0.502008  \n",
       "1  100.0    85.7    9.45  12.5       0.099042       0.244035     0.502008  \n",
       "2  100.0    85.7    9.45  12.5       0.099042       0.244035     0.502008  \n",
       "3  100.0    85.7    9.45  12.5       0.099042       0.244035     0.502008  \n",
       "4  100.0    85.7    9.45  12.5       0.099042       0.244035     0.502008  "
      ]
     },
     "execution_count": 11,
     "metadata": {},
     "output_type": "execute_result"
    }
   ],
   "source": [
    "artifacts = pd.read_csv(DATASET_PATH / 'labels/artifacts.csv')\n",
    "artifacts.head()"
   ]
  },
  {
   "cell_type": "code",
   "execution_count": 12,
   "metadata": {
    "gather": {
     "logged": 1611752490405
    }
   },
   "outputs": [],
   "source": [
    "## dropping the null values from the artifacts \n",
    "artifacts  = artifacts.dropna()"
   ]
  },
  {
   "cell_type": "code",
   "execution_count": 13,
   "metadata": {
    "gather": {
     "logged": 1611752491727
    }
   },
   "outputs": [
    {
     "data": {
      "text/html": [
       "<div>\n",
       "<style scoped>\n",
       "    .dataframe tbody tr th:only-of-type {\n",
       "        vertical-align: middle;\n",
       "    }\n",
       "\n",
       "    .dataframe tbody tr th {\n",
       "        vertical-align: top;\n",
       "    }\n",
       "\n",
       "    .dataframe thead th {\n",
       "        text-align: right;\n",
       "    }\n",
       "</style>\n",
       "<table border=\"1\" class=\"dataframe\">\n",
       "  <thead>\n",
       "    <tr style=\"text-align: right;\">\n",
       "      <th></th>\n",
       "      <th>key</th>\n",
       "      <th>height</th>\n",
       "      <th>weight</th>\n",
       "      <th>muac</th>\n",
       "      <th>zscore_height</th>\n",
       "      <th>zscore_weight</th>\n",
       "      <th>zscore_muac</th>\n",
       "    </tr>\n",
       "  </thead>\n",
       "  <tbody>\n",
       "    <tr>\n",
       "      <th>count</th>\n",
       "      <td>42298.000000</td>\n",
       "      <td>42298.000000</td>\n",
       "      <td>42298.000000</td>\n",
       "      <td>42298.000000</td>\n",
       "      <td>42298.000000</td>\n",
       "      <td>42298.000000</td>\n",
       "      <td>42298.000000</td>\n",
       "    </tr>\n",
       "    <tr>\n",
       "      <th>mean</th>\n",
       "      <td>100.996548</td>\n",
       "      <td>93.752121</td>\n",
       "      <td>12.381007</td>\n",
       "      <td>14.250253</td>\n",
       "      <td>1.238570</td>\n",
       "      <td>1.833350</td>\n",
       "      <td>2.259290</td>\n",
       "    </tr>\n",
       "    <tr>\n",
       "      <th>std</th>\n",
       "      <td>0.752257</td>\n",
       "      <td>7.029523</td>\n",
       "      <td>1.838878</td>\n",
       "      <td>1.020104</td>\n",
       "      <td>0.994711</td>\n",
       "      <td>0.997211</td>\n",
       "      <td>1.024201</td>\n",
       "    </tr>\n",
       "    <tr>\n",
       "      <th>min</th>\n",
       "      <td>100.000000</td>\n",
       "      <td>58.300000</td>\n",
       "      <td>7.650000</td>\n",
       "      <td>11.500000</td>\n",
       "      <td>-3.777749</td>\n",
       "      <td>-0.732104</td>\n",
       "      <td>-0.502008</td>\n",
       "    </tr>\n",
       "    <tr>\n",
       "      <th>25%</th>\n",
       "      <td>100.000000</td>\n",
       "      <td>88.700000</td>\n",
       "      <td>11.100000</td>\n",
       "      <td>13.600000</td>\n",
       "      <td>0.523508</td>\n",
       "      <td>1.138829</td>\n",
       "      <td>1.606426</td>\n",
       "    </tr>\n",
       "    <tr>\n",
       "      <th>50%</th>\n",
       "      <td>101.000000</td>\n",
       "      <td>93.600000</td>\n",
       "      <td>12.350000</td>\n",
       "      <td>14.200000</td>\n",
       "      <td>1.216803</td>\n",
       "      <td>1.816703</td>\n",
       "      <td>2.208835</td>\n",
       "    </tr>\n",
       "    <tr>\n",
       "      <th>75%</th>\n",
       "      <td>102.000000</td>\n",
       "      <td>98.700000</td>\n",
       "      <td>13.550000</td>\n",
       "      <td>14.900000</td>\n",
       "      <td>1.938396</td>\n",
       "      <td>2.467462</td>\n",
       "      <td>2.911647</td>\n",
       "    </tr>\n",
       "    <tr>\n",
       "      <th>max</th>\n",
       "      <td>102.000000</td>\n",
       "      <td>114.700000</td>\n",
       "      <td>19.000000</td>\n",
       "      <td>18.200000</td>\n",
       "      <td>4.202216</td>\n",
       "      <td>5.422993</td>\n",
       "      <td>6.224900</td>\n",
       "    </tr>\n",
       "  </tbody>\n",
       "</table>\n",
       "</div>"
      ],
      "text/plain": [
       "                key        height        weight          muac  zscore_height  \\\n",
       "count  42298.000000  42298.000000  42298.000000  42298.000000   42298.000000   \n",
       "mean     100.996548     93.752121     12.381007     14.250253       1.238570   \n",
       "std        0.752257      7.029523      1.838878      1.020104       0.994711   \n",
       "min      100.000000     58.300000      7.650000     11.500000      -3.777749   \n",
       "25%      100.000000     88.700000     11.100000     13.600000       0.523508   \n",
       "50%      101.000000     93.600000     12.350000     14.200000       1.216803   \n",
       "75%      102.000000     98.700000     13.550000     14.900000       1.938396   \n",
       "max      102.000000    114.700000     19.000000     18.200000       4.202216   \n",
       "\n",
       "       zscore_weight   zscore_muac  \n",
       "count   42298.000000  42298.000000  \n",
       "mean        1.833350      2.259290  \n",
       "std         0.997211      1.024201  \n",
       "min        -0.732104     -0.502008  \n",
       "25%         1.138829      1.606426  \n",
       "50%         1.816703      2.208835  \n",
       "75%         2.467462      2.911647  \n",
       "max         5.422993      6.224900  "
      ]
     },
     "execution_count": 13,
     "metadata": {},
     "output_type": "execute_result"
    }
   ],
   "source": [
    "artifacts.describe()"
   ]
  },
  {
   "cell_type": "code",
   "execution_count": 14,
   "metadata": {
    "gather": {
     "logged": 1611752494663
    }
   },
   "outputs": [
    {
     "name": "stdout",
     "output_type": "stream",
     "text": [
      "Total no. of pointclouds: 42298\n"
     ]
    }
   ],
   "source": [
    "print(\"Total no. of pointclouds:\",len(artifacts ))"
   ]
  },
  {
   "cell_type": "code",
   "execution_count": 15,
   "metadata": {
    "gather": {
     "logged": 1611752495234
    }
   },
   "outputs": [
    {
     "name": "stdout",
     "output_type": "stream",
     "text": [
      "101.0    18362\n",
      "100.0    12041\n",
      "102.0    11895\n",
      "Name: key, dtype: int64\n"
     ]
    },
    {
     "data": {
      "image/png": "[encoded data removed]",
      "text/plain": [
       "<Figure size 432x288 with 1 Axes>"
      ]
     },
     "metadata": {},
     "output_type": "display_data"
    }
   ],
   "source": [
    "## keys for different scan type and their distribution in dataset\n",
    "\"- 100 - standing front scan\",\n",
    "\"- 101 - standing 360 scan\",\n",
    "\"- 102 - standing back scan\",\n",
    "\"- 200 - lying front scan\",\n",
    "\"- 201 - lying side scan\",\n",
    "\"- 202 - lying back scan\"\n",
    "print(artifacts['key'].value_counts())\n",
    "_ = artifacts['key'].value_counts().plot(kind='pie')"
   ]
  },
  {
   "cell_type": "markdown",
   "metadata": {},
   "source": [
    "### plotting the height and weight distribution"
   ]
  },
  {
   "cell_type": "code",
   "execution_count": 16,
   "metadata": {
    "gather": {
     "logged": 1611752500885
    }
   },
   "outputs": [
    {
     "data": {
      "text/html": [
       "<div>\n",
       "<style scoped>\n",
       "    .dataframe tbody tr th:only-of-type {\n",
       "        vertical-align: middle;\n",
       "    }\n",
       "\n",
       "    .dataframe tbody tr th {\n",
       "        vertical-align: top;\n",
       "    }\n",
       "\n",
       "    .dataframe thead th {\n",
       "        text-align: right;\n",
       "    }\n",
       "</style>\n",
       "<table border=\"1\" class=\"dataframe\">\n",
       "  <thead>\n",
       "    <tr style=\"text-align: right;\">\n",
       "      <th></th>\n",
       "      <th>artifacts</th>\n",
       "      <th>storage_path</th>\n",
       "      <th>qrcode</th>\n",
       "      <th>key</th>\n",
       "      <th>height</th>\n",
       "      <th>weight</th>\n",
       "      <th>muac</th>\n",
       "      <th>zscore_height</th>\n",
       "      <th>zscore_weight</th>\n",
       "      <th>zscore_muac</th>\n",
       "    </tr>\n",
       "  </thead>\n",
       "  <tbody>\n",
       "    <tr>\n",
       "      <th>0</th>\n",
       "      <td>pc_1584997475-0195z663pl_1591588126306_100_000...</td>\n",
       "      <td>qrcode/1584997475-0195z663pl/measure/159158812...</td>\n",
       "      <td>1584997475-0195z663pl</td>\n",
       "      <td>100.0</td>\n",
       "      <td>85.7</td>\n",
       "      <td>9.45</td>\n",
       "      <td>12.5</td>\n",
       "      <td>0.099042</td>\n",
       "      <td>0.244035</td>\n",
       "      <td>0.502008</td>\n",
       "    </tr>\n",
       "    <tr>\n",
       "      <th>1</th>\n",
       "      <td>pc_1584997475-0195z663pl_1591588126306_100_001...</td>\n",
       "      <td>qrcode/1584997475-0195z663pl/measure/159158812...</td>\n",
       "      <td>1584997475-0195z663pl</td>\n",
       "      <td>100.0</td>\n",
       "      <td>85.7</td>\n",
       "      <td>9.45</td>\n",
       "      <td>12.5</td>\n",
       "      <td>0.099042</td>\n",
       "      <td>0.244035</td>\n",
       "      <td>0.502008</td>\n",
       "    </tr>\n",
       "    <tr>\n",
       "      <th>2</th>\n",
       "      <td>pc_1584997475-0195z663pl_1591588126306_100_002...</td>\n",
       "      <td>qrcode/1584997475-0195z663pl/measure/159158812...</td>\n",
       "      <td>1584997475-0195z663pl</td>\n",
       "      <td>100.0</td>\n",
       "      <td>85.7</td>\n",
       "      <td>9.45</td>\n",
       "      <td>12.5</td>\n",
       "      <td>0.099042</td>\n",
       "      <td>0.244035</td>\n",
       "      <td>0.502008</td>\n",
       "    </tr>\n",
       "    <tr>\n",
       "      <th>3</th>\n",
       "      <td>pc_1584997475-0195z663pl_1591588126306_100_003...</td>\n",
       "      <td>qrcode/1584997475-0195z663pl/measure/159158812...</td>\n",
       "      <td>1584997475-0195z663pl</td>\n",
       "      <td>100.0</td>\n",
       "      <td>85.7</td>\n",
       "      <td>9.45</td>\n",
       "      <td>12.5</td>\n",
       "      <td>0.099042</td>\n",
       "      <td>0.244035</td>\n",
       "      <td>0.502008</td>\n",
       "    </tr>\n",
       "    <tr>\n",
       "      <th>4</th>\n",
       "      <td>pc_1584997475-0195z663pl_1591588126306_100_004...</td>\n",
       "      <td>qrcode/1584997475-0195z663pl/measure/159158812...</td>\n",
       "      <td>1584997475-0195z663pl</td>\n",
       "      <td>100.0</td>\n",
       "      <td>85.7</td>\n",
       "      <td>9.45</td>\n",
       "      <td>12.5</td>\n",
       "      <td>0.099042</td>\n",
       "      <td>0.244035</td>\n",
       "      <td>0.502008</td>\n",
       "    </tr>\n",
       "  </tbody>\n",
       "</table>\n",
       "</div>"
      ],
      "text/plain": [
       "                                           artifacts  \\\n",
       "0  pc_1584997475-0195z663pl_1591588126306_100_000...   \n",
       "1  pc_1584997475-0195z663pl_1591588126306_100_001...   \n",
       "2  pc_1584997475-0195z663pl_1591588126306_100_002...   \n",
       "3  pc_1584997475-0195z663pl_1591588126306_100_003...   \n",
       "4  pc_1584997475-0195z663pl_1591588126306_100_004...   \n",
       "\n",
       "                                        storage_path                 qrcode  \\\n",
       "0  qrcode/1584997475-0195z663pl/measure/159158812...  1584997475-0195z663pl   \n",
       "1  qrcode/1584997475-0195z663pl/measure/159158812...  1584997475-0195z663pl   \n",
       "2  qrcode/1584997475-0195z663pl/measure/159158812...  1584997475-0195z663pl   \n",
       "3  qrcode/1584997475-0195z663pl/measure/159158812...  1584997475-0195z663pl   \n",
       "4  qrcode/1584997475-0195z663pl/measure/159158812...  1584997475-0195z663pl   \n",
       "\n",
       "     key  height  weight  muac  zscore_height  zscore_weight  zscore_muac  \n",
       "0  100.0    85.7    9.45  12.5       0.099042       0.244035     0.502008  \n",
       "1  100.0    85.7    9.45  12.5       0.099042       0.244035     0.502008  \n",
       "2  100.0    85.7    9.45  12.5       0.099042       0.244035     0.502008  \n",
       "3  100.0    85.7    9.45  12.5       0.099042       0.244035     0.502008  \n",
       "4  100.0    85.7    9.45  12.5       0.099042       0.244035     0.502008  "
      ]
     },
     "execution_count": 16,
     "metadata": {},
     "output_type": "execute_result"
    }
   ],
   "source": [
    "artifacts['qrcode'] = artifacts.apply(extractqrcode, axis=1)\n",
    "artifacts.head()"
   ]
  },
  {
   "cell_type": "code",
   "execution_count": 17,
   "metadata": {
    "gather": {
     "logged": 1611752501415
    }
   },
   "outputs": [
    {
     "data": {
      "text/html": [
       "<div>\n",
       "<style scoped>\n",
       "    .dataframe tbody tr th:only-of-type {\n",
       "        vertical-align: middle;\n",
       "    }\n",
       "\n",
       "    .dataframe tbody tr th {\n",
       "        vertical-align: top;\n",
       "    }\n",
       "\n",
       "    .dataframe thead th {\n",
       "        text-align: right;\n",
       "    }\n",
       "</style>\n",
       "<table border=\"1\" class=\"dataframe\">\n",
       "  <thead>\n",
       "    <tr style=\"text-align: right;\">\n",
       "      <th></th>\n",
       "      <th>artifacts</th>\n",
       "      <th>storage_path</th>\n",
       "      <th>qrcode</th>\n",
       "      <th>key</th>\n",
       "      <th>height</th>\n",
       "      <th>weight</th>\n",
       "      <th>muac</th>\n",
       "      <th>zscore_height</th>\n",
       "      <th>zscore_weight</th>\n",
       "      <th>zscore_muac</th>\n",
       "    </tr>\n",
       "  </thead>\n",
       "  <tbody>\n",
       "    <tr>\n",
       "      <th>0</th>\n",
       "      <td>pc_1584997475-0195z663pl_1591588126306_100_000...</td>\n",
       "      <td>qrcode/1584997475-0195z663pl/measure/159158812...</td>\n",
       "      <td>1584997475-0195z663pl</td>\n",
       "      <td>100.0</td>\n",
       "      <td>85.7</td>\n",
       "      <td>9.45</td>\n",
       "      <td>12.5</td>\n",
       "      <td>0.099042</td>\n",
       "      <td>0.244035</td>\n",
       "      <td>0.502008</td>\n",
       "    </tr>\n",
       "    <tr>\n",
       "      <th>1</th>\n",
       "      <td>pc_1584999865-01t0n240ra_1591629837700_100_008...</td>\n",
       "      <td>qrcode/1584999865-01t0n240ra/measure/159162983...</td>\n",
       "      <td>1584999865-01t0n240ra</td>\n",
       "      <td>100.0</td>\n",
       "      <td>86.5</td>\n",
       "      <td>12.45</td>\n",
       "      <td>13.1</td>\n",
       "      <td>0.212233</td>\n",
       "      <td>1.870933</td>\n",
       "      <td>1.104418</td>\n",
       "    </tr>\n",
       "    <tr>\n",
       "      <th>2</th>\n",
       "      <td>pc_1583942091-02migjdla1_1591470015961_100_000...</td>\n",
       "      <td>qrcode/1583942091-02migjdla1/measure/159147001...</td>\n",
       "      <td>1583942091-02migjdla1</td>\n",
       "      <td>100.0</td>\n",
       "      <td>71.6</td>\n",
       "      <td>8.10</td>\n",
       "      <td>13.5</td>\n",
       "      <td>-1.895949</td>\n",
       "      <td>-0.488069</td>\n",
       "      <td>1.506024</td>\n",
       "    </tr>\n",
       "    <tr>\n",
       "      <th>3</th>\n",
       "      <td>pc_1585011777-031jov4jpw_1591815240163_100_000...</td>\n",
       "      <td>qrcode/1585011777-031jov4jpw/measure/159181524...</td>\n",
       "      <td>1585011777-031jov4jpw</td>\n",
       "      <td>100.0</td>\n",
       "      <td>78.5</td>\n",
       "      <td>11.75</td>\n",
       "      <td>15.3</td>\n",
       "      <td>-0.919677</td>\n",
       "      <td>1.491323</td>\n",
       "      <td>3.313253</td>\n",
       "    </tr>\n",
       "    <tr>\n",
       "      <th>4</th>\n",
       "      <td>pc_1585003039-032hniw434_1591707933084_102_000...</td>\n",
       "      <td>qrcode/1585003039-032hniw434/measure/159170793...</td>\n",
       "      <td>1585003039-032hniw434</td>\n",
       "      <td>102.0</td>\n",
       "      <td>108.1</td>\n",
       "      <td>15.50</td>\n",
       "      <td>14.8</td>\n",
       "      <td>3.268390</td>\n",
       "      <td>3.524946</td>\n",
       "      <td>2.811245</td>\n",
       "    </tr>\n",
       "  </tbody>\n",
       "</table>\n",
       "</div>"
      ],
      "text/plain": [
       "                                           artifacts  \\\n",
       "0  pc_1584997475-0195z663pl_1591588126306_100_000...   \n",
       "1  pc_1584999865-01t0n240ra_1591629837700_100_008...   \n",
       "2  pc_1583942091-02migjdla1_1591470015961_100_000...   \n",
       "3  pc_1585011777-031jov4jpw_1591815240163_100_000...   \n",
       "4  pc_1585003039-032hniw434_1591707933084_102_000...   \n",
       "\n",
       "                                        storage_path                 qrcode  \\\n",
       "0  qrcode/1584997475-0195z663pl/measure/159158812...  1584997475-0195z663pl   \n",
       "1  qrcode/1584999865-01t0n240ra/measure/159162983...  1584999865-01t0n240ra   \n",
       "2  qrcode/1583942091-02migjdla1/measure/159147001...  1583942091-02migjdla1   \n",
       "3  qrcode/1585011777-031jov4jpw/measure/159181524...  1585011777-031jov4jpw   \n",
       "4  qrcode/1585003039-032hniw434/measure/159170793...  1585003039-032hniw434   \n",
       "\n",
       "     key  height  weight  muac  zscore_height  zscore_weight  zscore_muac  \n",
       "0  100.0    85.7    9.45  12.5       0.099042       0.244035     0.502008  \n",
       "1  100.0    86.5   12.45  13.1       0.212233       1.870933     1.104418  \n",
       "2  100.0    71.6    8.10  13.5      -1.895949      -0.488069     1.506024  \n",
       "3  100.0    78.5   11.75  15.3      -0.919677       1.491323     3.313253  \n",
       "4  102.0   108.1   15.50  14.8       3.268390       3.524946     2.811245  "
      ]
     },
     "execution_count": 17,
     "metadata": {},
     "output_type": "execute_result"
    }
   ],
   "source": [
    "getheight = artifacts.drop_duplicates(subset=['qrcode']).reset_index(drop=True)\n",
    "getheight.head()"
   ]
  },
  {
   "cell_type": "code",
   "execution_count": 18,
   "metadata": {
    "gather": {
     "logged": 1611752501933
    }
   },
   "outputs": [
    {
     "name": "stdout",
     "output_type": "stream",
     "text": [
      "Total no.unique scans: 1680\n"
     ]
    }
   ],
   "source": [
    "print(\"Total no.unique scans:\", len(getheight))"
   ]
  },
  {
   "cell_type": "code",
   "execution_count": 19,
   "metadata": {
    "gather": {
     "logged": 1611752503957
    }
   },
   "outputs": [
    {
     "data": {
      "text/plain": [
       "Text(0, 0.5, 'height')"
      ]
     },
     "execution_count": 19,
     "metadata": {},
     "output_type": "execute_result"
    },
    {
     "data": {
      "image/png": "[encoded data removed]",
      "text/plain": [
       "<Figure size 432x288 with 1 Axes>"
      ]
     },
     "metadata": {
      "needs_background": "light"
     },
     "output_type": "display_data"
    }
   ],
   "source": [
    "heightax = getheight['weight'].plot()\n",
    "heightax.set_xlabel('scan')\n",
    "heightax.set_ylabel('height')"
   ]
  },
  {
   "cell_type": "code",
   "execution_count": 20,
   "metadata": {
    "gather": {
     "logged": 1611752504841
    }
   },
   "outputs": [
    {
     "data": {
      "text/plain": [
       "Text(0.5, 0, 'weight')"
      ]
     },
     "execution_count": 20,
     "metadata": {},
     "output_type": "execute_result"
    },
    {
     "data": {
      "image/png": "[encoded data removed]",
      "text/plain": [
       "<Figure size 432x288 with 1 Axes>"
      ]
     },
     "metadata": {
      "needs_background": "light"
     },
     "output_type": "display_data"
    }
   ],
   "source": [
    "weightax = getheight['weight'].plot()\n",
    "weightax.set_xlabel('scan')\n",
    "weightax.set_xlabel('weight')"
   ]
  },
  {
   "cell_type": "code",
   "execution_count": 21,
   "metadata": {
    "gather": {
     "logged": 1611752506670
    }
   },
   "outputs": [
    {
     "data": {
      "text/html": [
       "<div>\n",
       "<style scoped>\n",
       "    .dataframe tbody tr th:only-of-type {\n",
       "        vertical-align: middle;\n",
       "    }\n",
       "\n",
       "    .dataframe tbody tr th {\n",
       "        vertical-align: top;\n",
       "    }\n",
       "\n",
       "    .dataframe thead th {\n",
       "        text-align: right;\n",
       "    }\n",
       "</style>\n",
       "<table border=\"1\" class=\"dataframe\">\n",
       "  <thead>\n",
       "    <tr style=\"text-align: right;\">\n",
       "      <th></th>\n",
       "      <th>qrcode</th>\n",
       "      <th>person_id</th>\n",
       "      <th>age</th>\n",
       "      <th>sex</th>\n",
       "      <th>Years</th>\n",
       "      <th>height</th>\n",
       "      <th>weight</th>\n",
       "      <th>muac</th>\n",
       "    </tr>\n",
       "  </thead>\n",
       "  <tbody>\n",
       "    <tr>\n",
       "      <th>0</th>\n",
       "      <td>1584997475-0195z663pl</td>\n",
       "      <td>DQKAiT6cSJkQW2ya_person_1569888000000_Dj66PtJa...</td>\n",
       "      <td>1420</td>\n",
       "      <td>male</td>\n",
       "      <td>3</td>\n",
       "      <td>85.7</td>\n",
       "      <td>9.45</td>\n",
       "      <td>12.5</td>\n",
       "    </tr>\n",
       "    <tr>\n",
       "      <th>1</th>\n",
       "      <td>1584999865-01t0n240ra</td>\n",
       "      <td>lD0OAaaZ0pcD0zRk_person_1570060800000_1AoTKLlT...</td>\n",
       "      <td>1529</td>\n",
       "      <td>female</td>\n",
       "      <td>4</td>\n",
       "      <td>86.5</td>\n",
       "      <td>12.45</td>\n",
       "      <td>13.1</td>\n",
       "    </tr>\n",
       "    <tr>\n",
       "      <th>2</th>\n",
       "      <td>1583942091-02migjdla1</td>\n",
       "      <td>ZPFkcYGhq15raY3J_person_1573603200000_lfu3HzFC...</td>\n",
       "      <td>945</td>\n",
       "      <td>female</td>\n",
       "      <td>2</td>\n",
       "      <td>71.6</td>\n",
       "      <td>8.10</td>\n",
       "      <td>13.5</td>\n",
       "    </tr>\n",
       "    <tr>\n",
       "      <th>3</th>\n",
       "      <td>1585011777-031jov4jpw</td>\n",
       "      <td>D7tiN7CtUEM9WoRx_person_1571270400000_Q1hKfLbv...</td>\n",
       "      <td>924</td>\n",
       "      <td>male</td>\n",
       "      <td>2</td>\n",
       "      <td>78.5</td>\n",
       "      <td>11.75</td>\n",
       "      <td>15.3</td>\n",
       "    </tr>\n",
       "    <tr>\n",
       "      <th>4</th>\n",
       "      <td>1585003039-032hniw434</td>\n",
       "      <td>8SMAKMkY79LovcBU_person_1570838400000_nMpSBNek...</td>\n",
       "      <td>1320</td>\n",
       "      <td>female</td>\n",
       "      <td>3</td>\n",
       "      <td>108.1</td>\n",
       "      <td>15.50</td>\n",
       "      <td>14.8</td>\n",
       "    </tr>\n",
       "  </tbody>\n",
       "</table>\n",
       "</div>"
      ],
      "text/plain": [
       "                  qrcode                                          person_id  \\\n",
       "0  1584997475-0195z663pl  DQKAiT6cSJkQW2ya_person_1569888000000_Dj66PtJa...   \n",
       "1  1584999865-01t0n240ra  lD0OAaaZ0pcD0zRk_person_1570060800000_1AoTKLlT...   \n",
       "2  1583942091-02migjdla1  ZPFkcYGhq15raY3J_person_1573603200000_lfu3HzFC...   \n",
       "3  1585011777-031jov4jpw  D7tiN7CtUEM9WoRx_person_1571270400000_Q1hKfLbv...   \n",
       "4  1585003039-032hniw434  8SMAKMkY79LovcBU_person_1570838400000_nMpSBNek...   \n",
       "\n",
       "    age     sex  Years  height  weight  muac  \n",
       "0  1420    male      3    85.7    9.45  12.5  \n",
       "1  1529  female      4    86.5   12.45  13.1  \n",
       "2   945  female      2    71.6    8.10  13.5  \n",
       "3   924    male      2    78.5   11.75  15.3  \n",
       "4  1320  female      3   108.1   15.50  14.8  "
      ]
     },
     "execution_count": 21,
     "metadata": {},
     "output_type": "execute_result"
    }
   ],
   "source": [
    "distribution_data = pd.merge(scans, getheight[['height', 'weight', 'muac', 'qrcode']], on='qrcode', how='left')\n",
    "distribution_data.head()"
   ]
  },
  {
   "cell_type": "code",
   "execution_count": 22,
   "metadata": {
    "gather": {
     "logged": 1611752507818
    }
   },
   "outputs": [
    {
     "data": {
      "image/png": "[encoded data removed]",
      "text/plain": [
       "<Figure size 432x288 with 1 Axes>"
      ]
     },
     "metadata": {
      "needs_background": "light"
     },
     "output_type": "display_data"
    }
   ],
   "source": [
    "#distribution of height against age\n",
    "heightvsage = distribution_data.plot.scatter(x='height', y='age', c='red')"
   ]
  },
  {
   "cell_type": "code",
   "execution_count": 23,
   "metadata": {
    "gather": {
     "logged": 1611752512897
    }
   },
   "outputs": [
    {
     "data": {
      "image/png": "[encoded data removed]",
      "text/plain": [
       "<Figure size 432x288 with 1 Axes>"
      ]
     },
     "metadata": {
      "needs_background": "light"
     },
     "output_type": "display_data"
    }
   ],
   "source": [
    "#distribution of weight against age\n",
    "weightvsage = distribution_data.plot.scatter(x='weight', y='age', c='red')"
   ]
  },
  {
   "cell_type": "code",
   "execution_count": 24,
   "metadata": {
    "gather": {
     "logged": 1611752513368
    }
   },
   "outputs": [
    {
     "data": {
      "image/png": "[encoded data removed]",
      "text/plain": [
       "<Figure size 432x288 with 1 Axes>"
      ]
     },
     "metadata": {
      "needs_background": "light"
     },
     "output_type": "display_data"
    }
   ],
   "source": [
    "## distribution of height against weight\n",
    "weight_vs_height = distribution_data.plot.scatter(x='height', y='weight', c='red')"
   ]
  },
  {
   "cell_type": "code",
   "execution_count": 25,
   "metadata": {
    "gather": {
     "logged": 1611752515543
    },
    "scrolled": true
   },
   "outputs": [
    {
     "data": {
      "image/png": "[encoded data removed]",
      "text/plain": [
       "<Figure size 432x288 with 1 Axes>"
      ]
     },
     "metadata": {
      "needs_background": "light"
     },
     "output_type": "display_data"
    }
   ],
   "source": [
    "## distribution of age against weight\n",
    "weight_vs_height = distribution_data.plot.scatter(x='age', y='muac', c='red')"
   ]
  },
  {
   "cell_type": "markdown",
   "metadata": {},
   "source": [
    "## No outliers"
   ]
  },
  {
   "cell_type": "code",
   "execution_count": 26,
   "metadata": {},
   "outputs": [
    {
     "data": {
      "text/html": [
       "<div>\n",
       "<style scoped>\n",
       "    .dataframe tbody tr th:only-of-type {\n",
       "        vertical-align: middle;\n",
       "    }\n",
       "\n",
       "    .dataframe tbody tr th {\n",
       "        vertical-align: top;\n",
       "    }\n",
       "\n",
       "    .dataframe thead th {\n",
       "        text-align: right;\n",
       "    }\n",
       "</style>\n",
       "<table border=\"1\" class=\"dataframe\">\n",
       "  <thead>\n",
       "    <tr style=\"text-align: right;\">\n",
       "      <th></th>\n",
       "      <th>key</th>\n",
       "      <th>height</th>\n",
       "      <th>weight</th>\n",
       "      <th>muac</th>\n",
       "      <th>zscore_height</th>\n",
       "      <th>zscore_weight</th>\n",
       "      <th>zscore_muac</th>\n",
       "    </tr>\n",
       "  </thead>\n",
       "  <tbody>\n",
       "    <tr>\n",
       "      <th>count</th>\n",
       "      <td>42298.000000</td>\n",
       "      <td>42298.000000</td>\n",
       "      <td>42298.000000</td>\n",
       "      <td>42298.000000</td>\n",
       "      <td>42298.000000</td>\n",
       "      <td>42298.000000</td>\n",
       "      <td>42298.000000</td>\n",
       "    </tr>\n",
       "    <tr>\n",
       "      <th>mean</th>\n",
       "      <td>100.996548</td>\n",
       "      <td>93.752121</td>\n",
       "      <td>12.381007</td>\n",
       "      <td>14.250253</td>\n",
       "      <td>1.238570</td>\n",
       "      <td>1.833350</td>\n",
       "      <td>2.259290</td>\n",
       "    </tr>\n",
       "    <tr>\n",
       "      <th>std</th>\n",
       "      <td>0.752257</td>\n",
       "      <td>7.029523</td>\n",
       "      <td>1.838878</td>\n",
       "      <td>1.020104</td>\n",
       "      <td>0.994711</td>\n",
       "      <td>0.997211</td>\n",
       "      <td>1.024201</td>\n",
       "    </tr>\n",
       "    <tr>\n",
       "      <th>min</th>\n",
       "      <td>100.000000</td>\n",
       "      <td>58.300000</td>\n",
       "      <td>7.650000</td>\n",
       "      <td>11.500000</td>\n",
       "      <td>-3.777749</td>\n",
       "      <td>-0.732104</td>\n",
       "      <td>-0.502008</td>\n",
       "    </tr>\n",
       "    <tr>\n",
       "      <th>25%</th>\n",
       "      <td>100.000000</td>\n",
       "      <td>88.700000</td>\n",
       "      <td>11.100000</td>\n",
       "      <td>13.600000</td>\n",
       "      <td>0.523508</td>\n",
       "      <td>1.138829</td>\n",
       "      <td>1.606426</td>\n",
       "    </tr>\n",
       "    <tr>\n",
       "      <th>50%</th>\n",
       "      <td>101.000000</td>\n",
       "      <td>93.600000</td>\n",
       "      <td>12.350000</td>\n",
       "      <td>14.200000</td>\n",
       "      <td>1.216803</td>\n",
       "      <td>1.816703</td>\n",
       "      <td>2.208835</td>\n",
       "    </tr>\n",
       "    <tr>\n",
       "      <th>75%</th>\n",
       "      <td>102.000000</td>\n",
       "      <td>98.700000</td>\n",
       "      <td>13.550000</td>\n",
       "      <td>14.900000</td>\n",
       "      <td>1.938396</td>\n",
       "      <td>2.467462</td>\n",
       "      <td>2.911647</td>\n",
       "    </tr>\n",
       "    <tr>\n",
       "      <th>max</th>\n",
       "      <td>102.000000</td>\n",
       "      <td>114.700000</td>\n",
       "      <td>19.000000</td>\n",
       "      <td>18.200000</td>\n",
       "      <td>4.202216</td>\n",
       "      <td>5.422993</td>\n",
       "      <td>6.224900</td>\n",
       "    </tr>\n",
       "  </tbody>\n",
       "</table>\n",
       "</div>"
      ],
      "text/plain": [
       "                key        height        weight          muac  zscore_height  \\\n",
       "count  42298.000000  42298.000000  42298.000000  42298.000000   42298.000000   \n",
       "mean     100.996548     93.752121     12.381007     14.250253       1.238570   \n",
       "std        0.752257      7.029523      1.838878      1.020104       0.994711   \n",
       "min      100.000000     58.300000      7.650000     11.500000      -3.777749   \n",
       "25%      100.000000     88.700000     11.100000     13.600000       0.523508   \n",
       "50%      101.000000     93.600000     12.350000     14.200000       1.216803   \n",
       "75%      102.000000     98.700000     13.550000     14.900000       1.938396   \n",
       "max      102.000000    114.700000     19.000000     18.200000       4.202216   \n",
       "\n",
       "       zscore_weight   zscore_muac  \n",
       "count   42298.000000  42298.000000  \n",
       "mean        1.833350      2.259290  \n",
       "std         0.997211      1.024201  \n",
       "min        -0.732104     -0.502008  \n",
       "25%         1.138829      1.606426  \n",
       "50%         1.816703      2.208835  \n",
       "75%         2.467462      2.911647  \n",
       "max         5.422993      6.224900  "
      ]
     },
     "execution_count": 26,
     "metadata": {},
     "output_type": "execute_result"
    }
   ],
   "source": [
    "artifacts.describe()"
   ]
  },
  {
   "cell_type": "code",
   "execution_count": 27,
   "metadata": {},
   "outputs": [
    {
     "data": {
      "text/html": [
       "<div>\n",
       "<style scoped>\n",
       "    .dataframe tbody tr th:only-of-type {\n",
       "        vertical-align: middle;\n",
       "    }\n",
       "\n",
       "    .dataframe tbody tr th {\n",
       "        vertical-align: top;\n",
       "    }\n",
       "\n",
       "    .dataframe thead th {\n",
       "        text-align: right;\n",
       "    }\n",
       "</style>\n",
       "<table border=\"1\" class=\"dataframe\">\n",
       "  <thead>\n",
       "    <tr style=\"text-align: right;\">\n",
       "      <th></th>\n",
       "      <th>age</th>\n",
       "      <th>Years</th>\n",
       "    </tr>\n",
       "  </thead>\n",
       "  <tbody>\n",
       "    <tr>\n",
       "      <th>count</th>\n",
       "      <td>1680.000000</td>\n",
       "      <td>1680.000000</td>\n",
       "    </tr>\n",
       "    <tr>\n",
       "      <th>mean</th>\n",
       "      <td>1398.369643</td>\n",
       "      <td>3.292262</td>\n",
       "    </tr>\n",
       "    <tr>\n",
       "      <th>std</th>\n",
       "      <td>263.351921</td>\n",
       "      <td>0.747240</td>\n",
       "    </tr>\n",
       "    <tr>\n",
       "      <th>min</th>\n",
       "      <td>914.000000</td>\n",
       "      <td>2.000000</td>\n",
       "    </tr>\n",
       "    <tr>\n",
       "      <th>25%</th>\n",
       "      <td>1166.000000</td>\n",
       "      <td>3.000000</td>\n",
       "    </tr>\n",
       "    <tr>\n",
       "      <th>50%</th>\n",
       "      <td>1406.000000</td>\n",
       "      <td>3.000000</td>\n",
       "    </tr>\n",
       "    <tr>\n",
       "      <th>75%</th>\n",
       "      <td>1621.250000</td>\n",
       "      <td>4.000000</td>\n",
       "    </tr>\n",
       "    <tr>\n",
       "      <th>max</th>\n",
       "      <td>2094.000000</td>\n",
       "      <td>5.000000</td>\n",
       "    </tr>\n",
       "  </tbody>\n",
       "</table>\n",
       "</div>"
      ],
      "text/plain": [
       "               age        Years\n",
       "count  1680.000000  1680.000000\n",
       "mean   1398.369643     3.292262\n",
       "std     263.351921     0.747240\n",
       "min     914.000000     2.000000\n",
       "25%    1166.000000     3.000000\n",
       "50%    1406.000000     3.000000\n",
       "75%    1621.250000     4.000000\n",
       "max    2094.000000     5.000000"
      ]
     },
     "execution_count": 27,
     "metadata": {},
     "output_type": "execute_result"
    }
   ],
   "source": [
    "scans.describe()"
   ]
  },
  {
   "cell_type": "markdown",
   "metadata": {},
   "source": [
    "## Check on the amount of artifacts and scans from the dataset"
   ]
  },
  {
   "cell_type": "code",
   "execution_count": 28,
   "metadata": {},
   "outputs": [
    {
     "data": {
      "text/plain": [
       "42298"
      ]
     },
     "execution_count": 28,
     "metadata": {},
     "output_type": "execute_result"
    }
   ],
   "source": [
    "# Takes 11min\n",
    "dataset = glob2.glob(str(DATASET_PATH / 'qrcode/**/*.pcd'))\n",
    "len(dataset)"
   ]
  },
  {
   "cell_type": "code",
   "execution_count": 29,
   "metadata": {},
   "outputs": [
    {
     "name": "stdout",
     "output_type": "stream",
     "text": [
      "Total no. of pointclouds in csv: 42298\n",
      "Total no. of pointclouds in dataset: 42298\n"
     ]
    }
   ],
   "source": [
    "print(\"Total no. of pointclouds in csv:\", len(artifacts))\n",
    "print(\"Total no. of pointclouds in dataset:\", len(dataset))"
   ]
  },
  {
   "cell_type": "code",
   "execution_count": 30,
   "metadata": {},
   "outputs": [],
   "source": [
    "## extracting the qrcodes\n",
    "qrcodes_data = []\n",
    "for path in dataset:\n",
    "    data =path.split('/')\n",
    "    qrcodes_data.append(data[4])\n",
    "qrc_dataframe = pd.DataFrame(qrcodes_data, columns=['qrcodes'])"
   ]
  },
  {
   "cell_type": "code",
   "execution_count": 31,
   "metadata": {},
   "outputs": [
    {
     "name": "stdout",
     "output_type": "stream",
     "text": [
      "Total no. of scans in dataset: 1\n",
      "Total no. of scans in csv: 1680\n"
     ]
    }
   ],
   "source": [
    "print(\"Total no. of scans in dataset:\", len(qrc_dataframe['qrcodes'].unique()))\n",
    "print(\"Total no. of scans in csv:\", len(scans))      "
   ]
  }
 ],
 "metadata": {
  "kernel_info": {
   "name": "cgm_qa_pipeline"
  },
  "kernelspec": {
   "display_name": "CGM_QA_Pipeline",
   "language": "python",
   "name": "cgm_qa_pipeline"
  },
  "language_info": {
   "codemirror_mode": {
    "name": "ipython",
    "version": 3
   },
   "file_extension": ".py",
   "mimetype": "text/x-python",
   "name": "python",
   "nbconvert_exporter": "python",
   "pygments_lexer": "ipython3",
   "version": "3.7.10"
  },
  "microsoft": {
   "host": {
    "AzureML": {
     "notebookHasBeenCompleted": true
    }
   }
  },
  "nteract": {
   "version": "nteract-front-end@1.0.0"
  }
 },
 "nbformat": 4,
 "nbformat_minor": 4
}
