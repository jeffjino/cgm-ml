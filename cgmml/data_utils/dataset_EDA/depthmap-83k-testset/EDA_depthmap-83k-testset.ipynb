{
 "cells": [
  {
   "cell_type": "code",
   "execution_count": 1,
   "metadata": {
    "gather": {
     "logged": 1630418879796
    }
   },
   "outputs": [],
   "source": [
    "%reload_ext autoreload\n",
    "%autoreload 2\n",
    "%matplotlib inline\n",
    "\n",
    "import pandas as pd\n",
    "from pathlib import Path\n",
    "import numpy as np\n",
    "import sys\n",
    "import matplotlib.pyplot as plt\n",
    "import pickle\n",
    "from tqdm import tqdm\n",
    "\n",
    "sys.path.append(str(Path(os.getcwd()).parent))\n",
    "from data_utilities import (\n",
    "    find_outliers, convert_age_from_days_to_years, draw_age_distribution, calculate_code_age_distribution)"
   ]
  },
  {
   "cell_type": "markdown",
   "metadata": {},
   "source": [
    "### Total no. of artifacts in dataset"
   ]
  },
  {
   "cell_type": "code",
   "execution_count": 2,
   "metadata": {
    "gather": {
     "logged": 1630418881744
    }
   },
   "outputs": [],
   "source": [
    "DATASET_NAME = 'dataset-depthmap-Test-2021-09-23-06-51-01'\n",
    "DATASET_PATH = Path(f'/mnt/datasets/{DATASET_NAME}')"
   ]
  },
  {
   "cell_type": "code",
   "execution_count": 3,
   "metadata": {
    "gather": {
     "logged": 1630418993930
    },
    "jupyter": {
     "outputs_hidden": false,
     "source_hidden": false
    },
    "nteract": {
     "transient": {
      "deleting": false
     }
    }
   },
   "outputs": [
    {
     "name": "stdout",
     "output_type": "stream",
     "text": [
      "/mnt/datasets/dataset-depthmap-Test-2021-09-23-06-51-01/scans/a5a13f20-0d22-11ec-985b-afa08904acb4/100/pc_a5c5de20-0d22-11ec-985b-d77b74c8d105_2021-09-04-01-51-37-259763_100_1.0.p\r\n"
     ]
    }
   ],
   "source": [
    "SAMPLE_PICKLE_PATH = 'scans/a5a13f20-0d22-11ec-985b-afa08904acb4/100/pc_a5c5de20-0d22-11ec-985b-d77b74c8d105_2021-09-04-01-51-37-259763_100_1.0.p'\n",
    "!ls /mnt/datasets/{DATASET_NAME}/{SAMPLE_PICKLE_PATH}"
   ]
  },
  {
   "cell_type": "code",
   "execution_count": null,
   "metadata": {
    "jupyter": {
     "outputs_hidden": false,
     "source_hidden": false
    },
    "nteract": {
     "transient": {
      "deleting": false
     }
    }
   },
   "outputs": [],
   "source": [
    "!du /mnt/datasets/{DATASET_NAME} -sh --apparent-size"
   ]
  },
  {
   "cell_type": "code",
   "execution_count": 5,
   "metadata": {
    "gather": {
     "logged": 1630421194007
    },
    "jupyter": {
     "outputs_hidden": false,
     "source_hidden": false
    },
    "nteract": {
     "transient": {
      "deleting": false
     }
    }
   },
   "outputs": [
    {
     "name": "stderr",
     "output_type": "stream",
     "text": [
      "84918it [43:44, 32.35it/s]\n"
     ]
    }
   ],
   "source": [
    "# Check resolution of depthmap\n",
    "for fpath_pickle in tqdm(DATASET_PATH.glob('**/*.p')):\n",
    "    depthmap, targets = pickle.load(open(fpath_pickle, \"rb\"))\n",
    "    assert depthmap.shape == (240, 180, 1), fpath_pickle"
   ]
  },
  {
   "cell_type": "code",
   "execution_count": 4,
   "metadata": {
    "gather": {
     "logged": 1630419000724
    }
   },
   "outputs": [
    {
     "data": {
      "image/png": "[encoded data removed]",
      "text/plain": [
       "<Figure size 432x288 with 1 Axes>"
      ]
     },
     "metadata": {
      "needs_background": "light"
     },
     "output_type": "display_data"
    }
   ],
   "source": [
    "paths  = DATASET_PATH / SAMPLE_PICKLE_PATH\n",
    "depthmap, targets = pickle.load(open(paths, \"rb\"))\n",
    "_ = plt.imshow(np.squeeze(depthmap), cmap='gray')\n",
    "plt.show()"
   ]
  },
  {
   "cell_type": "code",
   "execution_count": 5,
   "metadata": {
    "gather": {
     "logged": 1630419005200
    }
   },
   "outputs": [
    {
     "name": "stdout",
     "output_type": "stream",
     "text": [
      "targets:  {'file_path': '1630720297241/5303e5d7-ab15-4844-be4f-882d803fc958', 'timestamp': '2021-09-04-01-51-37-259763', 'scan_id': 'a5c5de20-0d22-11ec-985b-d77b74c8d105', 'scan_step': 100, 'scan_version': 'v0.8', 'height': 83.9, 'weight': 11.0, 'muac': 13.4, 'order_number': 1.0, 'format': 'depth', 'device_model': 'HUAWEI VOG-L29', 'person_id': 'a5a13f20-0d22-11ec-985b-afa08904acb4', 'age': 1053, 'sex': 'female', 'device_pose': [-0.31908831434969853, -0.9477050540292992, 0.006146398359303739, 0.0, -0.025789361321295275, 0.015165826872019585, 0.9995523530750792, 0.0, -0.9473740319895345, 0.318786963758889, -0.02927994619669133, 0.0, -0.012341336, 0.02795095, 0.024345726, 1.0], 'raw_header': '240x180_0.001_7_-0.41684103_0.5838523_0.56450033_-0.40828836_0.012341336_-0.02795095_-0.024345726', 'angle': -18.589581452777992}\n",
      "depthmap.shape:  (240, 180, 1)\n"
     ]
    }
   ],
   "source": [
    "print(\"targets: \", targets)\n",
    "print(\"depthmap.shape: \", depthmap.shape)"
   ]
  },
  {
   "cell_type": "code",
   "execution_count": 40,
   "metadata": {
    "jupyter": {
     "outputs_hidden": false,
     "source_hidden": false
    },
    "nteract": {
     "transient": {
      "deleting": false
     }
    }
   },
   "outputs": [
    {
     "name": "stdout",
     "output_type": "stream",
     "text": [
      "file_path,timestamp,scan_id,scan_step,scan_version,height,weight,muac,order_number,format,device_model,person_id,age,sex,Years\r\n",
      "1630058467475/6d427c2d-baa7-46f3-9273-9271d5e4de06,2021-08-27-10-01-07-477684,bcfbb021-071d-11ec-abef-ab4c22b77423,201,v0.9,87.1,11.75,14.2,1.0,depth,HUAWEI VOG-L29,bcf8a2e0-071d-11ec-abef-9ff1a2ab0682,700,male,1\r\n",
      "1630058467589/cc80b854-003e-4e42-8bbb-8a014ddbf9a0,2021-08-27-10-01-07-602615,bcfbb021-071d-11ec-abef-ab4c22b77423,201,v0.9,87.1,11.75,14.2,2.0,depth,HUAWEI VOG-L29,bcf8a2e0-071d-11ec-abef-9ff1a2ab0682,700,male,1\r\n",
      "1630058467753/8839333b-5f1c-43b3-9e07-43ec43d8485b,2021-08-27-10-01-07-758936,bcfbb021-071d-11ec-abef-ab4c22b77423,201,v0.9,87.1,11.75,14.2,3.0,depth,HUAWEI VOG-L29,bcf8a2e0-071d-11ec-abef-9ff1a2ab0682,700,male,1\r\n",
      "1630058467877/8741b519-af45-4fa8-9f81-c6b98d9fadf6,2021-08-27-10-01-07-883934,bcfbb021-071d-11ec-abef-ab4c22b77423,201,v0.9,87.1,11.75,14.2,4.0,depth,HUAWEI VOG-L29,bcf8a2e0-071d-11ec-abef-9ff1a2ab0682,700,male,1\r\n",
      "1630058468009/2e1fc988-7954-4876-987a-3b459f8320cd,2021-08-27-10-01-08-024562,bcfbb021-071d-11ec-abef-ab4c22b77423,201,v0.9,87.1,11.75,14.2,5.0,depth,HUAWEI VOG-L29,bcf8a2e0-071d-11ec-abef-9ff1a2ab0682,700,male,1\r\n",
      "1630058468159/bbead85e-8c8e-4b17-a8d4-6c0713001ab3,2021-08-27-10-01-08-165162,bcfbb021-071d-11ec-abef-ab4c22b77423,201,v0.9,87.1,11.75,14.2,6.0,depth,HUAWEI VOG-L29,bcf8a2e0-071d-11ec-abef-9ff1a2ab0682,700,male,1\r\n",
      "1630058468287/31fac741-59b5-4c33-aafe-3b9bf62e7bac,2021-08-27-10-01-08-290124,bcfbb021-071d-11ec-abef-ab4c22b77423,201,v0.9,87.1,11.75,14.2,7.0,depth,HUAWEI VOG-L29,bcf8a2e0-071d-11ec-abef-9ff1a2ab0682,700,male,1\r\n",
      "1630058468480/0f876852-f186-423a-853b-5a9b130aca57,2021-08-27-10-01-08-493264,bcfbb021-071d-11ec-abef-ab4c22b77423,201,v0.9,87.1,11.75,14.2,8.0,depth,HUAWEI VOG-L29,bcf8a2e0-071d-11ec-abef-9ff1a2ab0682,700,male,1\r\n",
      "1630058468618/83cce04a-d7a0-43b7-83ed-a3ba0a8ec026,2021-08-27-10-01-08-618321,bcfbb021-071d-11ec-abef-ab4c22b77423,201,v0.9,87.1,11.75,14.2,9.0,depth,HUAWEI VOG-L29,bcf8a2e0-071d-11ec-abef-9ff1a2ab0682,700,male,1\r\n"
     ]
    }
   ],
   "source": [
    "!head /mnt/datasets/{DATASET_NAME}/labels.csv"
   ]
  },
  {
   "cell_type": "code",
   "execution_count": 112,
   "metadata": {
    "gather": {
     "logged": 1630419009982
    }
   },
   "outputs": [
    {
     "name": "stdout",
     "output_type": "stream",
     "text": [
      "Total no. of artifacts: 83996\n"
     ]
    },
    {
     "data": {
      "text/html": [
       "<div>\n",
       "<style scoped>\n",
       "    .dataframe tbody tr th:only-of-type {\n",
       "        vertical-align: middle;\n",
       "    }\n",
       "\n",
       "    .dataframe tbody tr th {\n",
       "        vertical-align: top;\n",
       "    }\n",
       "\n",
       "    .dataframe thead th {\n",
       "        text-align: right;\n",
       "    }\n",
       "</style>\n",
       "<table border=\"1\" class=\"dataframe\">\n",
       "  <thead>\n",
       "    <tr style=\"text-align: right;\">\n",
       "      <th></th>\n",
       "      <th>file_path</th>\n",
       "      <th>timestamp</th>\n",
       "      <th>scan_id</th>\n",
       "      <th>scan_step</th>\n",
       "      <th>scan_version</th>\n",
       "      <th>height</th>\n",
       "      <th>weight</th>\n",
       "      <th>muac</th>\n",
       "      <th>order_number</th>\n",
       "      <th>format</th>\n",
       "      <th>device_model</th>\n",
       "      <th>person_id</th>\n",
       "      <th>age</th>\n",
       "      <th>sex</th>\n",
       "      <th>Years</th>\n",
       "    </tr>\n",
       "  </thead>\n",
       "  <tbody>\n",
       "    <tr>\n",
       "      <th>0</th>\n",
       "      <td>1630058467475/6d427c2d-baa7-46f3-9273-9271d5e4...</td>\n",
       "      <td>2021-08-27-10-01-07-477684</td>\n",
       "      <td>bcfbb021-071d-11ec-abef-ab4c22b77423</td>\n",
       "      <td>201</td>\n",
       "      <td>v0.9</td>\n",
       "      <td>87.1</td>\n",
       "      <td>11.75</td>\n",
       "      <td>14.2</td>\n",
       "      <td>1.0</td>\n",
       "      <td>depth</td>\n",
       "      <td>HUAWEI VOG-L29</td>\n",
       "      <td>bcf8a2e0-071d-11ec-abef-9ff1a2ab0682</td>\n",
       "      <td>700</td>\n",
       "      <td>male</td>\n",
       "      <td>1</td>\n",
       "    </tr>\n",
       "    <tr>\n",
       "      <th>1</th>\n",
       "      <td>1630058467589/cc80b854-003e-4e42-8bbb-8a014ddb...</td>\n",
       "      <td>2021-08-27-10-01-07-602615</td>\n",
       "      <td>bcfbb021-071d-11ec-abef-ab4c22b77423</td>\n",
       "      <td>201</td>\n",
       "      <td>v0.9</td>\n",
       "      <td>87.1</td>\n",
       "      <td>11.75</td>\n",
       "      <td>14.2</td>\n",
       "      <td>2.0</td>\n",
       "      <td>depth</td>\n",
       "      <td>HUAWEI VOG-L29</td>\n",
       "      <td>bcf8a2e0-071d-11ec-abef-9ff1a2ab0682</td>\n",
       "      <td>700</td>\n",
       "      <td>male</td>\n",
       "      <td>1</td>\n",
       "    </tr>\n",
       "    <tr>\n",
       "      <th>2</th>\n",
       "      <td>1630058467753/8839333b-5f1c-43b3-9e07-43ec43d8...</td>\n",
       "      <td>2021-08-27-10-01-07-758936</td>\n",
       "      <td>bcfbb021-071d-11ec-abef-ab4c22b77423</td>\n",
       "      <td>201</td>\n",
       "      <td>v0.9</td>\n",
       "      <td>87.1</td>\n",
       "      <td>11.75</td>\n",
       "      <td>14.2</td>\n",
       "      <td>3.0</td>\n",
       "      <td>depth</td>\n",
       "      <td>HUAWEI VOG-L29</td>\n",
       "      <td>bcf8a2e0-071d-11ec-abef-9ff1a2ab0682</td>\n",
       "      <td>700</td>\n",
       "      <td>male</td>\n",
       "      <td>1</td>\n",
       "    </tr>\n",
       "    <tr>\n",
       "      <th>3</th>\n",
       "      <td>1630058467877/8741b519-af45-4fa8-9f81-c6b98d9f...</td>\n",
       "      <td>2021-08-27-10-01-07-883934</td>\n",
       "      <td>bcfbb021-071d-11ec-abef-ab4c22b77423</td>\n",
       "      <td>201</td>\n",
       "      <td>v0.9</td>\n",
       "      <td>87.1</td>\n",
       "      <td>11.75</td>\n",
       "      <td>14.2</td>\n",
       "      <td>4.0</td>\n",
       "      <td>depth</td>\n",
       "      <td>HUAWEI VOG-L29</td>\n",
       "      <td>bcf8a2e0-071d-11ec-abef-9ff1a2ab0682</td>\n",
       "      <td>700</td>\n",
       "      <td>male</td>\n",
       "      <td>1</td>\n",
       "    </tr>\n",
       "    <tr>\n",
       "      <th>4</th>\n",
       "      <td>1630058468009/2e1fc988-7954-4876-987a-3b459f83...</td>\n",
       "      <td>2021-08-27-10-01-08-024562</td>\n",
       "      <td>bcfbb021-071d-11ec-abef-ab4c22b77423</td>\n",
       "      <td>201</td>\n",
       "      <td>v0.9</td>\n",
       "      <td>87.1</td>\n",
       "      <td>11.75</td>\n",
       "      <td>14.2</td>\n",
       "      <td>5.0</td>\n",
       "      <td>depth</td>\n",
       "      <td>HUAWEI VOG-L29</td>\n",
       "      <td>bcf8a2e0-071d-11ec-abef-9ff1a2ab0682</td>\n",
       "      <td>700</td>\n",
       "      <td>male</td>\n",
       "      <td>1</td>\n",
       "    </tr>\n",
       "  </tbody>\n",
       "</table>\n",
       "</div>"
      ],
      "text/plain": [
       "                                           file_path  \\\n",
       "0  1630058467475/6d427c2d-baa7-46f3-9273-9271d5e4...   \n",
       "1  1630058467589/cc80b854-003e-4e42-8bbb-8a014ddb...   \n",
       "2  1630058467753/8839333b-5f1c-43b3-9e07-43ec43d8...   \n",
       "3  1630058467877/8741b519-af45-4fa8-9f81-c6b98d9f...   \n",
       "4  1630058468009/2e1fc988-7954-4876-987a-3b459f83...   \n",
       "\n",
       "                    timestamp                               scan_id  \\\n",
       "0  2021-08-27-10-01-07-477684  bcfbb021-071d-11ec-abef-ab4c22b77423   \n",
       "1  2021-08-27-10-01-07-602615  bcfbb021-071d-11ec-abef-ab4c22b77423   \n",
       "2  2021-08-27-10-01-07-758936  bcfbb021-071d-11ec-abef-ab4c22b77423   \n",
       "3  2021-08-27-10-01-07-883934  bcfbb021-071d-11ec-abef-ab4c22b77423   \n",
       "4  2021-08-27-10-01-08-024562  bcfbb021-071d-11ec-abef-ab4c22b77423   \n",
       "\n",
       "   scan_step scan_version  height  weight  muac  order_number format  \\\n",
       "0        201         v0.9    87.1   11.75  14.2           1.0  depth   \n",
       "1        201         v0.9    87.1   11.75  14.2           2.0  depth   \n",
       "2        201         v0.9    87.1   11.75  14.2           3.0  depth   \n",
       "3        201         v0.9    87.1   11.75  14.2           4.0  depth   \n",
       "4        201         v0.9    87.1   11.75  14.2           5.0  depth   \n",
       "\n",
       "     device_model                             person_id  age   sex  Years  \n",
       "0  HUAWEI VOG-L29  bcf8a2e0-071d-11ec-abef-9ff1a2ab0682  700  male      1  \n",
       "1  HUAWEI VOG-L29  bcf8a2e0-071d-11ec-abef-9ff1a2ab0682  700  male      1  \n",
       "2  HUAWEI VOG-L29  bcf8a2e0-071d-11ec-abef-9ff1a2ab0682  700  male      1  \n",
       "3  HUAWEI VOG-L29  bcf8a2e0-071d-11ec-abef-9ff1a2ab0682  700  male      1  \n",
       "4  HUAWEI VOG-L29  bcf8a2e0-071d-11ec-abef-9ff1a2ab0682  700  male      1  "
      ]
     },
     "execution_count": 112,
     "metadata": {},
     "output_type": "execute_result"
    }
   ],
   "source": [
    "artifacts = pd.read_csv(DATASET_PATH / 'labels.csv')\n",
    "print(\"Total no. of artifacts:\", len(artifacts))\n",
    "artifacts.head()"
   ]
  },
  {
   "cell_type": "code",
   "execution_count": 113,
   "metadata": {
    "gather": {
     "logged": 1630419012546
    },
    "jupyter": {
     "source_hidden": false
    }
   },
   "outputs": [
    {
     "data": {
      "text/html": [
       "<div>\n",
       "<style scoped>\n",
       "    .dataframe tbody tr th:only-of-type {\n",
       "        vertical-align: middle;\n",
       "    }\n",
       "\n",
       "    .dataframe tbody tr th {\n",
       "        vertical-align: top;\n",
       "    }\n",
       "\n",
       "    .dataframe thead th {\n",
       "        text-align: right;\n",
       "    }\n",
       "</style>\n",
       "<table border=\"1\" class=\"dataframe\">\n",
       "  <thead>\n",
       "    <tr style=\"text-align: right;\">\n",
       "      <th></th>\n",
       "      <th>file_path</th>\n",
       "      <th>timestamp</th>\n",
       "      <th>scan_id</th>\n",
       "      <th>scan_step</th>\n",
       "      <th>scan_version</th>\n",
       "      <th>height</th>\n",
       "      <th>weight</th>\n",
       "      <th>muac</th>\n",
       "      <th>order_number</th>\n",
       "      <th>format</th>\n",
       "      <th>device_model</th>\n",
       "      <th>person_id</th>\n",
       "      <th>age</th>\n",
       "      <th>sex</th>\n",
       "      <th>Years</th>\n",
       "    </tr>\n",
       "  </thead>\n",
       "  <tbody>\n",
       "    <tr>\n",
       "      <th>0</th>\n",
       "      <td>1630058467475/6d427c2d-baa7-46f3-9273-9271d5e4...</td>\n",
       "      <td>2021-08-27-10-01-07-477684</td>\n",
       "      <td>bcfbb021-071d-11ec-abef-ab4c22b77423</td>\n",
       "      <td>201</td>\n",
       "      <td>v0.9</td>\n",
       "      <td>87.1</td>\n",
       "      <td>11.75</td>\n",
       "      <td>14.2</td>\n",
       "      <td>1.0</td>\n",
       "      <td>depth</td>\n",
       "      <td>HUAWEI VOG-L29</td>\n",
       "      <td>bcf8a2e0-071d-11ec-abef-9ff1a2ab0682</td>\n",
       "      <td>700</td>\n",
       "      <td>male</td>\n",
       "      <td>1</td>\n",
       "    </tr>\n",
       "    <tr>\n",
       "      <th>1</th>\n",
       "      <td>1630058467589/cc80b854-003e-4e42-8bbb-8a014ddb...</td>\n",
       "      <td>2021-08-27-10-01-07-602615</td>\n",
       "      <td>bcfbb021-071d-11ec-abef-ab4c22b77423</td>\n",
       "      <td>201</td>\n",
       "      <td>v0.9</td>\n",
       "      <td>87.1</td>\n",
       "      <td>11.75</td>\n",
       "      <td>14.2</td>\n",
       "      <td>2.0</td>\n",
       "      <td>depth</td>\n",
       "      <td>HUAWEI VOG-L29</td>\n",
       "      <td>bcf8a2e0-071d-11ec-abef-9ff1a2ab0682</td>\n",
       "      <td>700</td>\n",
       "      <td>male</td>\n",
       "      <td>1</td>\n",
       "    </tr>\n",
       "    <tr>\n",
       "      <th>2</th>\n",
       "      <td>1630058467753/8839333b-5f1c-43b3-9e07-43ec43d8...</td>\n",
       "      <td>2021-08-27-10-01-07-758936</td>\n",
       "      <td>bcfbb021-071d-11ec-abef-ab4c22b77423</td>\n",
       "      <td>201</td>\n",
       "      <td>v0.9</td>\n",
       "      <td>87.1</td>\n",
       "      <td>11.75</td>\n",
       "      <td>14.2</td>\n",
       "      <td>3.0</td>\n",
       "      <td>depth</td>\n",
       "      <td>HUAWEI VOG-L29</td>\n",
       "      <td>bcf8a2e0-071d-11ec-abef-9ff1a2ab0682</td>\n",
       "      <td>700</td>\n",
       "      <td>male</td>\n",
       "      <td>1</td>\n",
       "    </tr>\n",
       "    <tr>\n",
       "      <th>3</th>\n",
       "      <td>1630058467877/8741b519-af45-4fa8-9f81-c6b98d9f...</td>\n",
       "      <td>2021-08-27-10-01-07-883934</td>\n",
       "      <td>bcfbb021-071d-11ec-abef-ab4c22b77423</td>\n",
       "      <td>201</td>\n",
       "      <td>v0.9</td>\n",
       "      <td>87.1</td>\n",
       "      <td>11.75</td>\n",
       "      <td>14.2</td>\n",
       "      <td>4.0</td>\n",
       "      <td>depth</td>\n",
       "      <td>HUAWEI VOG-L29</td>\n",
       "      <td>bcf8a2e0-071d-11ec-abef-9ff1a2ab0682</td>\n",
       "      <td>700</td>\n",
       "      <td>male</td>\n",
       "      <td>1</td>\n",
       "    </tr>\n",
       "    <tr>\n",
       "      <th>4</th>\n",
       "      <td>1630058468009/2e1fc988-7954-4876-987a-3b459f83...</td>\n",
       "      <td>2021-08-27-10-01-08-024562</td>\n",
       "      <td>bcfbb021-071d-11ec-abef-ab4c22b77423</td>\n",
       "      <td>201</td>\n",
       "      <td>v0.9</td>\n",
       "      <td>87.1</td>\n",
       "      <td>11.75</td>\n",
       "      <td>14.2</td>\n",
       "      <td>5.0</td>\n",
       "      <td>depth</td>\n",
       "      <td>HUAWEI VOG-L29</td>\n",
       "      <td>bcf8a2e0-071d-11ec-abef-9ff1a2ab0682</td>\n",
       "      <td>700</td>\n",
       "      <td>male</td>\n",
       "      <td>1</td>\n",
       "    </tr>\n",
       "  </tbody>\n",
       "</table>\n",
       "</div>"
      ],
      "text/plain": [
       "                                           file_path  \\\n",
       "0  1630058467475/6d427c2d-baa7-46f3-9273-9271d5e4...   \n",
       "1  1630058467589/cc80b854-003e-4e42-8bbb-8a014ddb...   \n",
       "2  1630058467753/8839333b-5f1c-43b3-9e07-43ec43d8...   \n",
       "3  1630058467877/8741b519-af45-4fa8-9f81-c6b98d9f...   \n",
       "4  1630058468009/2e1fc988-7954-4876-987a-3b459f83...   \n",
       "\n",
       "                    timestamp                               scan_id  \\\n",
       "0  2021-08-27-10-01-07-477684  bcfbb021-071d-11ec-abef-ab4c22b77423   \n",
       "1  2021-08-27-10-01-07-602615  bcfbb021-071d-11ec-abef-ab4c22b77423   \n",
       "2  2021-08-27-10-01-07-758936  bcfbb021-071d-11ec-abef-ab4c22b77423   \n",
       "3  2021-08-27-10-01-07-883934  bcfbb021-071d-11ec-abef-ab4c22b77423   \n",
       "4  2021-08-27-10-01-08-024562  bcfbb021-071d-11ec-abef-ab4c22b77423   \n",
       "\n",
       "   scan_step scan_version  height  weight  muac  order_number format  \\\n",
       "0        201         v0.9    87.1   11.75  14.2           1.0  depth   \n",
       "1        201         v0.9    87.1   11.75  14.2           2.0  depth   \n",
       "2        201         v0.9    87.1   11.75  14.2           3.0  depth   \n",
       "3        201         v0.9    87.1   11.75  14.2           4.0  depth   \n",
       "4        201         v0.9    87.1   11.75  14.2           5.0  depth   \n",
       "\n",
       "     device_model                             person_id  age   sex  Years  \n",
       "0  HUAWEI VOG-L29  bcf8a2e0-071d-11ec-abef-9ff1a2ab0682  700  male      1  \n",
       "1  HUAWEI VOG-L29  bcf8a2e0-071d-11ec-abef-9ff1a2ab0682  700  male      1  \n",
       "2  HUAWEI VOG-L29  bcf8a2e0-071d-11ec-abef-9ff1a2ab0682  700  male      1  \n",
       "3  HUAWEI VOG-L29  bcf8a2e0-071d-11ec-abef-9ff1a2ab0682  700  male      1  \n",
       "4  HUAWEI VOG-L29  bcf8a2e0-071d-11ec-abef-9ff1a2ab0682  700  male      1  "
      ]
     },
     "execution_count": 113,
     "metadata": {},
     "output_type": "execute_result"
    }
   ],
   "source": [
    "#adding the Years column into dataframe\n",
    "artifacts['Years'] = artifacts.apply(convert_age_from_days_to_years, axis=1)\n",
    "artifacts.head()"
   ]
  },
  {
   "cell_type": "markdown",
   "metadata": {},
   "source": [
    "### Total no. of children in the dataset"
   ]
  },
  {
   "cell_type": "code",
   "execution_count": 114,
   "metadata": {
    "gather": {
     "logged": 1630419014926
    }
   },
   "outputs": [
    {
     "name": "stdout",
     "output_type": "stream",
     "text": [
      "Total no. of artifacts: 83996\n",
      "Total no. of unique scan ids: 5674\n",
      "Total no. of unique person ids: 1868\n"
     ]
    }
   ],
   "source": [
    "print(\"Total no. of artifacts:\", len(artifacts))\n",
    "unique_scan_ids = artifacts.drop_duplicates(subset='scan_id', keep='first')\n",
    "print(\"Total no. of unique scan ids:\", len(unique_scan_ids))\n",
    "unique_person_ids = artifacts.drop_duplicates(subset='person_id', keep='first')\n",
    "print(\"Total no. of unique person ids:\", len(unique_person_ids))"
   ]
  },
  {
   "cell_type": "code",
   "execution_count": 115,
   "metadata": {
    "gather": {
     "logged": 1630419017531
    },
    "jupyter": {
     "outputs_hidden": false,
     "source_hidden": false
    },
    "nteract": {
     "transient": {
      "deleting": false
     }
    }
   },
   "outputs": [
    {
     "name": "stdout",
     "output_type": "stream",
     "text": [
      "HUAWEI VOG-L29    83996\n",
      "Name: device_model, dtype: int64\n"
     ]
    },
    {
     "data": {
      "image/png": "[encoded data removed]",
      "text/plain": [
       "<Figure size 432x288 with 1 Axes>"
      ]
     },
     "metadata": {},
     "output_type": "display_data"
    }
   ],
   "source": [
    "print(artifacts['device_model'].value_counts())\n",
    "_ = artifacts['device_model'].value_counts().plot(kind='pie')"
   ]
  },
  {
   "cell_type": "code",
   "execution_count": 116,
   "metadata": {
    "gather": {
     "logged": 1630419019197
    },
    "jupyter": {
     "outputs_hidden": false,
     "source_hidden": false
    },
    "nteract": {
     "transient": {
      "deleting": false
     }
    }
   },
   "outputs": [
    {
     "name": "stdout",
     "output_type": "stream",
     "text": [
      "v0.8      77915\n",
      "v0.9       5861\n",
      "v1.0.2      220\n",
      "Name: scan_version, dtype: int64\n"
     ]
    },
    {
     "data": {
      "image/png": "[encoded data removed]",
      "text/plain": [
       "<Figure size 432x288 with 1 Axes>"
      ]
     },
     "metadata": {},
     "output_type": "display_data"
    }
   ],
   "source": [
    "print(artifacts['scan_version'].value_counts())\n",
    "_ = artifacts['scan_version'].value_counts().plot(kind='pie')"
   ]
  },
  {
   "cell_type": "code",
   "execution_count": 117,
   "metadata": {
    "gather": {
     "logged": 1630419020818
    },
    "jupyter": {
     "outputs_hidden": false,
     "source_hidden": false
    },
    "nteract": {
     "transient": {
      "deleting": false
     }
    }
   },
   "outputs": [
    {
     "name": "stdout",
     "output_type": "stream",
     "text": [
      "0    184\n",
      "1    387\n",
      "2    418\n",
      "3    415\n",
      "4    457\n",
      "5      7\n",
      "Name: Years, dtype: int64\n"
     ]
    },
    {
     "data": {
      "image/png": "[encoded data removed]",
      "text/plain": [
       "<Figure size 432x288 with 1 Axes>"
      ]
     },
     "metadata": {
      "needs_background": "light"
     },
     "output_type": "display_data"
    }
   ],
   "source": [
    "draw_age_distribution(unique_person_ids)"
   ]
  },
  {
   "cell_type": "code",
   "execution_count": 118,
   "metadata": {
    "gather": {
     "logged": 1630419022561
    }
   },
   "outputs": [
    {
     "name": "stdout",
     "output_type": "stream",
     "text": [
      "0     555\n",
      "1    1166\n",
      "2    1259\n",
      "3    1283\n",
      "4    1390\n",
      "5      21\n",
      "Name: Years, dtype: int64\n"
     ]
    },
    {
     "data": {
      "image/png": "[encoded data removed]",
      "text/plain": [
       "<Figure size 432x288 with 1 Axes>"
      ]
     },
     "metadata": {
      "needs_background": "light"
     },
     "output_type": "display_data"
    }
   ],
   "source": [
    "draw_age_distribution(unique_scan_ids)"
   ]
  },
  {
   "cell_type": "code",
   "execution_count": 119,
   "metadata": {
    "gather": {
     "logged": 1630419025949
    }
   },
   "outputs": [
    {
     "name": "stdout",
     "output_type": "stream",
     "text": [
      "101    37100\n",
      "102    12825\n",
      "100    12812\n",
      "201    12683\n",
      "202     4302\n",
      "200     4274\n",
      "Name: scan_step, dtype: int64\n"
     ]
    },
    {
     "data": {
      "image/png": "[encoded data removed]",
      "text/plain": [
       "<Figure size 432x288 with 1 Axes>"
      ]
     },
     "metadata": {},
     "output_type": "display_data"
    }
   ],
   "source": [
    "## keys for different scan type and their distribution in dataset\n",
    "\"- 100 - standing front scan\",\n",
    "\"- 101 - standing 360 scan\",\n",
    "\"- 102 - standing back scan\",\n",
    "\"- 200 - lying front scan\",\n",
    "\"- 201 - lying side scan\",\n",
    "\"- 202 - lying back scan\"\n",
    "print(artifacts['scan_step'].value_counts())\n",
    "_ = artifacts['scan_step'].value_counts().plot(kind='pie')"
   ]
  },
  {
   "cell_type": "code",
   "execution_count": 120,
   "metadata": {
    "gather": {
     "logged": 1630419026821
    }
   },
   "outputs": [
    {
     "name": "stderr",
     "output_type": "stream",
     "text": [
      "2021-09-24 07:57:17,186 - INFO - scan_step - /mnt/batch/tasks/shared/LS_root/mounts/clusters/pksingh/code/Users/pksingh/cgm-ml/cgmml/data_utils/dataset_EDA/data_utilities.py: line 52\n"
     ]
    },
    {
     "data": {
      "text/html": [
       "<div>\n",
       "<style scoped>\n",
       "    .dataframe tbody tr th:only-of-type {\n",
       "        vertical-align: middle;\n",
       "    }\n",
       "\n",
       "    .dataframe tbody tr th {\n",
       "        vertical-align: top;\n",
       "    }\n",
       "\n",
       "    .dataframe thead th {\n",
       "        text-align: right;\n",
       "    }\n",
       "</style>\n",
       "<table border=\"1\" class=\"dataframe\">\n",
       "  <thead>\n",
       "    <tr style=\"text-align: right;\">\n",
       "      <th></th>\n",
       "      <th>0</th>\n",
       "      <th>1</th>\n",
       "      <th>2</th>\n",
       "      <th>3</th>\n",
       "      <th>4</th>\n",
       "    </tr>\n",
       "    <tr>\n",
       "      <th>codes</th>\n",
       "      <th></th>\n",
       "      <th></th>\n",
       "      <th></th>\n",
       "      <th></th>\n",
       "      <th></th>\n",
       "    </tr>\n",
       "  </thead>\n",
       "  <tbody>\n",
       "    <tr>\n",
       "      <th>201</th>\n",
       "      <td>4728</td>\n",
       "      <td>7149</td>\n",
       "      <td>546</td>\n",
       "      <td>260</td>\n",
       "      <td>0</td>\n",
       "    </tr>\n",
       "    <tr>\n",
       "      <th>202</th>\n",
       "      <td>1602</td>\n",
       "      <td>2421</td>\n",
       "      <td>189</td>\n",
       "      <td>90</td>\n",
       "      <td>0</td>\n",
       "    </tr>\n",
       "    <tr>\n",
       "      <th>200</th>\n",
       "      <td>1596</td>\n",
       "      <td>2402</td>\n",
       "      <td>188</td>\n",
       "      <td>88</td>\n",
       "      <td>0</td>\n",
       "    </tr>\n",
       "    <tr>\n",
       "      <th>102</th>\n",
       "      <td>72</td>\n",
       "      <td>1107</td>\n",
       "      <td>3592</td>\n",
       "      <td>3815</td>\n",
       "      <td>4176</td>\n",
       "    </tr>\n",
       "    <tr>\n",
       "      <th>100</th>\n",
       "      <td>71</td>\n",
       "      <td>1123</td>\n",
       "      <td>3623</td>\n",
       "      <td>3751</td>\n",
       "      <td>4181</td>\n",
       "    </tr>\n",
       "    <tr>\n",
       "      <th>101</th>\n",
       "      <td>208</td>\n",
       "      <td>3120</td>\n",
       "      <td>10422</td>\n",
       "      <td>10998</td>\n",
       "      <td>12170</td>\n",
       "    </tr>\n",
       "  </tbody>\n",
       "</table>\n",
       "</div>"
      ],
      "text/plain": [
       "          0     1      2      3      4\n",
       "codes                                 \n",
       "201    4728  7149    546    260      0\n",
       "202    1602  2421    189     90      0\n",
       "200    1596  2402    188     88      0\n",
       "102      72  1107   3592   3815   4176\n",
       "100      71  1123   3623   3751   4181\n",
       "101     208  3120  10422  10998  12170"
      ]
     },
     "execution_count": 120,
     "metadata": {},
     "output_type": "execute_result"
    }
   ],
   "source": [
    "scan_type_colname = 'scan_step' # for other datasets this can be \"key\"\n",
    "calculate_code_age_distribution(artifacts, scan_type_colname)"
   ]
  },
  {
   "cell_type": "code",
   "execution_count": 121,
   "metadata": {
    "gather": {
     "logged": 1630419027765
    }
   },
   "outputs": [
    {
     "name": "stderr",
     "output_type": "stream",
     "text": [
      "2021-09-24 07:57:21,226 - INFO - scan_step - /mnt/batch/tasks/shared/LS_root/mounts/clusters/pksingh/code/Users/pksingh/cgm-ml/cgmml/data_utils/dataset_EDA/data_utilities.py: line 52\n"
     ]
    },
    {
     "data": {
      "text/html": [
       "<div>\n",
       "<style scoped>\n",
       "    .dataframe tbody tr th:only-of-type {\n",
       "        vertical-align: middle;\n",
       "    }\n",
       "\n",
       "    .dataframe tbody tr th {\n",
       "        vertical-align: top;\n",
       "    }\n",
       "\n",
       "    .dataframe thead th {\n",
       "        text-align: right;\n",
       "    }\n",
       "</style>\n",
       "<table border=\"1\" class=\"dataframe\">\n",
       "  <thead>\n",
       "    <tr style=\"text-align: right;\">\n",
       "      <th></th>\n",
       "      <th>0</th>\n",
       "      <th>1</th>\n",
       "      <th>2</th>\n",
       "      <th>3</th>\n",
       "      <th>4</th>\n",
       "    </tr>\n",
       "    <tr>\n",
       "      <th>codes</th>\n",
       "      <th></th>\n",
       "      <th></th>\n",
       "      <th></th>\n",
       "      <th></th>\n",
       "      <th></th>\n",
       "    </tr>\n",
       "  </thead>\n",
       "  <tbody>\n",
       "    <tr>\n",
       "      <th>201</th>\n",
       "      <td>176</td>\n",
       "      <td>265</td>\n",
       "      <td>21</td>\n",
       "      <td>10</td>\n",
       "      <td>0</td>\n",
       "    </tr>\n",
       "    <tr>\n",
       "      <th>202</th>\n",
       "      <td>177</td>\n",
       "      <td>267</td>\n",
       "      <td>21</td>\n",
       "      <td>10</td>\n",
       "      <td>0</td>\n",
       "    </tr>\n",
       "    <tr>\n",
       "      <th>200</th>\n",
       "      <td>178</td>\n",
       "      <td>268</td>\n",
       "      <td>21</td>\n",
       "      <td>10</td>\n",
       "      <td>0</td>\n",
       "    </tr>\n",
       "    <tr>\n",
       "      <th>102</th>\n",
       "      <td>8</td>\n",
       "      <td>122</td>\n",
       "      <td>399</td>\n",
       "      <td>418</td>\n",
       "      <td>463</td>\n",
       "    </tr>\n",
       "    <tr>\n",
       "      <th>100</th>\n",
       "      <td>8</td>\n",
       "      <td>124</td>\n",
       "      <td>400</td>\n",
       "      <td>418</td>\n",
       "      <td>464</td>\n",
       "    </tr>\n",
       "    <tr>\n",
       "      <th>101</th>\n",
       "      <td>8</td>\n",
       "      <td>120</td>\n",
       "      <td>397</td>\n",
       "      <td>417</td>\n",
       "      <td>463</td>\n",
       "    </tr>\n",
       "  </tbody>\n",
       "</table>\n",
       "</div>"
      ],
      "text/plain": [
       "         0    1    2    3    4\n",
       "codes                         \n",
       "201    176  265   21   10    0\n",
       "202    177  267   21   10    0\n",
       "200    178  268   21   10    0\n",
       "102      8  122  399  418  463\n",
       "100      8  124  400  418  464\n",
       "101      8  120  397  417  463"
      ]
     },
     "execution_count": 121,
     "metadata": {},
     "output_type": "execute_result"
    }
   ],
   "source": [
    "calculate_code_age_distribution(unique_scan_ids, scan_type_colname)"
   ]
  },
  {
   "cell_type": "markdown",
   "metadata": {},
   "source": [
    "### Distribution of height, weight and age against each other"
   ]
  },
  {
   "cell_type": "code",
   "execution_count": 122,
   "metadata": {
    "gather": {
     "logged": 1630419030657
    }
   },
   "outputs": [
    {
     "data": {
      "image/png": "[encoded data removed]",
      "text/plain": [
       "<Figure size 432x288 with 1 Axes>"
      ]
     },
     "metadata": {
      "needs_background": "light"
     },
     "output_type": "display_data"
    }
   ],
   "source": [
    "#distribution of height against age\n",
    "height_vs_age = unique_scan_ids.plot.scatter(x='height', y='age', c='red')\n"
   ]
  },
  {
   "cell_type": "code",
   "execution_count": 123,
   "metadata": {
    "gather": {
     "logged": 1630419035119
    }
   },
   "outputs": [
    {
     "data": {
      "image/png": "[encoded data removed]",
      "text/plain": [
       "<Figure size 432x288 with 1 Axes>"
      ]
     },
     "metadata": {
      "needs_background": "light"
     },
     "output_type": "display_data"
    }
   ],
   "source": [
    "#distribution of weight against age\n",
    "weight_vs_age = unique_scan_ids.plot.scatter(x='weight', y='age', c='red')"
   ]
  },
  {
   "cell_type": "code",
   "execution_count": 124,
   "metadata": {
    "gather": {
     "logged": 1630419037005
    }
   },
   "outputs": [
    {
     "data": {
      "image/png": "[encoded data removed]",
      "text/plain": [
       "<Figure size 432x288 with 1 Axes>"
      ]
     },
     "metadata": {
      "needs_background": "light"
     },
     "output_type": "display_data"
    }
   ],
   "source": [
    "## distribution of height against weight\n",
    "weight_vs_height = unique_scan_ids.plot.scatter(x='height', y='weight', c='red')"
   ]
  },
  {
   "cell_type": "markdown",
   "metadata": {},
   "source": [
    "## Analyze outliers: 1) age, 2) weight, 3) height, 4) pixel values"
   ]
  },
  {
   "cell_type": "code",
   "execution_count": 125,
   "metadata": {
    "gather": {
     "logged": 1630419039278
    }
   },
   "outputs": [
    {
     "data": {
      "text/html": [
       "<div>\n",
       "<style scoped>\n",
       "    .dataframe tbody tr th:only-of-type {\n",
       "        vertical-align: middle;\n",
       "    }\n",
       "\n",
       "    .dataframe tbody tr th {\n",
       "        vertical-align: top;\n",
       "    }\n",
       "\n",
       "    .dataframe thead th {\n",
       "        text-align: right;\n",
       "    }\n",
       "</style>\n",
       "<table border=\"1\" class=\"dataframe\">\n",
       "  <thead>\n",
       "    <tr style=\"text-align: right;\">\n",
       "      <th></th>\n",
       "      <th>scan_step</th>\n",
       "      <th>height</th>\n",
       "      <th>weight</th>\n",
       "      <th>muac</th>\n",
       "      <th>order_number</th>\n",
       "      <th>age</th>\n",
       "      <th>Years</th>\n",
       "    </tr>\n",
       "  </thead>\n",
       "  <tbody>\n",
       "    <tr>\n",
       "      <th>count</th>\n",
       "      <td>83996.000000</td>\n",
       "      <td>83996.000000</td>\n",
       "      <td>83996.000000</td>\n",
       "      <td>83996.000000</td>\n",
       "      <td>83996.000000</td>\n",
       "      <td>83996.000000</td>\n",
       "      <td>83996.000000</td>\n",
       "    </tr>\n",
       "    <tr>\n",
       "      <th>mean</th>\n",
       "      <td>126.310027</td>\n",
       "      <td>84.926718</td>\n",
       "      <td>10.730628</td>\n",
       "      <td>13.850599</td>\n",
       "      <td>10.487166</td>\n",
       "      <td>1039.378923</td>\n",
       "      <td>2.322682</td>\n",
       "    </tr>\n",
       "    <tr>\n",
       "      <th>std</th>\n",
       "      <td>43.483938</td>\n",
       "      <td>11.276285</td>\n",
       "      <td>2.554152</td>\n",
       "      <td>1.024268</td>\n",
       "      <td>9.057951</td>\n",
       "      <td>477.891191</td>\n",
       "      <td>1.316447</td>\n",
       "    </tr>\n",
       "    <tr>\n",
       "      <th>min</th>\n",
       "      <td>100.000000</td>\n",
       "      <td>57.100000</td>\n",
       "      <td>5.000000</td>\n",
       "      <td>10.600000</td>\n",
       "      <td>1.000000</td>\n",
       "      <td>184.000000</td>\n",
       "      <td>0.000000</td>\n",
       "    </tr>\n",
       "    <tr>\n",
       "      <th>25%</th>\n",
       "      <td>101.000000</td>\n",
       "      <td>76.200000</td>\n",
       "      <td>8.750000</td>\n",
       "      <td>13.200000</td>\n",
       "      <td>4.000000</td>\n",
       "      <td>634.000000</td>\n",
       "      <td>1.000000</td>\n",
       "    </tr>\n",
       "    <tr>\n",
       "      <th>50%</th>\n",
       "      <td>101.000000</td>\n",
       "      <td>85.300000</td>\n",
       "      <td>10.650000</td>\n",
       "      <td>13.700000</td>\n",
       "      <td>8.000000</td>\n",
       "      <td>1052.000000</td>\n",
       "      <td>2.000000</td>\n",
       "    </tr>\n",
       "    <tr>\n",
       "      <th>75%</th>\n",
       "      <td>200.000000</td>\n",
       "      <td>93.700000</td>\n",
       "      <td>12.500000</td>\n",
       "      <td>14.500000</td>\n",
       "      <td>16.000000</td>\n",
       "      <td>1457.000000</td>\n",
       "      <td>3.000000</td>\n",
       "    </tr>\n",
       "    <tr>\n",
       "      <th>max</th>\n",
       "      <td>202.000000</td>\n",
       "      <td>116.700000</td>\n",
       "      <td>18.650000</td>\n",
       "      <td>18.200000</td>\n",
       "      <td>145.000000</td>\n",
       "      <td>1825.000000</td>\n",
       "      <td>5.000000</td>\n",
       "    </tr>\n",
       "  </tbody>\n",
       "</table>\n",
       "</div>"
      ],
      "text/plain": [
       "          scan_step        height        weight          muac  order_number  \\\n",
       "count  83996.000000  83996.000000  83996.000000  83996.000000  83996.000000   \n",
       "mean     126.310027     84.926718     10.730628     13.850599     10.487166   \n",
       "std       43.483938     11.276285      2.554152      1.024268      9.057951   \n",
       "min      100.000000     57.100000      5.000000     10.600000      1.000000   \n",
       "25%      101.000000     76.200000      8.750000     13.200000      4.000000   \n",
       "50%      101.000000     85.300000     10.650000     13.700000      8.000000   \n",
       "75%      200.000000     93.700000     12.500000     14.500000     16.000000   \n",
       "max      202.000000    116.700000     18.650000     18.200000    145.000000   \n",
       "\n",
       "                age         Years  \n",
       "count  83996.000000  83996.000000  \n",
       "mean    1039.378923      2.322682  \n",
       "std      477.891191      1.316447  \n",
       "min      184.000000      0.000000  \n",
       "25%      634.000000      1.000000  \n",
       "50%     1052.000000      2.000000  \n",
       "75%     1457.000000      3.000000  \n",
       "max     1825.000000      5.000000  "
      ]
     },
     "execution_count": 125,
     "metadata": {},
     "output_type": "execute_result"
    }
   ],
   "source": [
    "artifacts.describe()"
   ]
  },
  {
   "cell_type": "code",
   "execution_count": 126,
   "metadata": {
    "gather": {
     "logged": 1630419044977
    }
   },
   "outputs": [
    {
     "data": {
      "text/html": [
       "<div>\n",
       "<style scoped>\n",
       "    .dataframe tbody tr th:only-of-type {\n",
       "        vertical-align: middle;\n",
       "    }\n",
       "\n",
       "    .dataframe tbody tr th {\n",
       "        vertical-align: top;\n",
       "    }\n",
       "\n",
       "    .dataframe thead th {\n",
       "        text-align: right;\n",
       "    }\n",
       "</style>\n",
       "<table border=\"1\" class=\"dataframe\">\n",
       "  <thead>\n",
       "    <tr style=\"text-align: right;\">\n",
       "      <th></th>\n",
       "      <th>scan_step</th>\n",
       "      <th>height</th>\n",
       "      <th>weight</th>\n",
       "      <th>muac</th>\n",
       "      <th>order_number</th>\n",
       "      <th>age</th>\n",
       "      <th>Years</th>\n",
       "    </tr>\n",
       "  </thead>\n",
       "  <tbody>\n",
       "    <tr>\n",
       "      <th>count</th>\n",
       "      <td>5674.000000</td>\n",
       "      <td>5674.000000</td>\n",
       "      <td>5674.000000</td>\n",
       "      <td>5674.000000</td>\n",
       "      <td>5674.000000</td>\n",
       "      <td>5674.000000</td>\n",
       "      <td>5674.000000</td>\n",
       "    </tr>\n",
       "    <tr>\n",
       "      <th>mean</th>\n",
       "      <td>126.095876</td>\n",
       "      <td>84.964188</td>\n",
       "      <td>10.744184</td>\n",
       "      <td>13.852432</td>\n",
       "      <td>1.023793</td>\n",
       "      <td>1040.863588</td>\n",
       "      <td>2.326049</td>\n",
       "    </tr>\n",
       "    <tr>\n",
       "      <th>std</th>\n",
       "      <td>43.368414</td>\n",
       "      <td>11.275271</td>\n",
       "      <td>2.554221</td>\n",
       "      <td>1.027240</td>\n",
       "      <td>0.466352</td>\n",
       "      <td>477.367798</td>\n",
       "      <td>1.315329</td>\n",
       "    </tr>\n",
       "    <tr>\n",
       "      <th>min</th>\n",
       "      <td>100.000000</td>\n",
       "      <td>57.100000</td>\n",
       "      <td>5.000000</td>\n",
       "      <td>10.600000</td>\n",
       "      <td>1.000000</td>\n",
       "      <td>184.000000</td>\n",
       "      <td>0.000000</td>\n",
       "    </tr>\n",
       "    <tr>\n",
       "      <th>25%</th>\n",
       "      <td>100.000000</td>\n",
       "      <td>76.200000</td>\n",
       "      <td>8.750000</td>\n",
       "      <td>13.200000</td>\n",
       "      <td>1.000000</td>\n",
       "      <td>638.000000</td>\n",
       "      <td>1.000000</td>\n",
       "    </tr>\n",
       "    <tr>\n",
       "      <th>50%</th>\n",
       "      <td>102.000000</td>\n",
       "      <td>85.400000</td>\n",
       "      <td>10.650000</td>\n",
       "      <td>13.800000</td>\n",
       "      <td>1.000000</td>\n",
       "      <td>1053.000000</td>\n",
       "      <td>2.000000</td>\n",
       "    </tr>\n",
       "    <tr>\n",
       "      <th>75%</th>\n",
       "      <td>200.000000</td>\n",
       "      <td>93.800000</td>\n",
       "      <td>12.550000</td>\n",
       "      <td>14.500000</td>\n",
       "      <td>1.000000</td>\n",
       "      <td>1457.000000</td>\n",
       "      <td>3.000000</td>\n",
       "    </tr>\n",
       "    <tr>\n",
       "      <th>max</th>\n",
       "      <td>202.000000</td>\n",
       "      <td>116.700000</td>\n",
       "      <td>18.650000</td>\n",
       "      <td>18.200000</td>\n",
       "      <td>25.000000</td>\n",
       "      <td>1825.000000</td>\n",
       "      <td>5.000000</td>\n",
       "    </tr>\n",
       "  </tbody>\n",
       "</table>\n",
       "</div>"
      ],
      "text/plain": [
       "         scan_step       height       weight         muac  order_number  \\\n",
       "count  5674.000000  5674.000000  5674.000000  5674.000000   5674.000000   \n",
       "mean    126.095876    84.964188    10.744184    13.852432      1.023793   \n",
       "std      43.368414    11.275271     2.554221     1.027240      0.466352   \n",
       "min     100.000000    57.100000     5.000000    10.600000      1.000000   \n",
       "25%     100.000000    76.200000     8.750000    13.200000      1.000000   \n",
       "50%     102.000000    85.400000    10.650000    13.800000      1.000000   \n",
       "75%     200.000000    93.800000    12.550000    14.500000      1.000000   \n",
       "max     202.000000   116.700000    18.650000    18.200000     25.000000   \n",
       "\n",
       "               age        Years  \n",
       "count  5674.000000  5674.000000  \n",
       "mean   1040.863588     2.326049  \n",
       "std     477.367798     1.315329  \n",
       "min     184.000000     0.000000  \n",
       "25%     638.000000     1.000000  \n",
       "50%    1053.000000     2.000000  \n",
       "75%    1457.000000     3.000000  \n",
       "max    1825.000000     5.000000  "
      ]
     },
     "execution_count": 126,
     "metadata": {},
     "output_type": "execute_result"
    }
   ],
   "source": [
    "unique_scan_ids.describe()"
   ]
  },
  {
   "cell_type": "markdown",
   "metadata": {},
   "source": [
    "### 1) Check age"
   ]
  },
  {
   "cell_type": "markdown",
   "metadata": {},
   "source": [
    "##### Check age < 6 months or  > 6 years"
   ]
  },
  {
   "cell_type": "code",
   "execution_count": 127,
   "metadata": {
    "gather": {
     "logged": 1630419048735
    }
   },
   "outputs": [
    {
     "name": "stdout",
     "output_type": "stream",
     "text": [
      "Running the following query: @df.age<365/2\n",
      "No. of outliers: 0\n"
     ]
    },
    {
     "data": {
      "text/plain": [
       "[]"
      ]
     },
     "execution_count": 127,
     "metadata": {},
     "output_type": "execute_result"
    }
   ],
   "source": [
    "find_outliers(artifacts, 'age', '<365/2', data_id_name='person_id')"
   ]
  },
  {
   "cell_type": "code",
   "execution_count": 128,
   "metadata": {
    "gather": {
     "logged": 1630419049395
    },
    "jupyter": {
     "outputs_hidden": false,
     "source_hidden": false
    },
    "nteract": {
     "transient": {
      "deleting": false
     }
    }
   },
   "outputs": [
    {
     "name": "stdout",
     "output_type": "stream",
     "text": [
      "Running the following query: @df.age<365/2\n",
      "No. of outliers: 0\n"
     ]
    },
    {
     "data": {
      "text/plain": [
       "[]"
      ]
     },
     "execution_count": 128,
     "metadata": {},
     "output_type": "execute_result"
    }
   ],
   "source": [
    "find_outliers(artifacts, 'age', '<365/2', data_id_name='scan_id')"
   ]
  },
  {
   "cell_type": "code",
   "execution_count": 129,
   "metadata": {
    "gather": {
     "logged": 1630419050108
    },
    "scrolled": true
   },
   "outputs": [
    {
     "name": "stdout",
     "output_type": "stream",
     "text": [
      "Running the following query: @df.age>365*6\n",
      "No. of outliers: 0\n"
     ]
    },
    {
     "data": {
      "text/plain": [
       "[]"
      ]
     },
     "execution_count": 129,
     "metadata": {},
     "output_type": "execute_result"
    }
   ],
   "source": [
    "find_outliers(artifacts, 'age', '>365*6', data_id_name='scan_id')"
   ]
  },
  {
   "cell_type": "markdown",
   "metadata": {},
   "source": [
    "### 2) Check weight"
   ]
  },
  {
   "cell_type": "code",
   "execution_count": 130,
   "metadata": {
    "gather": {
     "logged": 1630419051780
    }
   },
   "outputs": [
    {
     "name": "stdout",
     "output_type": "stream",
     "text": [
      "Running the following query: @df.weight<5.0\n",
      "No. of outliers: 0\n"
     ]
    },
    {
     "data": {
      "text/plain": [
       "[]"
      ]
     },
     "execution_count": 130,
     "metadata": {},
     "output_type": "execute_result"
    }
   ],
   "source": [
    "find_outliers(artifacts, 'weight', '<5.0', data_id_name='scan_id')"
   ]
  },
  {
   "cell_type": "code",
   "execution_count": 131,
   "metadata": {
    "gather": {
     "logged": 1630419052654
    }
   },
   "outputs": [
    {
     "name": "stdout",
     "output_type": "stream",
     "text": [
      "Running the following query: @df.weight>30.0\n",
      "No. of outliers: 0\n"
     ]
    },
    {
     "data": {
      "text/plain": [
       "[]"
      ]
     },
     "execution_count": 131,
     "metadata": {},
     "output_type": "execute_result"
    }
   ],
   "source": [
    "find_outliers(artifacts, 'weight', '>30.0', data_id_name='scan_id')"
   ]
  },
  {
   "cell_type": "markdown",
   "metadata": {},
   "source": [
    "### 3) Check height"
   ]
  },
  {
   "cell_type": "code",
   "execution_count": 132,
   "metadata": {
    "gather": {
     "logged": 1630419054326
    },
    "scrolled": true
   },
   "outputs": [
    {
     "name": "stdout",
     "output_type": "stream",
     "text": [
      "Running the following query: @df.height<40.0\n",
      "No. of outliers: 0\n"
     ]
    },
    {
     "data": {
      "text/plain": [
       "[]"
      ]
     },
     "execution_count": 132,
     "metadata": {},
     "output_type": "execute_result"
    }
   ],
   "source": [
    "find_outliers(artifacts, 'height', '<40.0', data_id_name='scan_id')"
   ]
  },
  {
   "cell_type": "code",
   "execution_count": 133,
   "metadata": {
    "gather": {
     "logged": 1630419055103
    }
   },
   "outputs": [
    {
     "name": "stdout",
     "output_type": "stream",
     "text": [
      "Running the following query: @df.height>150.0\n",
      "No. of outliers: 0\n"
     ]
    },
    {
     "data": {
      "text/plain": [
       "[]"
      ]
     },
     "execution_count": 133,
     "metadata": {},
     "output_type": "execute_result"
    }
   ],
   "source": [
    "find_outliers(artifacts, 'height', '>150.0', data_id_name='scan_id')"
   ]
  }
 ],
 "metadata": {
  "kernel_info": {
   "name": "python3-azureml"
  },
  "kernelspec": {
   "display_name": "Python 3.6 - AzureML",
   "language": "python",
   "name": "python3-azureml"
  },
  "language_info": {
   "codemirror_mode": {
    "name": "ipython",
    "version": 3
   },
   "file_extension": ".py",
   "mimetype": "text/x-python",
   "name": "python",
   "nbconvert_exporter": "python",
   "pygments_lexer": "ipython3",
   "version": "3.6.9"
  },
  "microsoft": {
   "host": {
    "AzureML": {
     "notebookHasBeenCompleted": true
    }
   }
  },
  "nteract": {
   "version": "nteract-front-end@1.0.0"
  }
 },
 "nbformat": 4,
 "nbformat_minor": 4
}
