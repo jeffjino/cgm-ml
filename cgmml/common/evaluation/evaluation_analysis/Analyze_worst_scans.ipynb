{
 "cells": [
  {
   "cell_type": "code",
   "execution_count": null,
   "metadata": {},
   "outputs": [],
   "source": [
    "import pickle\n",
    "import math\n",
    "import sys\n",
    "\n",
    "import pandas as pd \n",
    "import matplotlib.pyplot as plt\n",
    "from pathlib import Path\n",
    "from glob import glob\n",
    "sys.path.append(str(Path(os.getcwd()).resolve().parents[2]))\n",
    "from cgmml.data_utils.dataset_EDA.data_utilities import convert_age_from_days_to_years,display_images,display_depthmaps"
   ]
  },
  {
   "cell_type": "markdown",
   "metadata": {},
   "source": [
    "# This notebook tries to analyse some of the high error margin scans and find if there is correlation among these scans. It visulises the depthmap and image samples in the grid form. "
   ]
  },
  {
   "cell_type": "markdown",
   "metadata": {},
   "source": [
    "## Path to rgb images and depthmaps"
   ]
  },
  {
   "cell_type": "code",
   "execution_count": null,
   "metadata": {},
   "outputs": [],
   "source": [
    "#DEPTH_DATASET_PATH = Path('/mnt/datasets/95k_depthmap_trainingdata')\n",
    "DEPTH_DATA_PATH = Path('/mnt/dataset/realtime_testset/')\n",
    "RGB_DATA_PATH = Path('/mnt/dataset/realtime_evaluation/')"
   ]
  },
  {
   "cell_type": "code",
   "execution_count": null,
   "metadata": {},
   "outputs": [],
   "source": [
    "## To obtain this file, please run the model evaluation pipline and download the csv \n",
    "## file begin with 'file_inaccurate_scan_YOUR MODEL NAME' and use it here.\n",
    "label_data = pd.read_csv('file_inaccurate_scans_q3-depthmap-plaincnn-height-95k_1614792769_0fc49ac6.csv')\n",
    "label_data.head()"
   ]
  },
  {
   "cell_type": "code",
   "execution_count": null,
   "metadata": {},
   "outputs": [],
   "source": [
    "print(\"Total scan_code in label_data :\",len(label_data['scan_code'].unique()))"
   ]
  },
  {
   "cell_type": "code",
   "execution_count": null,
   "metadata": {},
   "outputs": [],
   "source": [
    "label_data.rename(columns={\"GT_age\": \"age\"},inplace=True)"
   ]
  },
  {
   "cell_type": "code",
   "execution_count": null,
   "metadata": {},
   "outputs": [],
   "source": [
    "label_data['error'] = label_data['error'].abs()"
   ]
  },
  {
   "cell_type": "markdown",
   "metadata": {},
   "source": [
    "## Scans from >50 cm error margin "
   ]
  },
  {
   "cell_type": "code",
   "execution_count": null,
   "metadata": {},
   "outputs": [],
   "source": [
    "label_data = label_data.sort_values(by=['error'],ascending=False)\n",
    "high_outliers = label_data[label_data['error'] >50]\n",
    "high_outliers"
   ]
  },
  {
   "cell_type": "markdown",
   "metadata": {},
   "source": [
    "## Scans from > 20 error margin "
   ]
  },
  {
   "cell_type": "code",
   "execution_count": null,
   "metadata": {},
   "outputs": [],
   "source": [
    "outliers_20 = label_data[label_data['error'] >20]\n",
    "outliers_20.head()"
   ]
  },
  {
   "cell_type": "markdown",
   "metadata": {},
   "source": [
    "### Age distribution in the > 20 cm error margin scans"
   ]
  },
  {
   "cell_type": "code",
   "execution_count": null,
   "metadata": {},
   "outputs": [],
   "source": [
    "outliers_20['Years'] = outliers_20.apply(convert_age_from_days_to_years,axis=1)\n",
    "outliers_20['Years'].value_counts()"
   ]
  },
  {
   "cell_type": "code",
   "execution_count": null,
   "metadata": {},
   "outputs": [],
   "source": [
    "RESULT_FIGSIZE_RESOLUTION = 80 # 1 = 100px"
   ]
  },
  {
   "cell_type": "markdown",
   "metadata": {},
   "source": [
    "### Sample scan from error over 20cm error margin : 1585016351-fimdbtjuta"
   ]
  },
  {
   "cell_type": "code",
   "execution_count": null,
   "metadata": {},
   "outputs": [],
   "source": [
    "# Config:\n",
    "full_image_path = f'{RGB_DATA_PATH}/RGB/1585016351-fimdbtjuta/100/*.jpg'\n",
    "image_list = glob(full_image_path)\n",
    "print(\"Total images for qrcode:\",len(image_list))\n",
    "sample_image = image_list[0:30]\n",
    "images_count = len(sample_image)\n",
    "print('Images count: ', images_count)\n",
    "# Calculate the grid size:\n",
    "grid_size = math.ceil(math.sqrt(images_count))\n",
    "fig, axes = plt.subplots(grid_size, grid_size, figsize=(RESULT_FIGSIZE_RESOLUTION, RESULT_FIGSIZE_RESOLUTION))\n",
    "display_images(sample_image,grid_size,axes)"
   ]
  },
  {
   "cell_type": "markdown",
   "metadata": {},
   "source": [
    "### Depthmap sample from error over 20cm error margin : 1585016351-fimdbtjuta"
   ]
  },
  {
   "cell_type": "code",
   "execution_count": null,
   "metadata": {},
   "outputs": [],
   "source": [
    "full_depth_path = f'{DEPTH_DATA_PATH}/scans/1585016351-fimdbtjuta/100/*.p'\n",
    "depth_list = glob(full_depth_path)\n",
    "print(\"Total images for qrcode:\",len(depth_list))\n",
    "sample_depth = depth_list[0:30]\n",
    "depth_count = len(sample_depth)\n",
    "print('Images count: ', depth_count)\n",
    "# Calculate the grid size:\n",
    "grid_size = math.ceil(math.sqrt(depth_count))\n",
    "fig, axes = plt.subplots(grid_size, grid_size, figsize=(RESULT_FIGSIZE_RESOLUTION, RESULT_FIGSIZE_RESOLUTION))\n",
    "display_depthmaps(sample_depth,grid_size,axes)"
   ]
  },
  {
   "cell_type": "markdown",
   "metadata": {},
   "source": [
    "## Scans from error margin (8cm to 10cm)"
   ]
  },
  {
   "cell_type": "code",
   "execution_count": null,
   "metadata": {},
   "outputs": [],
   "source": [
    "outliers_8_10 = label_data[(label_data['error'] >8) & (label_data['error'] <10)]\n",
    "outliers_8_10"
   ]
  },
  {
   "cell_type": "markdown",
   "metadata": {},
   "source": [
    "### Age and scantype distribution in the > 20 cm set"
   ]
  },
  {
   "cell_type": "code",
   "execution_count": null,
   "metadata": {},
   "outputs": [],
   "source": [
    "outliers_8_10['Years'] = outliers_8_10.apply(convert_age_from_days_to_years,axis=1)\n",
    "print(outliers_8_10['Years'].value_counts())\n",
    "print(outliers_8_10['scantype'].value_counts())"
   ]
  },
  {
   "cell_type": "markdown",
   "metadata": {},
   "source": [
    "### Plotting age vs height for the front scantype "
   ]
  },
  {
   "cell_type": "code",
   "execution_count": null,
   "metadata": {},
   "outputs": [],
   "source": [
    "outliers_8_10_100 = outliers_8_10[outliers_8_10['scantype'] == 100]\n",
    "height_vs_age = outliers_8_10_100.plot.scatter(x='GT', y='age', c='red')"
   ]
  },
  {
   "cell_type": "markdown",
   "metadata": {},
   "source": [
    "### Sample scan from error over 8cm :1597945980-1uai8edcg8 "
   ]
  },
  {
   "cell_type": "code",
   "execution_count": null,
   "metadata": {},
   "outputs": [],
   "source": [
    "# Config:\n",
    "full_image_path = f'{RGB_DATA_PATH}/RGB/1597945980-1uai8edcg8/100/*.jpg'\n",
    "image_list = glob(full_image_path)\n",
    "sample_image = image_list[1:30]\n",
    "images_count = len(sample_image)\n",
    "print('Images count: ', images_count)\n",
    "# Calculate the grid size:\n",
    "grid_size = math.ceil(math.sqrt(images_count))\n",
    "fig, axes = plt.subplots(grid_size, grid_size, figsize=(result_figsize_resolution, result_figsize_resolution))\n",
    "display_images(sample_image,grid_size,axes)"
   ]
  },
  {
   "cell_type": "markdown",
   "metadata": {},
   "source": [
    "### Depthmap Sample scan from error over 8cm :1597945980-1uai8edcg8"
   ]
  },
  {
   "cell_type": "code",
   "execution_count": null,
   "metadata": {},
   "outputs": [],
   "source": [
    "full_depth_path = f'{DEPTH_DATA_PATH}/scans/1597945980-1uai8edcg8/100/*.p'\n",
    "depth_list = glob(full_depth_path)\n",
    "print(\"Total images for qrcode:\",len(depth_list))\n",
    "sample_depth = depth_list[0:30]\n",
    "depth_count = len(sample_depth)\n",
    "print('Images count: ', depth_count)\n",
    "# Calculate the grid size:\n",
    "grid_size = math.ceil(math.sqrt(depth_count))\n",
    "fig, axes = plt.subplots(grid_size, grid_size, figsize=(result_figsize_resolution, result_figsize_resolution))\n",
    "display_depths(sample_depth,grid_size)"
   ]
  },
  {
   "cell_type": "markdown",
   "metadata": {},
   "source": [
    "## Scans from error high error margin (6cm to 8cm)"
   ]
  },
  {
   "cell_type": "code",
   "execution_count": null,
   "metadata": {},
   "outputs": [],
   "source": [
    "outliers_6_8 = label_data[(label_data['error'] > 6) & (label_data['error'] <8)]\n",
    "outliers_6_8['Years'] = outliers_6_8.apply(convert_age_from_days_to_years,axis=1)\n",
    "print(outliers_6_8['Years'].value_counts())\n",
    "print(outliers_6_8['scantype'].value_counts())\n",
    "outliers_6_8"
   ]
  },
  {
   "cell_type": "markdown",
   "metadata": {},
   "source": [
    "### Sample scan from error over 6 cm :1585015460-8zsf3t92ah"
   ]
  },
  {
   "cell_type": "code",
   "execution_count": null,
   "metadata": {
    "scrolled": true
   },
   "outputs": [],
   "source": [
    "full_image_path = f'{RGB_DATA_PATH}/RGB/1585015460-8zsf3t92ah/100/*.jpg'\n",
    "image_list = glob(full_image_path)\n",
    "print(\"Total_files:\",len(image_list))\n",
    "sample_image = image_list[1:50]\n",
    "images_count = len(sample_image)\n",
    "print('Images count: ', images_count)\n",
    "# Calculate the grid size:\n",
    "grid_size = math.ceil(math.sqrt(images_count))\n",
    "fig, axes = plt.subplots(grid_size, grid_size, figsize=(result_figsize_resolution, result_figsize_resolution))\n",
    "display_images(sample_image,grid_size)"
   ]
  },
  {
   "cell_type": "markdown",
   "metadata": {},
   "source": [
    "### Depthmap Sample scan from error over 6cm ::1585015460-8zsf3t92ah"
   ]
  },
  {
   "cell_type": "code",
   "execution_count": null,
   "metadata": {
    "scrolled": true
   },
   "outputs": [],
   "source": [
    "full_depth_path = f'{DEPTH_DATA_PATH}/scans/1585015460-8zsf3t92ah/100/*.p'\n",
    "depth_list = glob(full_depth_path)\n",
    "print(\"Total images for qrcode:\",len(depth_list))\n",
    "sample_depth = depth_list[0:30]\n",
    "depth_count = len(sample_depth)\n",
    "print('Images count: ', depth_count)\n",
    "# Calculate the grid size:\n",
    "grid_size = math.ceil(math.sqrt(depth_count))\n",
    "fig, axes = plt.subplots(grid_size, grid_size, figsize=(result_figsize_resolution, result_figsize_resolution))\n",
    "display_depths(sample_depth,grid_size)"
   ]
  },
  {
   "cell_type": "markdown",
   "metadata": {},
   "source": [
    "###  More sample from error over 6 cm :1598341542-43g4oosjoq"
   ]
  },
  {
   "cell_type": "code",
   "execution_count": null,
   "metadata": {},
   "outputs": [],
   "source": [
    "full_image_path = f'{RGB_DATA_PATH}/RGB/1598341542-43g4oosjoq/100/*.jpg'\n",
    "image_list = glob(full_image_path)\n",
    "print(\"Total_files:\",len(image_list))\n",
    "sample_image = image_list[1:50]\n",
    "images_count = len(sample_image)\n",
    "print('Images count: ',images_count)\n",
    "# Calculate the grid size:\n",
    "grid_size = math.ceil(math.sqrt(images_count))\n",
    "fig, axes = plt.subplots(grid_size, grid_size, figsize=(result_figsize_resolution, result_figsize_resolution))\n",
    "display_images(sample_image,grid_size,axes)"
   ]
  },
  {
   "cell_type": "markdown",
   "metadata": {},
   "source": [
    "### Depthmap Sample scan from error over 6cm : 1598341542-43g4oosjoq"
   ]
  },
  {
   "cell_type": "code",
   "execution_count": null,
   "metadata": {},
   "outputs": [],
   "source": [
    "full_depth_path = f'{DEPTH_DATA_PATH}/scans/1598341542-43g4oosjoq/100/*.p'\n",
    "depth_list = glob(full_depth_path)\n",
    "print(\"Total images for qrcode:\",len(depth_list))\n",
    "sample_depth = depth_list[0:30]\n",
    "depth_count = len(sample_depth)\n",
    "print('Images count:', depth_count)\n",
    "# Calculate the grid size:\n",
    "grid_size = math.ceil(math.sqrt(depth_count))\n",
    "fig, axes = plt.subplots(grid_size, grid_size, figsize=(result_figsize_resolution, result_figsize_resolution))\n",
    "display_depthmaps(sample_depth,grid_size,axes)"
   ]
  }
 ],
 "metadata": {
  "kernel_info": {
   "name": "python3-azureml"
  },
  "kernelspec": {
   "display_name": "Python 3.6 - AzureML",
   "language": "python",
   "name": "python3-azureml"
  },
  "language_info": {
   "codemirror_mode": {
    "name": "ipython",
    "version": 3
   },
   "file_extension": ".py",
   "mimetype": "text/x-python",
   "name": "python",
   "nbconvert_exporter": "python",
   "pygments_lexer": "ipython3",
   "version": "3.6.9"
  },
  "nteract": {
   "version": "nteract-front-end@1.0.0"
  }
 },
 "nbformat": 4,
 "nbformat_minor": 4
}
