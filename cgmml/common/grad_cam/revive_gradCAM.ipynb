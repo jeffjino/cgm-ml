{
 "cells": [
  {
   "cell_type": "code",
   "execution_count": 10,
   "metadata": {},
   "outputs": [],
   "source": [
    "import azureml\n",
    "from azureml.core import Workspace, Dataset\n",
    "from azureml.core import Experiment\n",
    "from azureml.core.run import Run \n",
    "import sys\n",
    "\n",
    "import tensorflow as tf \n",
    "from tensorflow.keras import models, layers\n",
    "import numpy as np\n",
    "from pathlib import Path\n",
    "\n",
    "from cgmml.common.evaluation.eval_utilities import download_model\n",
    "\n",
    "REPO_DIR = Path(os.getcwd()).parents[2].absolute()"
   ]
  },
  {
   "cell_type": "code",
   "execution_count": 2,
   "metadata": {},
   "outputs": [
    {
     "name": "stdout",
     "output_type": "stream",
     "text": [
      "/Users/jasmin/CGM_local/cgm-ml\n",
      "['/Users/jasmin/CGM_local/cgm-ml/cgmml/common/grad_cam', '/Users/jasmin/CGM_local/cgm-ml', '/Users/jasmin/.pyenv/versions/3.7.9/lib/python37.zip', '/Users/jasmin/.pyenv/versions/3.7.9/lib/python3.7', '/Users/jasmin/.pyenv/versions/3.7.9/lib/python3.7/lib-dynload', '', '/Users/jasmin/.pyenv/versions/3.7.9/envs/py37-cgm/lib/python3.7/site-packages', '/Users/jasmin/.pyenv/versions/3.7.9/envs/py37-cgm/lib/python3.7/site-packages/IPython/extensions', '/Users/jasmin/.ipython', '/Users/jasmin/.pyenv/versions/3.7.9/envs/py37-cgm/lib/python3.7/site-packages/azureml/_project/vendor', '/Users/jasmin/.pyenv/versions/3.7.9/envs/py37-cgm/lib/python3.7/site-packages/azureml/automl/core/_vendor']\n"
     ]
    }
   ],
   "source": [
    "! echo $PYTHONPATH\n",
    "print(sys.path)"
   ]
  },
  {
   "cell_type": "code",
   "execution_count": 3,
   "metadata": {
    "scrolled": true
   },
   "outputs": [
    {
     "name": "stdout",
     "output_type": "stream",
     "text": [
      "/Users/jasmin/CGM_local/cgm-ml\n"
     ]
    }
   ],
   "source": [
    "print(REPO_DIR)"
   ]
  },
  {
   "cell_type": "markdown",
   "metadata": {},
   "source": [
    "### Connect to azureml workspace"
   ]
  },
  {
   "cell_type": "code",
   "execution_count": 4,
   "metadata": {},
   "outputs": [
    {
     "data": {
      "text/plain": [
       "Workspace.create(name='cgm-ml-prod-ci-azml', subscription_id='9b5bbfae-d5d1-4aae-a2ca-75159c0c887d', resource_group='cgm-ml-prod-ci-rg')"
      ]
     },
     "execution_count": 4,
     "metadata": {},
     "output_type": "execute_result"
    }
   ],
   "source": [
    "workspace = Workspace.from_config()\n",
    "workspace"
   ]
  },
  {
   "cell_type": "markdown",
   "metadata": {},
   "source": [
    "### Specify experiment and run_id to download model"
   ]
  },
  {
   "cell_type": "code",
   "execution_count": 8,
   "metadata": {},
   "outputs": [],
   "source": [
    "experiment_name = \"q3-depthmap-plaincnn-height-95k\"\n",
    "run_id = \"q3-depthmap-plaincnn-height-95k_1629821224_3ce63344\"  # Run 2\n",
    "input_location = 'outputs/best_model.ckpt'\n",
    "name = 'best_model.ckpt'\n",
    "output_location = (REPO_DIR / 'data' / experiment_name)"
   ]
  },
  {
   "cell_type": "code",
   "execution_count": 9,
   "metadata": {},
   "outputs": [
    {
     "name": "stderr",
     "output_type": "stream",
     "text": [
      "2021-09-01 18:53:59,381 - INFO - Successfully downloaded model - /Users/jasmin/CGM_local/cgm-ml/cgmml/common/evaluation/eval_utilities.py: line 414\n"
     ]
    }
   ],
   "source": [
    "download_model(workspace=workspace, \n",
    "              experiment_name=experiment_name,\n",
    "              run_id=run_id,\n",
    "              input_location=input_location,\n",
    "              output_location=output_location)"
   ]
  },
  {
   "cell_type": "code",
   "execution_count": 7,
   "metadata": {},
   "outputs": [
    {
     "name": "stdout",
     "output_type": "stream",
     "text": [
      "/Users/jasmin/CGM_local/cgm-ml/data/q3-depthmap-plaincnn-height-95k\n"
     ]
    }
   ],
   "source": [
    "print(output_location)"
   ]
  },
  {
   "cell_type": "markdown",
   "metadata": {},
   "source": [
    "### Consume dataset and find some examples"
   ]
  },
  {
   "cell_type": "code",
   "execution_count": null,
   "metadata": {},
   "outputs": [],
   "source": [
    "dataset = Dataset.get_by_name(workspace, name='anon-depthmap-mini')\n",
    "dataset.download(target_path='.', overwrite=False)"
   ]
  },
  {
   "cell_type": "code",
   "execution_count": null,
   "metadata": {},
   "outputs": [],
   "source": []
  },
  {
   "cell_type": "markdown",
   "metadata": {},
   "source": [
    "### Instantiate GradCAM class"
   ]
  },
  {
   "cell_type": "code",
   "execution_count": null,
   "metadata": {},
   "outputs": [],
   "source": [
    "from cgmml.models.CNNDepthMap.CNNDepthMap-height.q2milestone-cnndepthmap-height.code.utils import GradCAM"
   ]
  },
  {
   "cell_type": "code",
   "execution_count": null,
   "metadata": {},
   "outputs": [],
   "source": []
  }
 ],
 "metadata": {
  "interpreter": {
   "hash": "b53cbebab1e12bd5adac4bb65b5ac2e11170cb1e4b68b2592d17c19e78095242"
  },
  "kernelspec": {
   "display_name": "Python 3 (ipykernel)",
   "language": "python",
   "name": "python3"
  },
  "language_info": {
   "codemirror_mode": {
    "name": "ipython",
    "version": 3
   },
   "file_extension": ".py",
   "mimetype": "text/x-python",
   "name": "python",
   "nbconvert_exporter": "python",
   "pygments_lexer": "ipython3",
   "version": "3.7.9"
  }
 },
 "nbformat": 4,
 "nbformat_minor": 2
}
