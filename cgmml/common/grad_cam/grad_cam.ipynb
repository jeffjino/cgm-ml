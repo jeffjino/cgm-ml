{
 "cells": [
  {
   "cell_type": "code",
   "execution_count": 4,
   "metadata": {},
   "outputs": [],
   "source": [
    "%reload_ext autoreload\n",
    "%autoreload 2\n",
    "%matplotlib inline\n",
    "\n",
    "import os\n",
    "\n",
    "import tensorflow as tf \n",
    "from tensorflow.keras import models, layers\n",
    "from tensorflow.keras.models import Model\n",
    "from tensorflow.keras.models import load_model\n",
    "import numpy as np\n",
    "from pathlib import Path\n",
    "import cv2\n",
    "\n",
    "# Display F. Chollet example\n",
    "import matplotlib\n",
    "from skimage.transform import resize\n",
    "\n",
    "from cgmml.common.evaluation.eval_utils import tf_load_pickle\n",
    "from run_gradcam import show_depthmaps, overlay_depthmap_gradcam, extract_last_conv_layer_name\n",
    "\n",
    "REPO_DIR = Path(os.getcwd()).parents[2].absolute()\n"
   ]
  },
  {
   "cell_type": "code",
   "execution_count": 5,
   "metadata": {},
   "outputs": [
    {
     "name": "stdout",
     "output_type": "stream",
     "text": [
      "module://matplotlib_inline.backend_inline\n"
     ]
    }
   ],
   "source": [
    "print(matplotlib.get_backend())"
   ]
  },
  {
   "cell_type": "code",
   "execution_count": 6,
   "metadata": {
    "scrolled": false
   },
   "outputs": [],
   "source": [
    "output_location = (REPO_DIR / 'data' / 'q3-depthmap-plaincnn-height-95k')\n",
    "model_file_path = (output_location / 'outputs' / 'best_model.ckpt')\n"
   ]
  },
  {
   "cell_type": "code",
   "execution_count": 7,
   "metadata": {
    "scrolled": false
   },
   "outputs": [
    {
     "name": "stderr",
     "output_type": "stream",
     "text": [
      "2021-10-12 12:35:37.400554: I tensorflow/compiler/jit/xla_cpu_device.cc:41] Not creating XLA devices, tf_xla_enable_xla_devices not set\n",
      "2021-10-12 12:35:37.401657: I tensorflow/core/platform/cpu_feature_guard.cc:142] This TensorFlow binary is optimized with oneAPI Deep Neural Network Library (oneDNN) to use the following CPU instructions in performance-critical operations:  AVX2 FMA\n",
      "To enable them in other operations, rebuild TensorFlow with the appropriate compiler flags.\n"
     ]
    }
   ],
   "source": [
    "height_model = tf.keras.models.load_model(model_file_path, compile=False)"
   ]
  },
  {
   "cell_type": "code",
   "execution_count": 8,
   "metadata": {
    "scrolled": false
   },
   "outputs": [],
   "source": [
    "optimizer = tf.keras.optimizers.RMSprop(learning_rate=0.01)\n",
    "# Compile the model.\n",
    "height_model.compile(\n",
    "            optimizer=optimizer,\n",
    "            loss=\"binary_crossentropy\",\n",
    "            metrics=[\"accuracy\"]\n",
    "            )"
   ]
  },
  {
   "cell_type": "code",
   "execution_count": null,
   "metadata": {
    "scrolled": true
   },
   "outputs": [],
   "source": [
    "#height_model.summary() \n",
    "#check the run in cgm-rg"
   ]
  },
  {
   "cell_type": "markdown",
   "metadata": {},
   "source": [
    "### Download dataset and find some examples"
   ]
  },
  {
   "cell_type": "code",
   "execution_count": null,
   "metadata": {
    "scrolled": false
   },
   "outputs": [],
   "source": [
    "# ALREADY DOWNLOADED\n",
    "#dataset = Dataset.get_by_name(workspace, name='anon-depthmap-mini')\n",
    "#dataset.download(target_path='./dataset', overwrite=False)"
   ]
  },
  {
   "cell_type": "code",
   "execution_count": 9,
   "metadata": {
    "scrolled": false
   },
   "outputs": [],
   "source": [
    "scan_paths = [\"./dataset/scans/1585273581-kkzed7slcb/101/pc_1585273581-kkzed7slcb_1592533609843_101_011.p\",\n",
    "              \"./dataset/scans/1585273961-7dw2qedbor/100/pc_1585273961-7dw2qedbor_1592533886956_100_000.p\", \n",
    "              \"./dataset/scans/1585273961-7dw2qedbor/100/pc_1585273961-7dw2qedbor_1592533886956_100_014.p\",\n",
    "              \"./dataset/scans/1585356905-3hddkdz687/100/pc_1585356905-3hddkdz687_1592798873065_100_000.p\",\n",
    "              \"./dataset/scans/1585356905-3hddkdz687/100/pc_1585356905-3hddkdz687_1592798873065_100_006.p\"]"
   ]
  },
  {
   "cell_type": "code",
   "execution_count": 10,
   "metadata": {},
   "outputs": [
    {
     "name": "stdout",
     "output_type": "stream",
     "text": [
      "<class 'numpy.ndarray'>\n",
      "(240, 180, 1)\n"
     ]
    }
   ],
   "source": [
    "depthmaps = []\n",
    "\n",
    "for path in scan_paths:\n",
    "    normalization_value = 7.5\n",
    "    depthmap, target = tf_load_pickle(path, normalization_value)\n",
    "    depthmap_np = np.array(depthmap)\n",
    "    depthmaps.append(depthmap_np)\n",
    "\n",
    "print(type(depthmaps[0]))\n",
    "print(depthmaps[0].shape)\n"
   ]
  },
  {
   "cell_type": "code",
   "execution_count": null,
   "metadata": {},
   "outputs": [],
   "source": [
    "show_depthmaps(depthmaps)"
   ]
  },
  {
   "cell_type": "markdown",
   "metadata": {},
   "source": [
    "### Prepare depthmap"
   ]
  },
  {
   "cell_type": "code",
   "execution_count": 11,
   "metadata": {},
   "outputs": [],
   "source": [
    "#FROM CGM-RG\n",
    "\n",
    "IMAGE_TARGET_HEIGHT = 240\n",
    "IMAGE_TARGET_WIDTH = 180\n",
    "NORMALIZATION_VALUE = 7.5\n",
    "\n",
    "def preprocess_depthmap(depthmap):\n",
    "    return depthmap.astype(\"float32\")\n",
    "\n",
    "def preprocess(depthmap):\n",
    "    depthmap = preprocess_depthmap(depthmap)\n",
    "    depthmap = depthmap / NORMALIZATION_VALUE\n",
    "    depthmap = resize(depthmap, (IMAGE_TARGET_HEIGHT, IMAGE_TARGET_WIDTH))\n",
    "    depthmap = depthmap.reshape((depthmap.shape[0], depthmap.shape[1], 1))\n",
    "    return depthmap"
   ]
  },
  {
   "cell_type": "code",
   "execution_count": 20,
   "metadata": {},
   "outputs": [
    {
     "name": "stdout",
     "output_type": "stream",
     "text": [
      "<class 'list'>\n",
      "<class 'tuple'>\n",
      "5\n"
     ]
    }
   ],
   "source": [
    "preprocessed_depthmaps = []\n",
    "\n",
    "for depthmap in depthmaps:\n",
    "    preprocessed_depthmap = preprocess(depthmap)\n",
    "    ##### NEITHER NEW CODE NOR height_model.predict WORKS WITHOUT batch dim - must be in cgm-rg somewhere\n",
    "    preprocessed_depthmap = np.expand_dims(preprocessed_depthmap, axis=0)\n",
    "    preprocessed_depthmaps.append(preprocessed_depthmap)\n",
    "\n",
    "print(type(preprocessed_depthmaps))\n",
    "print(type(preprocessed_depthmaps[0].shape))\n",
    "print(len(preprocessed_depthmaps))\n",
    "#print(preprocessed_depthmaps[0])"
   ]
  },
  {
   "cell_type": "markdown",
   "metadata": {},
   "source": [
    "# Create heatmap"
   ]
  },
  {
   "cell_type": "code",
   "execution_count": 45,
   "metadata": {
    "scrolled": false
   },
   "outputs": [
    {
     "name": "stdout",
     "output_type": "stream",
     "text": [
      "conv2d_11\n"
     ]
    }
   ],
   "source": [
    "last_conv_layer_name = extract_last_conv_layer_name(height_model)\n",
    "print(last_conv_layer_name)"
   ]
  },
  {
   "cell_type": "markdown",
   "metadata": {},
   "source": [
    "## 2nd Gradcam Implementation - with subgraph creation + two simultaneous ouputs"
   ]
  },
  {
   "cell_type": "code",
   "execution_count": 21,
   "metadata": {},
   "outputs": [],
   "source": [
    "# from https://gist.github.com/RaphaelMeudec/e9a805fa82880876f8d89766f0690b54\n",
    "# understand this implementation better: https://www.sicara.ai/blog/2019-08-28-interpretability-deep-learning-tensorflow\n",
    "\n",
    "## this is how the function should look like\n",
    "#def get_height_prediction_and_heatmap_local(numpy_array): \n",
    "#return height, heatmap\n",
    "    #re-write below function to only take numpy_array, not height_model \n",
    "        # height_model is global in cgm-rg, make grad_model also global in cgm-rg\n",
    "\n",
    "# THIS creates a connection between the inputs and our target outputs which is output of last conv layer and height pred output = SUBGRAPH CREATION\n",
    "# SUBGRAPH CREATION = obtain output from a specific layer\n",
    "grad_model = Model(inputs=[height_model.inputs], \n",
    "                        outputs=[height_model.get_layer(last_conv_layer_name).output, height_model.output])\n",
    "\n",
    "\n",
    "# GRADCAM checks the importance of output filters (here: last conv layer) towards the final decision\n",
    "def compute_pred_and_heatmap(numpy_array):\n",
    "    \n",
    "    # GET the score for target prediction\n",
    "    with tf.GradientTape() as tape:\n",
    "        numpy_array = tf.cast(numpy_array, tf.float32)\n",
    "        (conv_outputs, height_prediction) = grad_model(np.array(numpy_array))\n",
    "        print(\"pred.shape = \", height_prediction.shape)\n",
    "        print(\"predictions\", height_prediction)\n",
    "        print(\"predictions[0]\", height_prediction[0])\n",
    "        # THIS is the difference between CLASS activation and regression: in class activation, we input the specific class index here, \n",
    "        # e.g. 2= cat. then, we read out the probability for cat in the flattened predictions at index \"cat\" and use this to get the activation from gradients\n",
    "        # IN OUR CASE: we do not have classes, we do regression. So: we have one height value in the zeroth index of our predictions tensor. And we want to see where the \n",
    "        # activation was in the last conv layer for this prediction\n",
    "\n",
    "        # IMPORTANT: Since we always will only have one prediction (1 depthmap is processed at a time, in regression we do not have multiple class predictions but only one scalar), \n",
    "        # we can leave the next block out\n",
    "        #classIdx = np.argmax(height_predictions[0]) # returns index of prediction\n",
    "        #loss = height_predictions[:, classIdx] \n",
    "    \n",
    "    # EXTRACT filters and gradients\n",
    "    output = conv_outputs[0]\n",
    "    grads = tape.gradient(height_prediction, conv_outputs)[0]\n",
    "\n",
    "    # GUIDED backpropagation - eliminating elements that act negatively towards the decision - zeroing-out negative gradients\n",
    "    guided_grads = tf.cast(output > 0, 'float32') * tf.cast(grads > 0, 'float32') * grads\n",
    "    \n",
    "    # AVERAGE gradients spatially\n",
    "    weights = tf.reduce_mean(guided_grads, axis=(0, 1))\n",
    "\n",
    "    # BUILD a weighted map of filters according to gradients importance\n",
    "    cam = np.ones(output.shape[0: 2], dtype = np.float32)\n",
    "    for i, w in enumerate(weights):\n",
    "        cam += w * output[:, :, i]\n",
    "\n",
    "    # HEATMAP visualization\n",
    "    cam = cv2.resize(cam.numpy(), (IMAGE_TARGET_HEIGHT, IMAGE_TARGET_WIDTH))\n",
    "    cam = np.maximum(cam, 0)\n",
    "    heatmap = (cam - cam.min()) / (cam.max() - cam.min())\n",
    "\n",
    "    return heatmap, height_prediction"
   ]
  },
  {
   "cell_type": "code",
   "execution_count": 22,
   "metadata": {},
   "outputs": [],
   "source": [
    "depthmap_test = preprocessed_depthmaps[1]"
   ]
  },
  {
   "cell_type": "code",
   "execution_count": 23,
   "metadata": {},
   "outputs": [
    {
     "name": "stdout",
     "output_type": "stream",
     "text": [
      "pred.shape =  (1, 1)\n",
      "predictions tf.Tensor([[90.03042]], shape=(1, 1), dtype=float32)\n",
      "predictions[0] tf.Tensor([90.03042], shape=(1,), dtype=float32)\n",
      "prediction =  tf.Tensor([90.03042], shape=(1,), dtype=float32)\n"
     ]
    }
   ],
   "source": [
    "heatmap_res, heightpred_res = compute_pred_and_heatmap(height_model, depthmap_test)"
   ]
  },
  {
   "cell_type": "code",
   "execution_count": 24,
   "metadata": {},
   "outputs": [
    {
     "name": "stdout",
     "output_type": "stream",
     "text": [
      "tf.Tensor([90.03042], shape=(1,), dtype=float32)\n"
     ]
    }
   ],
   "source": [
    "print(heightpred_res)"
   ]
  },
  {
   "cell_type": "code",
   "execution_count": 25,
   "metadata": {},
   "outputs": [
    {
     "data": {
      "text/plain": [
       "array([[90.03042]], dtype=float32)"
      ]
     },
     "execution_count": 25,
     "metadata": {},
     "output_type": "execute_result"
    }
   ],
   "source": [
    "height_model.predict(depthmap_test)"
   ]
  },
  {
   "cell_type": "code",
   "execution_count": 26,
   "metadata": {},
   "outputs": [
    {
     "data": {
      "image/png": "[encoded data removed]",
      "text/plain": [
       "<Figure size 432x288 with 1 Axes>"
      ]
     },
     "metadata": {
      "needs_background": "light"
     },
     "output_type": "display_data"
    },
    {
     "data": {
      "text/plain": [
       "array([[[  0,   0,  51],\n",
       "        [ 28,  28,  78],\n",
       "        [ 44,  44,  95],\n",
       "        ...,\n",
       "        [ 44,  67, 146],\n",
       "        [ 44,  67, 146],\n",
       "        [ 44,  67, 146]],\n",
       "\n",
       "       [[ 28,  28,  78],\n",
       "        [ 38,  38,  89],\n",
       "        [ 44,  44,  95],\n",
       "        ...,\n",
       "        [ 44,  67, 146],\n",
       "        [ 44,  67, 146],\n",
       "        [ 44,  67, 146]],\n",
       "\n",
       "       [[ 44,  44,  95],\n",
       "        [ 44,  44,  95],\n",
       "        [ 44,  44,  95],\n",
       "        ...,\n",
       "        [ 34,  56, 136],\n",
       "        [ 34,  57, 136],\n",
       "        [ 44,  67, 146]],\n",
       "\n",
       "       ...,\n",
       "\n",
       "       [[  8,   8, 110],\n",
       "        [ 17,  17, 118],\n",
       "        [ 22,  22, 124],\n",
       "        ...,\n",
       "        [ 22,  83, 124],\n",
       "        [ 22,  83, 124],\n",
       "        [ 22,  83, 124]],\n",
       "\n",
       "       [[  0,   0, 102],\n",
       "        [  8,   8, 110],\n",
       "        [ 17,  17, 118],\n",
       "        ...,\n",
       "        [ 22,  83, 124],\n",
       "        [ 22,  83, 124],\n",
       "        [ 22,  83, 124]],\n",
       "\n",
       "       [[  0,   0, 102],\n",
       "        [  0,   0, 102],\n",
       "        [  8,   8, 110],\n",
       "        ...,\n",
       "        [ 22,  83, 124],\n",
       "        [ 22,  83, 124],\n",
       "        [ 22,  83, 124]]], dtype=uint8)"
      ]
     },
     "execution_count": 26,
     "metadata": {},
     "output_type": "execute_result"
    }
   ],
   "source": [
    "overlay_depthmap_gradcam(depthmap_test, heatmap_res)"
   ]
  },
  {
   "cell_type": "markdown",
   "metadata": {},
   "source": [
    "___________________________________________________________________"
   ]
  },
  {
   "cell_type": "code",
   "execution_count": null,
   "metadata": {},
   "outputs": [],
   "source": [
    "\"\"\" def compute_pred_and_heatmap(height_model, image): - version P + online mixed\n",
    "\n",
    "    grad_model = Model(inputs=[height_model.inputs], \n",
    "                            outputs=[height_model.get_layer(last_conv_layer_name).output, height_model.output])\n",
    "\n",
    "    with tf.GradientTape() as tape:\n",
    "        #tape.watch(grad_model.get_layer(last_conv_layer_name).output)\n",
    "        inputs = tf.cast(image, tf.float32)\n",
    "        (conv_outputs, predictions) = grad_model(inputs)\n",
    "        print(\"pred.shape = \", predictions.shape)\n",
    "        print(predictions)\n",
    "        classIdx = np.argmax(predictions[0])\n",
    "\n",
    "        if len(predictions)==1:\n",
    "            loss = predictions[0]\n",
    "        else:\n",
    "            loss = predictions[:, classIdx] \n",
    "    \n",
    "    grads = tape.gradient(loss, conv_outputs)\n",
    "    \n",
    "    return_pred = loss  # this name from exmpl is confusing - is this right?\n",
    "\n",
    "    cast_conv_outputs = tf.cast(conv_outputs > 0, \"float32\")\n",
    "    cast_grads = tf.cast(grads > 0, \"float32\")\n",
    "    guided_grads = cast_conv_outputs * cast_grads * grads \n",
    "\n",
    "    conv_outputs = conv_outputs[0]\n",
    "    guided_grads = guided_grads[0]\n",
    "\n",
    "    weights = tf.reduce_mean(guided_grads, axis=(0, 1))\n",
    "    cam = tf.reduce_sum(tf.multiply(weights, conv_outputs), axis=-1)\n",
    "\n",
    "    (w, h) = (image.shape[2], image.shape[1])\n",
    "    heatmap = cv2.resize(cam.numpy(), (w, h))\n",
    "    cam = np.maximum(cam, 0)\n",
    "    heatmap = (cam - cam.min()) / (cam.max() - cam.min())\n",
    "    heatmap = (heatmap * 255).astype(\"float32\")\n",
    "    return heatmap, return_pred \"\"\""
   ]
  }
 ],
 "metadata": {
  "interpreter": {
   "hash": "b9137e50ab2e6783f9052efbfa0717acf873b926901861b2bc1b4ce3cc720c10"
  },
  "kernelspec": {
   "display_name": "Python 3.7.9 64-bit ('py37-cgm': pyenv)",
   "name": "python3"
  },
  "language_info": {
   "codemirror_mode": {
    "name": "ipython",
    "version": 3
   },
   "file_extension": ".py",
   "mimetype": "text/x-python",
   "name": "python",
   "nbconvert_exporter": "python",
   "pygments_lexer": "ipython3",
   "version": "3.7.9"
  },
  "orig_nbformat": 4
 },
 "nbformat": 4,
 "nbformat_minor": 2
}
