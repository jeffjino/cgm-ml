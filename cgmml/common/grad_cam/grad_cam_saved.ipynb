{
 "cells": [
  {
   "cell_type": "code",
   "execution_count": 5,
   "source": [
    "%reload_ext autoreload\n",
    "%autoreload 2\n",
    "%matplotlib inline\n",
    "\n",
    "import azureml\n",
    "from azureml.core import Workspace, Dataset\n",
    "from azureml.core import Experiment\n",
    "from azureml.core.run import Run \n",
    "import sys\n",
    "import os\n",
    "\n",
    "import tensorflow as tf \n",
    "from tensorflow import keras\n",
    "from tensorflow.keras import models, layers\n",
    "from tensorflow.keras.models import Model\n",
    "#from tensorflow.keras.applications.xception import Xception\n",
    "from tensorflow.keras.models import load_model\n",
    "import numpy as np\n",
    "from pathlib import Path\n",
    "import glob2 as glob\n",
    "import random\n",
    "import pickle\n",
    "import cv2\n",
    "\n",
    "# Display F. Chollet example\n",
    "from IPython.display import Image, display\n",
    "import matplotlib\n",
    "#matplotlib.use('TkAgg')\n",
    "import matplotlib.pyplot as plt\n",
    "import matplotlib.cm as cm\n",
    "from skimage.transform import rescale, resize, downscale_local_mean\n",
    "\n",
    "from cgmml.common.evaluation.eval_utilities import download_model, get_depthmap_files\n",
    "from cgmml.common.evaluation.eval_utils import tf_load_pickle\n",
    "from run_gradcam import make_gradcam_heatmap, save_and_display_gradcam, return_gradcam\n"
   ],
   "outputs": [],
   "metadata": {}
  },
  {
   "cell_type": "code",
   "execution_count": 2,
   "source": [
    "REPO_DIR = Path(os.getcwd()).parents[2].absolute()"
   ],
   "outputs": [],
   "metadata": {}
  },
  {
   "cell_type": "code",
   "execution_count": 6,
   "source": [
    "print(matplotlib.get_backend())"
   ],
   "outputs": [
    {
     "output_type": "stream",
     "name": "stdout",
     "text": [
      "module://matplotlib_inline.backend_inline\n"
     ]
    }
   ],
   "metadata": {}
  },
  {
   "cell_type": "markdown",
   "source": [
    "### Connect to azureml workspace"
   ],
   "metadata": {}
  },
  {
   "cell_type": "code",
   "execution_count": null,
   "source": [
    "workspace = Workspace.from_config()\n",
    "workspace"
   ],
   "outputs": [],
   "metadata": {
    "scrolled": false
   }
  },
  {
   "cell_type": "markdown",
   "source": [
    "### Specify experiment and run_id to download model"
   ],
   "metadata": {}
  },
  {
   "cell_type": "code",
   "execution_count": 8,
   "source": [
    "experiment_name = \"q3-depthmap-plaincnn-height-95k\"\n",
    "run_id = \"q3-depthmap-plaincnn-height-95k_1629821224_3ce63344\"  # Run 2\n",
    "input_location = 'outputs/best_model.ckpt'\n",
    "name = 'best_model.ckpt'\n",
    "output_location = (REPO_DIR / 'data' / experiment_name)"
   ],
   "outputs": [],
   "metadata": {
    "scrolled": false
   }
  },
  {
   "cell_type": "code",
   "execution_count": null,
   "source": [
    "download_model(workspace=workspace, \n",
    "              experiment_name=experiment_name,\n",
    "              run_id=run_id,\n",
    "              input_location=input_location,\n",
    "              output_location=output_location)"
   ],
   "outputs": [],
   "metadata": {
    "scrolled": false
   }
  },
  {
   "cell_type": "code",
   "execution_count": 9,
   "source": [
    "model_file_path = (output_location / 'outputs' / 'best_model.ckpt')\n",
    "print(model_file_path)"
   ],
   "outputs": [
    {
     "output_type": "stream",
     "name": "stdout",
     "text": [
      "/Users/jasmin/CGM_local/cgm-ml/data/q3-depthmap-plaincnn-height-95k/outputs/best_model.ckpt\n"
     ]
    }
   ],
   "metadata": {}
  },
  {
   "cell_type": "code",
   "execution_count": 10,
   "source": [
    "height_model = tf.keras.models.load_model(model_file_path, compile=False)"
   ],
   "outputs": [
    {
     "output_type": "stream",
     "name": "stderr",
     "text": [
      "2021-09-28 21:07:10.664145: I tensorflow/compiler/jit/xla_cpu_device.cc:41] Not creating XLA devices, tf_xla_enable_xla_devices not set\n",
      "2021-09-28 21:07:10.670129: I tensorflow/core/platform/cpu_feature_guard.cc:142] This TensorFlow binary is optimized with oneAPI Deep Neural Network Library (oneDNN) to use the following CPU instructions in performance-critical operations:  AVX2 FMA\n",
      "To enable them in other operations, rebuild TensorFlow with the appropriate compiler flags.\n"
     ]
    }
   ],
   "metadata": {
    "scrolled": false
   }
  },
  {
   "cell_type": "code",
   "execution_count": 11,
   "source": [
    "optimizer = tf.keras.optimizers.RMSprop(learning_rate=0.01)\n",
    "# Compile the model.\n",
    "height_model.compile(\n",
    "            optimizer=optimizer,\n",
    "            loss=\"binary_crossentropy\",\n",
    "            metrics=[\"accuracy\"]\n",
    "            )"
   ],
   "outputs": [],
   "metadata": {
    "scrolled": false
   }
  },
  {
   "cell_type": "code",
   "execution_count": 12,
   "source": [
    "height_model.summary()"
   ],
   "outputs": [
    {
     "output_type": "stream",
     "name": "stdout",
     "text": [
      "Model: \"sequential\"\n",
      "_________________________________________________________________\n",
      "Layer (type)                 Output Shape              Param #   \n",
      "=================================================================\n",
      "conv2d (Conv2D)              (None, 240, 180, 32)      320       \n",
      "_________________________________________________________________\n",
      "conv2d_1 (Conv2D)            (None, 240, 180, 32)      9248      \n",
      "_________________________________________________________________\n",
      "max_pooling2d (MaxPooling2D) (None, 120, 90, 32)       0         \n",
      "_________________________________________________________________\n",
      "conv2d_2 (Conv2D)            (None, 120, 90, 64)       18496     \n",
      "_________________________________________________________________\n",
      "conv2d_3 (Conv2D)            (None, 120, 90, 64)       36928     \n",
      "_________________________________________________________________\n",
      "max_pooling2d_1 (MaxPooling2 (None, 60, 45, 64)        0         \n",
      "_________________________________________________________________\n",
      "conv2d_4 (Conv2D)            (None, 60, 45, 128)       73856     \n",
      "_________________________________________________________________\n",
      "conv2d_5 (Conv2D)            (None, 60, 45, 128)       147584    \n",
      "_________________________________________________________________\n",
      "max_pooling2d_2 (MaxPooling2 (None, 30, 22, 128)       0         \n",
      "_________________________________________________________________\n",
      "conv2d_6 (Conv2D)            (None, 30, 22, 128)       147584    \n",
      "_________________________________________________________________\n",
      "conv2d_7 (Conv2D)            (None, 30, 22, 128)       147584    \n",
      "_________________________________________________________________\n",
      "max_pooling2d_3 (MaxPooling2 (None, 15, 11, 128)       0         \n",
      "_________________________________________________________________\n",
      "conv2d_8 (Conv2D)            (None, 15, 11, 256)       295168    \n",
      "_________________________________________________________________\n",
      "conv2d_9 (Conv2D)            (None, 15, 11, 256)       590080    \n",
      "_________________________________________________________________\n",
      "max_pooling2d_4 (MaxPooling2 (None, 7, 5, 256)         0         \n",
      "_________________________________________________________________\n",
      "conv2d_10 (Conv2D)           (None, 7, 5, 256)         590080    \n",
      "_________________________________________________________________\n",
      "conv2d_11 (Conv2D)           (None, 7, 5, 256)         590080    \n",
      "_________________________________________________________________\n",
      "max_pooling2d_5 (MaxPooling2 (None, 3, 2, 256)         0         \n",
      "_________________________________________________________________\n",
      "flatten (Flatten)            (None, 1536)              0         \n",
      "_________________________________________________________________\n",
      "dense (Dense)                (None, 1024)              1573888   \n",
      "_________________________________________________________________\n",
      "dense_1 (Dense)              (None, 128)               131200    \n",
      "_________________________________________________________________\n",
      "dense_2 (Dense)              (None, 1)                 129       \n",
      "=================================================================\n",
      "Total params: 4,352,225\n",
      "Trainable params: 4,352,225\n",
      "Non-trainable params: 0\n",
      "_________________________________________________________________\n"
     ]
    }
   ],
   "metadata": {
    "scrolled": true
   }
  },
  {
   "cell_type": "markdown",
   "source": [
    "### Download dataset and find some examples"
   ],
   "metadata": {}
  },
  {
   "cell_type": "code",
   "execution_count": null,
   "source": [
    "# ALREADY DOWNLOADED\n",
    "#dataset = Dataset.get_by_name(workspace, name='anon-depthmap-mini')\n",
    "#dataset.download(target_path='./dataset', overwrite=False)"
   ],
   "outputs": [],
   "metadata": {
    "scrolled": false
   }
  },
  {
   "cell_type": "code",
   "execution_count": null,
   "source": [
    "! ls ./dataset/scans/1585013033-l9ucees2h5"
   ],
   "outputs": [],
   "metadata": {
    "scrolled": false
   }
  },
  {
   "cell_type": "code",
   "execution_count": 13,
   "source": [
    "scan_paths = [\"./dataset/scans/1585273961-7dw2qedbor/100/pc_1585273961-7dw2qedbor_1592533886956_100_000.p\", \n",
    "              \"./dataset/scans/1585273961-7dw2qedbor/100/pc_1585273961-7dw2qedbor_1592533886956_100_014.p\",\n",
    "              \"./dataset/scans/1585356905-3hddkdz687/100/pc_1585356905-3hddkdz687_1592798873065_100_000.p\",\n",
    "              \"./dataset/scans/1585356905-3hddkdz687/100/pc_1585356905-3hddkdz687_1592798873065_100_006.p\"]"
   ],
   "outputs": [],
   "metadata": {
    "scrolled": false
   }
  },
  {
   "cell_type": "code",
   "execution_count": 14,
   "source": [
    "normalization_value = 7.5\n",
    "\n",
    "depthmap0, target0 = tf_load_pickle(scan_paths[0], normalization_value)\n",
    "plt.imshow(depthmap0)\n",
    "plt.show()"
   ],
   "outputs": [
    {
     "output_type": "display_data",
     "data": {
      "image/png": "[encoded data removed]",
      "text/plain": [
       "<Figure size 432x288 with 1 Axes>"
      ]
     },
     "metadata": {
      "needs_background": "light"
     }
    }
   ],
   "metadata": {
    "scrolled": true
   }
  },
  {
   "cell_type": "code",
   "execution_count": 15,
   "source": [
    "depthmap2, target2 = tf_load_pickle(scan_paths[2], normalization_value)\n",
    "plt.imshow(depthmap2)\n",
    "plt.show()"
   ],
   "outputs": [
    {
     "output_type": "display_data",
     "data": {
      "image/png": "[encoded data removed]",
      "text/plain": [
       "<Figure size 432x288 with 1 Axes>"
      ]
     },
     "metadata": {
      "needs_background": "light"
     }
    }
   ],
   "metadata": {}
  },
  {
   "cell_type": "markdown",
   "source": [
    "### Prepare depthmap"
   ],
   "metadata": {}
  },
  {
   "cell_type": "code",
   "execution_count": null,
   "source": [
    "print(type(depthmap0))\n",
    "print(depthmap0.shape)\n",
    "\n",
    "depthmap_np0 = np.array(depthmap0)\n",
    "print(type(depthmap_np0))\n",
    "print(depthmap_np0.shape)\n",
    "\n",
    "depthmap_array0 = depthmap_np0.reshape(1, 240, 180, 1)\n",
    "print(type(depthmap_array0))\n",
    "print(depthmap_array0.shape)\n",
    "\n",
    "save_as_filename0 = \"grad_cam_result_cgm_depthmap0.jpg\""
   ],
   "outputs": [],
   "metadata": {
    "scrolled": false
   }
  },
  {
   "cell_type": "code",
   "execution_count": null,
   "source": [
    "print(type(depthmap2))\n",
    "print(depthmap2.shape)\n",
    "\n",
    "depthmap_np2 = np.array(depthmap2)\n",
    "print(type(depthmap_np2))\n",
    "print(depthmap_np2.shape)\n",
    "\n",
    "depthmap_array2 = depthmap_np2.reshape(1, 240, 180, 1)\n",
    "print(type(depthmap_array2))\n",
    "print(depthmap_array2.shape)\n",
    "\n",
    "save_as_filename2 = \"grad_cam_result_cgm_depthmap2.jpg\""
   ],
   "outputs": [],
   "metadata": {}
  },
  {
   "cell_type": "markdown",
   "source": [
    "### Create heatmap"
   ],
   "metadata": {}
  },
  {
   "cell_type": "code",
   "execution_count": null,
   "source": [
    "# Remove last layer's softmax\n",
    "height_model.layers[-1].activation = None\n",
    "\n",
    "# Generate class activation heatmap\n",
    "heatmap0 = make_gradcam_heatmap(depthmap_array0, height_model, 'conv2d_11')\n",
    "#heatmap1 = make_gradcam_heatmap(depthmap_array1, model, 'conv2d_11')\n",
    "heatmap2 = make_gradcam_heatmap(depthmap_array2, height_model, 'conv2d_11')\n",
    "#heatmap3 = make_gradcam_heatmap(depthmap_array3, model, 'conv2d_11')\n",
    "\n",
    "# Display heatmap\n",
    "plt.matshow(heatmap0)\n",
    "#plt.matshow(heatmap1)\n",
    "plt.matshow(heatmap2)\n",
    "#plt.matshow(heatmap3)\n",
    "plt.show()"
   ],
   "outputs": [],
   "metadata": {
    "scrolled": false
   }
  },
  {
   "cell_type": "code",
   "execution_count": null,
   "source": [
    "save_and_display_gradcam(depthmap_array0, heatmap0, save_as_filename0)"
   ],
   "outputs": [],
   "metadata": {}
  },
  {
   "cell_type": "code",
   "execution_count": null,
   "source": [
    "save_and_display_gradcam(depthmap_array2, heatmap2, save_as_filename2)"
   ],
   "outputs": [],
   "metadata": {}
  },
  {
   "cell_type": "markdown",
   "source": [
    "## Below: dataset test, forget this"
   ],
   "metadata": {}
  },
  {
   "cell_type": "code",
   "execution_count": null,
   "source": [
    "# Get the QR-code paths.\n",
    "dataset_path = \"./dataset/scans/\"\n",
    "print(\"Dataset path:\", dataset_path)\n",
    "#print(glob.glob(os.path.join(dataset_path, \"*\"))) # Debug\n",
    "print(\"Getting QR-code paths...\")\n",
    "qrcode_paths = glob.glob(os.path.join(dataset_path, \"*\"))\n",
    "print(\"Len qr-code paths: \", len(qrcode_paths))"
   ],
   "outputs": [],
   "metadata": {}
  },
  {
   "cell_type": "code",
   "execution_count": null,
   "source": [
    "depthmap_picklefile_paths = get_depthmap_files(qrcode_paths)"
   ],
   "outputs": [],
   "metadata": {}
  },
  {
   "cell_type": "code",
   "execution_count": null,
   "source": [
    "print(\"Len qr-depthmap_picklefile_paths: \", len(depthmap_picklefile_paths))"
   ],
   "outputs": [],
   "metadata": {}
  },
  {
   "cell_type": "code",
   "execution_count": null,
   "source": [
    "normalization_value = 7.5\n",
    "\n",
    "dataset = tf.data.Dataset.from_tensor_slices(depthmap_picklefile_paths)\n",
    "dataset = dataset.map(lambda path: tf_load_pickle(depthmap_picklefile_paths, normalization_value))\n",
    "dataset = dataset.cache()\n",
    "dataset = dataset.prefetch(tf.data.experimental.AUTOTUNE)"
   ],
   "outputs": [],
   "metadata": {}
  },
  {
   "cell_type": "code",
   "execution_count": null,
   "source": [
    "print(type(dataset))"
   ],
   "outputs": [],
   "metadata": {}
  },
  {
   "cell_type": "markdown",
   "source": [
    "# READ ABOUT TF PREFETCHED DATASETS"
   ],
   "metadata": {}
  },
  {
   "cell_type": "markdown",
   "source": [
    "# -> STOP: RG gives out numpy arrays after preprocessing.process_depthmaps"
   ],
   "metadata": {}
  },
  {
   "cell_type": "markdown",
   "source": [
    "# Height Flow - adapt inference.get_height_predictions_local"
   ],
   "metadata": {}
  },
  {
   "cell_type": "code",
   "execution_count": null,
   "source": [
    "#class HeightFlowPlainCnn(HeightFlow):\n",
    "#    def run_flow(self):\n",
    "#        depthmaps = preprocessing.process_depthmaps(self.artifacts, self.scan_directory, self.result_generation)\n",
    "#        height_predictions = inference.get_height_predictions_local(depthmaps)\n",
    "#        generated_timestamp = datetime.now().strftime('%Y-%m-%dT%H:%M:%SZ')\n",
    "#        self.post_height_results(height_predictions, generated_timestamp)\n",
    "\n",
    "#def get_height_predictions_local(numpy_array):\n",
    "#    return height_model.predict(numpy_array)"
   ],
   "outputs": [],
   "metadata": {}
  },
  {
   "cell_type": "markdown",
   "source": [
    "## re-write get_height_predictions_local to get_height_prediction_and_heatmap_local"
   ],
   "metadata": {}
  },
  {
   "cell_type": "code",
   "execution_count": null,
   "source": [
    "def get_height_pred_local_and_gradcam(numpy_array):\n",
    "    height_prediction = height_model.predict(numpy_array)\n",
    "    #do gradcam\n",
    "    #note: load_model is called in cgm-rg - but I still had to do the compilation stuff \"manually\" to get gradcam work\n",
    "    # Remove last layer's softmax\n",
    "    height_model.layers[-1].activation = None \n",
    "    last_conv_layer_name = 'conv2d_11'  # How can I retrieve this for different models dynamically?\n",
    "    heatmap = make_gradcam_heatmap(numpy_array, height_model, last_conv_layer_name)  # where do we put this function make_gradcam_heatmap\n",
    "    gradcam = return_gradcam(numpy_array, heatmap, transparency=0.3)\n",
    "    \n",
    "    return height_prediction, gradcam"
   ],
   "outputs": [],
   "metadata": {}
  },
  {
   "cell_type": "markdown",
   "source": [
    "## HOW can I dynamically get the name of the last conv layer"
   ],
   "metadata": {}
  },
  {
   "cell_type": "code",
   "execution_count": null,
   "source": [
    "def get_height_predictions_local(numpy_array):\n",
    "    return model.predict(numpy_array)"
   ],
   "outputs": [],
   "metadata": {}
  },
  {
   "cell_type": "markdown",
   "source": [
    "## TODO: turn my input depthmaps into numpy_arrays"
   ],
   "metadata": {}
  },
  {
   "cell_type": "code",
   "execution_count": null,
   "source": [
    "#from cgm-rg\n",
    "def preprocess(depthmap):\n",
    "    depthmap = preprocess_depthmap(depthmap)\n",
    "    depthmap = depthmap / NORMALIZATION_VALUE\n",
    "    depthmap = resize(depthmap, (IMAGE_TARGET_HEIGHT, IMAGE_TARGET_WIDTH))\n",
    "    depthmap = depthmap.reshape((depthmap.shape[0], depthmap.shape[1], 1))\n",
    "    return depthmap"
   ],
   "outputs": [],
   "metadata": {}
  }
 ],
 "metadata": {
  "orig_nbformat": 4,
  "language_info": {
   "name": "python",
   "version": "3.7.9",
   "mimetype": "text/x-python",
   "codemirror_mode": {
    "name": "ipython",
    "version": 3
   },
   "pygments_lexer": "ipython3",
   "nbconvert_exporter": "python",
   "file_extension": ".py"
  },
  "kernelspec": {
   "name": "python3",
   "display_name": "Python 3.7.9 64-bit ('py37-cgm': pyenv)"
  },
  "interpreter": {
   "hash": "b53cbebab1e12bd5adac4bb65b5ac2e11170cb1e4b68b2592d17c19e78095242"
  }
 },
 "nbformat": 4,
 "nbformat_minor": 2
}