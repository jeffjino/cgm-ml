{
 "cells": [
  {
   "cell_type": "code",
   "execution_count": null,
   "source": [
    "%reload_ext autoreload\n",
    "%autoreload 2\n",
    "\n",
    "from copy import copy\n",
    "import os\n",
    "from pathlib import Path\n",
    "from pathlib import Path\n",
    "import pickle\n",
    "\n",
    "%matplotlib inline\n",
    "import matplotlib.pyplot as plt\n",
    "from bunch import Bunch\n",
    "import numpy as np\n",
    "import tensorflow as tf\n",
    "import glob2 as glob\n",
    "from azureml.core import Experiment, Workspace\n",
    "from azureml.core.run import Run\n",
    "\n",
    "from visualisation import render_plot\n",
    "from exporter import export_obj\n",
    "from constants import MASK_CHILD\n",
    "from depthmap import Depthmap\n",
    "\n",
    "REPO_DIR = Path('/Users/markus/Development/cgm/cgm-ml')\n",
    "sys.path.append(str(REPO_DIR /'cgmml'))\n",
    "\n",
    "from cgmml.common.model_utils.utils import download_dataset, get_dataset_path, AzureLogCallback, create_tensorboard_callback, get_optimizer, setup_wandb\n",
    "from cgmml.common.model_utils.preprocessing import filter_blacklisted_qrcodes, preprocess_depthmap, preprocess_targets"
   ],
   "outputs": [],
   "metadata": {}
  },
  {
   "cell_type": "code",
   "execution_count": null,
   "source": [
    "TOOLKIT_DIR = Path(os.getcwd()).absolute()\n",
    "print(TOOLKIT_DIR)\n",
    "calibration_fpath = TOOLKIT_DIR / 'tests' / 'huawei_p40pro' / 'camera_calibration.txt'"
   ],
   "outputs": [],
   "metadata": {}
  },
  {
   "cell_type": "code",
   "execution_count": null,
   "source": [
    "DATASET_MODE_DOWNLOAD = \"dataset_mode_download\"\n",
    "DATASET_MODE_MOUNT = \"dataset_mode_mount\"\n",
    "\n",
    "CONFIG = Bunch(dict(\n",
    "    DATASET_MODE=DATASET_MODE_DOWNLOAD,\n",
    "    DATASET_NAME=\"anon-rgbd-5kscans\",\n",
    "    DATASET_NAME_LOCAL=\"anon-rgbd-5kscans-mini\",  # 20 qrcodes\n",
    "    SPLIT_SEED=0,\n",
    "    IMAGE_TARGET_HEIGHT=240,\n",
    "    IMAGE_TARGET_WIDTH=180,\n",
    "    CODES=['100', '101', '102', '200', '201', '202'],\n",
    "    NORMALIZATION_VALUE=7.5,\n",
    "    TARGET_INDEXES=[0],  # 0 is height, 1 is weight.\n",
    "))\n",
    "\n",
    "\n",
    "def tf_load_pickle(path, max_value):\n",
    "    def py_load_pickle(path, max_value):\n",
    "        rgbd, targets = pickle.load(open(path.numpy(), \"rb\"))\n",
    "        rgb = rgbd[0]  # shape: (240, 180, 3)\n",
    "        depthmap = rgbd[1]  # shape: (240, 180)\n",
    "\n",
    "        rgb = preprocess_depthmap(rgb)\n",
    "        rgb = rgb / 255.\n",
    "\n",
    "        depthmap = preprocess_depthmap(depthmap)\n",
    "        depthmap = depthmap / max_value\n",
    "        depthmap = tf.expand_dims(depthmap, -1)  # shape: (240, 180, 1)\n",
    "        rgbd = tf.concat([rgb, depthmap], axis=2)\n",
    "        rgbd = tf.image.resize(rgbd, (CONFIG.IMAGE_TARGET_HEIGHT, CONFIG.IMAGE_TARGET_WIDTH))\n",
    "        targets = preprocess_targets(targets, CONFIG.TARGET_INDEXES)\n",
    "        return rgbd, targets\n",
    "\n",
    "    rgbd, targets = tf.py_function(py_load_pickle, [path, max_value], [tf.float32, tf.float32])\n",
    "    rgbd.set_shape((CONFIG.IMAGE_TARGET_HEIGHT, CONFIG.IMAGE_TARGET_WIDTH, 4))\n",
    "    targets.set_shape((len(CONFIG.TARGET_INDEXES,)))\n",
    "    return rgbd, targets\n",
    "\n",
    "def get_depthmap_files(paths):\n",
    "    pickle_paths = []\n",
    "    for path in paths:\n",
    "        for code in CONFIG.CODES:\n",
    "            pickle_paths.extend(glob.glob(os.path.join(path, code, \"*.p\")))\n",
    "    return pickle_paths"
   ],
   "outputs": [],
   "metadata": {}
  },
  {
   "cell_type": "code",
   "execution_count": null,
   "source": [
    "run = Run.get_context()\n",
    "DATA_DIR = REPO_DIR / 'data' if run.id.startswith(\"OfflineRun\") else Path(\".\")\n",
    "\n",
    "# Offline run. Download the sample dataset and run locally. Still push results to Azure.\n",
    "if run.id.startswith(\"OfflineRun\"):\n",
    "    workspace = Workspace.from_config()\n",
    "    experiment = Experiment(workspace, \"training-junkyard\")\n",
    "    run = experiment.start_logging(outputs=None, snapshot_directory=None)\n",
    "\n",
    "    dataset_name = CONFIG.DATASET_NAME_LOCAL\n",
    "    dataset_path = get_dataset_path(DATA_DIR, dataset_name)\n",
    "    download_dataset(workspace, dataset_name, dataset_path)\n",
    "else:\n",
    "    assert False\n",
    "\n",
    "dataset_path = os.path.join(dataset_path, \"qrcode\")\n",
    "print(f'Dataset path: {dataset_path}')\n",
    "print('Getting QR-code paths...')\n",
    "qrcode_paths = glob.glob(os.path.join(dataset_path, \"*\"))\n",
    "print(f'qrcode_paths: {len(qrcode_paths)}')\n",
    "assert len(qrcode_paths) != 0\n",
    "\n",
    "qrcode_paths = glob.glob(os.path.join(dataset_path, \"*\"))\n",
    "print(f'qrcode_paths: {len(qrcode_paths)}')\n",
    "assert len(qrcode_paths) != 0\n",
    "\n",
    "paths_training = get_depthmap_files(qrcode_paths)"
   ],
   "outputs": [],
   "metadata": {}
  },
  {
   "cell_type": "code",
   "execution_count": null,
   "source": [
    "path = paths_training[0]\n",
    "path"
   ],
   "outputs": [],
   "metadata": {}
  },
  {
   "cell_type": "code",
   "execution_count": null,
   "source": [
    "rgbd, target = tf_load_pickle(path, CONFIG.NORMALIZATION_VALUE)\n",
    "rgbd_arr = rgbd.numpy()\n",
    "bgr = rgbd_arr[:, :, :3]\n",
    "rgb = bgr[:, :, ::-1]\n",
    "\n",
    "depthmap = rgbd_arr[:, :, -1]\n",
    "depthmap_rescaled = depthmap / depthmap.max() * 255"
   ],
   "outputs": [],
   "metadata": {}
  },
  {
   "cell_type": "code",
   "execution_count": null,
   "source": [
    "dmap = Depthmap.create_from_array(depthmap_arr=depthmap, rgb_arr=rgb, calibration_fpath=str(calibration_fpath))"
   ],
   "outputs": [],
   "metadata": {}
  },
  {
   "cell_type": "code",
   "execution_count": null,
   "source": [
    "floor = dmap.get_floor_level()\n",
    "mask = dmap.segment_child(floor)"
   ],
   "outputs": [],
   "metadata": {}
  },
  {
   "cell_type": "code",
   "execution_count": null,
   "source": [
    "mask.min(), mask.max()"
   ],
   "outputs": [],
   "metadata": {}
  },
  {
   "cell_type": "code",
   "execution_count": null,
   "source": [
    "plt.imshow(mask, cmap='gray');"
   ],
   "outputs": [],
   "metadata": {}
  },
  {
   "cell_type": "code",
   "execution_count": null,
   "source": [
    "mask_child = (mask==MASK_CHILD).astype(np.int)"
   ],
   "outputs": [],
   "metadata": {}
  },
  {
   "cell_type": "code",
   "execution_count": null,
   "source": [
    "plt.imshow(mask_child, cmap='gray');"
   ],
   "outputs": [],
   "metadata": {}
  },
  {
   "cell_type": "code",
   "execution_count": null,
   "source": [],
   "outputs": [],
   "metadata": {}
  },
  {
   "cell_type": "code",
   "execution_count": null,
   "source": [],
   "outputs": [],
   "metadata": {}
  },
  {
   "cell_type": "code",
   "execution_count": null,
   "source": [],
   "outputs": [],
   "metadata": {}
  },
  {
   "cell_type": "code",
   "execution_count": null,
   "source": [
    "plt.imshow(rgb);"
   ],
   "outputs": [],
   "metadata": {}
  },
  {
   "cell_type": "code",
   "execution_count": null,
   "source": [
    "plt.imshow(depthmap, cmap='gray');"
   ],
   "outputs": [],
   "metadata": {}
  },
  {
   "cell_type": "code",
   "execution_count": null,
   "source": [
    "plt.imshow(depthmap_rescaled, cmap='gray');"
   ],
   "outputs": [],
   "metadata": {}
  },
  {
   "cell_type": "code",
   "execution_count": null,
   "source": [
    "print(rgb.shape, depthmap.shape)\n",
    "rgd = copy(rgb)\n",
    "rgd[:,:,-1] = depthmap_rescaled\n",
    "plt.imshow(rgd);"
   ],
   "outputs": [],
   "metadata": {}
  },
  {
   "cell_type": "code",
   "execution_count": null,
   "source": [],
   "outputs": [],
   "metadata": {}
  }
 ],
 "metadata": {
  "file_extension": ".py",
  "interpreter": {
   "hash": "e88cacac4a4e81780274e5b67662f71286bfdfe71b49b67699dc84b91a2b06f4"
  },
  "kernel_info": {
   "name": "python3"
  },
  "kernelspec": {
   "name": "python3",
   "display_name": "Python 3.7.5 64-bit ('env_p_3': virtualenvwrapper)"
  },
  "language_info": {
   "codemirror_mode": {
    "name": "ipython",
    "version": 3
   },
   "file_extension": ".py",
   "mimetype": "text/x-python",
   "name": "python",
   "nbconvert_exporter": "python",
   "pygments_lexer": "ipython3",
   "version": "3.7.5"
  },
  "mimetype": "text/x-python",
  "name": "python",
  "npconvert_exporter": "python",
  "nteract": {
   "version": "nteract-front-end@1.0.0"
  },
  "pygments_lexer": "ipython3",
  "version": 3
 },
 "nbformat": 4,
 "nbformat_minor": 4
}